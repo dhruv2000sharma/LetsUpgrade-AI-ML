{
 "cells": [
  {
   "cell_type": "code",
   "execution_count": 1,
   "metadata": {},
   "outputs": [],
   "source": [
    "import pandas as pd\n",
    "import statsmodels.api as sm\n",
    "import math as m"
   ]
  },
  {
   "cell_type": "code",
   "execution_count": 44,
   "metadata": {},
   "outputs": [
    {
     "data": {
      "text/html": [
       "<div>\n",
       "<style scoped>\n",
       "    .dataframe tbody tr th:only-of-type {\n",
       "        vertical-align: middle;\n",
       "    }\n",
       "\n",
       "    .dataframe tbody tr th {\n",
       "        vertical-align: top;\n",
       "    }\n",
       "\n",
       "    .dataframe thead th {\n",
       "        text-align: right;\n",
       "    }\n",
       "</style>\n",
       "<table border=\"1\" class=\"dataframe\">\n",
       "  <thead>\n",
       "    <tr style=\"text-align: right;\">\n",
       "      <th></th>\n",
       "      <th>ID</th>\n",
       "      <th>Age</th>\n",
       "      <th>Experience</th>\n",
       "      <th>Income</th>\n",
       "      <th>ZIP Code</th>\n",
       "      <th>Family</th>\n",
       "      <th>CCAvg</th>\n",
       "      <th>Education</th>\n",
       "      <th>Mortgage</th>\n",
       "      <th>Personal Loan</th>\n",
       "      <th>Securities Account</th>\n",
       "      <th>CD Account</th>\n",
       "      <th>Online</th>\n",
       "      <th>CreditCard</th>\n",
       "    </tr>\n",
       "  </thead>\n",
       "  <tbody>\n",
       "    <tr>\n",
       "      <th>0</th>\n",
       "      <td>1</td>\n",
       "      <td>25</td>\n",
       "      <td>1</td>\n",
       "      <td>49</td>\n",
       "      <td>91107</td>\n",
       "      <td>4</td>\n",
       "      <td>1.6</td>\n",
       "      <td>1</td>\n",
       "      <td>0</td>\n",
       "      <td>0</td>\n",
       "      <td>1</td>\n",
       "      <td>0</td>\n",
       "      <td>0</td>\n",
       "      <td>0</td>\n",
       "    </tr>\n",
       "    <tr>\n",
       "      <th>1</th>\n",
       "      <td>2</td>\n",
       "      <td>45</td>\n",
       "      <td>19</td>\n",
       "      <td>34</td>\n",
       "      <td>90089</td>\n",
       "      <td>3</td>\n",
       "      <td>1.5</td>\n",
       "      <td>1</td>\n",
       "      <td>0</td>\n",
       "      <td>0</td>\n",
       "      <td>1</td>\n",
       "      <td>0</td>\n",
       "      <td>0</td>\n",
       "      <td>0</td>\n",
       "    </tr>\n",
       "    <tr>\n",
       "      <th>2</th>\n",
       "      <td>3</td>\n",
       "      <td>39</td>\n",
       "      <td>15</td>\n",
       "      <td>11</td>\n",
       "      <td>94720</td>\n",
       "      <td>1</td>\n",
       "      <td>1.0</td>\n",
       "      <td>1</td>\n",
       "      <td>0</td>\n",
       "      <td>0</td>\n",
       "      <td>0</td>\n",
       "      <td>0</td>\n",
       "      <td>0</td>\n",
       "      <td>0</td>\n",
       "    </tr>\n",
       "    <tr>\n",
       "      <th>3</th>\n",
       "      <td>4</td>\n",
       "      <td>35</td>\n",
       "      <td>9</td>\n",
       "      <td>100</td>\n",
       "      <td>94112</td>\n",
       "      <td>1</td>\n",
       "      <td>2.7</td>\n",
       "      <td>2</td>\n",
       "      <td>0</td>\n",
       "      <td>0</td>\n",
       "      <td>0</td>\n",
       "      <td>0</td>\n",
       "      <td>0</td>\n",
       "      <td>0</td>\n",
       "    </tr>\n",
       "    <tr>\n",
       "      <th>4</th>\n",
       "      <td>5</td>\n",
       "      <td>35</td>\n",
       "      <td>8</td>\n",
       "      <td>45</td>\n",
       "      <td>91330</td>\n",
       "      <td>4</td>\n",
       "      <td>1.0</td>\n",
       "      <td>2</td>\n",
       "      <td>0</td>\n",
       "      <td>0</td>\n",
       "      <td>0</td>\n",
       "      <td>0</td>\n",
       "      <td>0</td>\n",
       "      <td>1</td>\n",
       "    </tr>\n",
       "  </tbody>\n",
       "</table>\n",
       "</div>"
      ],
      "text/plain": [
       "   ID  Age  Experience  Income  ZIP Code  Family  CCAvg  Education  Mortgage  \\\n",
       "0   1   25           1      49     91107       4    1.6          1         0   \n",
       "1   2   45          19      34     90089       3    1.5          1         0   \n",
       "2   3   39          15      11     94720       1    1.0          1         0   \n",
       "3   4   35           9     100     94112       1    2.7          2         0   \n",
       "4   5   35           8      45     91330       4    1.0          2         0   \n",
       "\n",
       "   Personal Loan  Securities Account  CD Account  Online  CreditCard  \n",
       "0              0                   1           0       0           0  \n",
       "1              0                   1           0       0           0  \n",
       "2              0                   0           0       0           0  \n",
       "3              0                   0           0       0           0  \n",
       "4              0                   0           0       0           1  "
      ]
     },
     "execution_count": 44,
     "metadata": {},
     "output_type": "execute_result"
    }
   ],
   "source": [
    "df = pd.read_excel('C:\\\\Users\\\\HP\\\\Bank_Personal_Loan_Modelling.xlsx', sheet_name=0)\n",
    "df.head()"
   ]
  },
  {
   "cell_type": "code",
   "execution_count": 35,
   "metadata": {},
   "outputs": [
    {
     "data": {
      "text/plain": [
       "(4987, 12)"
      ]
     },
     "execution_count": 35,
     "metadata": {},
     "output_type": "execute_result"
    }
   ],
   "source": [
    "df = df.drop(columns = ['ID', 'ZIP Code'] )\n",
    "df.drop_duplicates(inplace=True)\n",
    "df.shape"
   ]
  },
  {
   "cell_type": "code",
   "execution_count": 45,
   "metadata": {},
   "outputs": [],
   "source": [
    "Y = df['Personal Loan']\n",
    "X = df[['Age', 'Experience', 'Income', 'Family', 'CCAvg', 'Education', 'Mortgage', 'Securities Account', 'CD Account', 'Online', 'CreditCard']]"
   ]
  },
  {
   "cell_type": "code",
   "execution_count": 46,
   "metadata": {},
   "outputs": [],
   "source": [
    "X1 = sm.add_constant(X)\n",
    "Logistic = sm.Logit(Y,X1)"
   ]
  },
  {
   "cell_type": "code",
   "execution_count": 47,
   "metadata": {},
   "outputs": [
    {
     "name": "stdout",
     "output_type": "stream",
     "text": [
      "Optimization terminated successfully.\n",
      "         Current function value: 0.128435\n",
      "         Iterations 9\n"
     ]
    }
   ],
   "source": [
    "result = Logistic.fit()"
   ]
  },
  {
   "cell_type": "code",
   "execution_count": 48,
   "metadata": {},
   "outputs": [
    {
     "data": {
      "text/html": [
       "<table class=\"simpletable\">\n",
       "<caption>Logit Regression Results</caption>\n",
       "<tr>\n",
       "  <th>Dep. Variable:</th>     <td>Personal Loan</td>  <th>  No. Observations:  </th>  <td>  5000</td> \n",
       "</tr>\n",
       "<tr>\n",
       "  <th>Model:</th>                 <td>Logit</td>      <th>  Df Residuals:      </th>  <td>  4988</td> \n",
       "</tr>\n",
       "<tr>\n",
       "  <th>Method:</th>                 <td>MLE</td>       <th>  Df Model:          </th>  <td>    11</td> \n",
       "</tr>\n",
       "<tr>\n",
       "  <th>Date:</th>            <td>Sun, 09 Aug 2020</td> <th>  Pseudo R-squ.:     </th>  <td>0.5938</td> \n",
       "</tr>\n",
       "<tr>\n",
       "  <th>Time:</th>                <td>13:26:12</td>     <th>  Log-Likelihood:    </th> <td> -642.18</td>\n",
       "</tr>\n",
       "<tr>\n",
       "  <th>converged:</th>             <td>True</td>       <th>  LL-Null:           </th> <td> -1581.0</td>\n",
       "</tr>\n",
       "<tr>\n",
       "  <th>Covariance Type:</th>     <td>nonrobust</td>    <th>  LLR p-value:       </th>  <td> 0.000</td> \n",
       "</tr>\n",
       "</table>\n",
       "<table class=\"simpletable\">\n",
       "<tr>\n",
       "           <td></td>             <th>coef</th>     <th>std err</th>      <th>z</th>      <th>P>|z|</th>  <th>[0.025</th>    <th>0.975]</th>  \n",
       "</tr>\n",
       "<tr>\n",
       "  <th>const</th>              <td>  -12.1928</td> <td>    1.645</td> <td>   -7.411</td> <td> 0.000</td> <td>  -15.417</td> <td>   -8.968</td>\n",
       "</tr>\n",
       "<tr>\n",
       "  <th>Age</th>                <td>   -0.0536</td> <td>    0.061</td> <td>   -0.874</td> <td> 0.382</td> <td>   -0.174</td> <td>    0.067</td>\n",
       "</tr>\n",
       "<tr>\n",
       "  <th>Experience</th>         <td>    0.0638</td> <td>    0.061</td> <td>    1.046</td> <td> 0.295</td> <td>   -0.056</td> <td>    0.183</td>\n",
       "</tr>\n",
       "<tr>\n",
       "  <th>Income</th>             <td>    0.0546</td> <td>    0.003</td> <td>   20.831</td> <td> 0.000</td> <td>    0.049</td> <td>    0.060</td>\n",
       "</tr>\n",
       "<tr>\n",
       "  <th>Family</th>             <td>    0.6958</td> <td>    0.074</td> <td>    9.364</td> <td> 0.000</td> <td>    0.550</td> <td>    0.841</td>\n",
       "</tr>\n",
       "<tr>\n",
       "  <th>CCAvg</th>              <td>    0.1240</td> <td>    0.040</td> <td>    3.127</td> <td> 0.002</td> <td>    0.046</td> <td>    0.202</td>\n",
       "</tr>\n",
       "<tr>\n",
       "  <th>Education</th>          <td>    1.7362</td> <td>    0.115</td> <td>   15.088</td> <td> 0.000</td> <td>    1.511</td> <td>    1.962</td>\n",
       "</tr>\n",
       "<tr>\n",
       "  <th>Mortgage</th>           <td>    0.0005</td> <td>    0.001</td> <td>    0.856</td> <td> 0.392</td> <td>   -0.001</td> <td>    0.002</td>\n",
       "</tr>\n",
       "<tr>\n",
       "  <th>Securities Account</th> <td>   -0.9368</td> <td>    0.286</td> <td>   -3.277</td> <td> 0.001</td> <td>   -1.497</td> <td>   -0.377</td>\n",
       "</tr>\n",
       "<tr>\n",
       "  <th>CD Account</th>         <td>    3.8225</td> <td>    0.324</td> <td>   11.800</td> <td> 0.000</td> <td>    3.188</td> <td>    4.457</td>\n",
       "</tr>\n",
       "<tr>\n",
       "  <th>Online</th>             <td>   -0.6752</td> <td>    0.157</td> <td>   -4.298</td> <td> 0.000</td> <td>   -0.983</td> <td>   -0.367</td>\n",
       "</tr>\n",
       "<tr>\n",
       "  <th>CreditCard</th>         <td>   -1.1197</td> <td>    0.205</td> <td>   -5.462</td> <td> 0.000</td> <td>   -1.522</td> <td>   -0.718</td>\n",
       "</tr>\n",
       "</table>"
      ],
      "text/plain": [
       "<class 'statsmodels.iolib.summary.Summary'>\n",
       "\"\"\"\n",
       "                           Logit Regression Results                           \n",
       "==============================================================================\n",
       "Dep. Variable:          Personal Loan   No. Observations:                 5000\n",
       "Model:                          Logit   Df Residuals:                     4988\n",
       "Method:                           MLE   Df Model:                           11\n",
       "Date:                Sun, 09 Aug 2020   Pseudo R-squ.:                  0.5938\n",
       "Time:                        13:26:12   Log-Likelihood:                -642.18\n",
       "converged:                       True   LL-Null:                       -1581.0\n",
       "Covariance Type:            nonrobust   LLR p-value:                     0.000\n",
       "======================================================================================\n",
       "                         coef    std err          z      P>|z|      [0.025      0.975]\n",
       "--------------------------------------------------------------------------------------\n",
       "const                -12.1928      1.645     -7.411      0.000     -15.417      -8.968\n",
       "Age                   -0.0536      0.061     -0.874      0.382      -0.174       0.067\n",
       "Experience             0.0638      0.061      1.046      0.295      -0.056       0.183\n",
       "Income                 0.0546      0.003     20.831      0.000       0.049       0.060\n",
       "Family                 0.6958      0.074      9.364      0.000       0.550       0.841\n",
       "CCAvg                  0.1240      0.040      3.127      0.002       0.046       0.202\n",
       "Education              1.7362      0.115     15.088      0.000       1.511       1.962\n",
       "Mortgage               0.0005      0.001      0.856      0.392      -0.001       0.002\n",
       "Securities Account    -0.9368      0.286     -3.277      0.001      -1.497      -0.377\n",
       "CD Account             3.8225      0.324     11.800      0.000       3.188       4.457\n",
       "Online                -0.6752      0.157     -4.298      0.000      -0.983      -0.367\n",
       "CreditCard            -1.1197      0.205     -5.462      0.000      -1.522      -0.718\n",
       "======================================================================================\n",
       "\"\"\""
      ]
     },
     "execution_count": 48,
     "metadata": {},
     "output_type": "execute_result"
    }
   ],
   "source": [
    "result.summary()"
   ]
  },
  {
   "cell_type": "markdown",
   "metadata": {},
   "source": [
    "# Inference"
   ]
  },
  {
   "cell_type": "markdown",
   "metadata": {},
   "source": [
    "When a bank wants to offer a loan, the following factors are highly significant:\n",
    "\n",
    "1. Annual income of the customer\n",
    "2. Family size of the customer\n",
    "3. Education Level. 1: Undergrad; 2: Graduate; 3: Advanced/Professional\n",
    "4. Does the customer have a certificate of deposit (CD) account with the bank?\n",
    "5. Does the customer use internet banking facilities?\n",
    "6. Does the customer use a credit card issued by UniversalBank?\n",
    "\n",
    "The following factors are also significant to some extent:\n",
    "\n",
    "1. Avg. spending on credit cards per month\n",
    "2. Does the customer have a securities account with the bank?"
   ]
  },
  {
   "cell_type": "markdown",
   "metadata": {},
   "source": [
    "# Attrition"
   ]
  },
  {
   "cell_type": "code",
   "execution_count": 56,
   "metadata": {},
   "outputs": [
    {
     "data": {
      "text/plain": [
       "(4410, 24)"
      ]
     },
     "execution_count": 56,
     "metadata": {},
     "output_type": "execute_result"
    }
   ],
   "source": [
    "dfa = pd.read_csv('C:\\\\Users\\\\HP\\\\general_data.csv')\n",
    "dfa.shape"
   ]
  },
  {
   "cell_type": "code",
   "execution_count": 57,
   "metadata": {},
   "outputs": [
    {
     "data": {
      "text/plain": [
       "(4382, 24)"
      ]
     },
     "execution_count": 57,
     "metadata": {},
     "output_type": "execute_result"
    }
   ],
   "source": [
    "dfa.dropna(inplace=True)\n",
    "dfa.shape"
   ]
  },
  {
   "cell_type": "code",
   "execution_count": 58,
   "metadata": {},
   "outputs": [
    {
     "data": {
      "text/plain": [
       "Index(['Age', 'Attrition', 'BusinessTravel', 'Department', 'DistanceFromHome',\n",
       "       'Education', 'EducationField', 'EmployeeCount', 'EmployeeID', 'Gender',\n",
       "       'JobLevel', 'JobRole', 'MaritalStatus', 'MonthlyIncome',\n",
       "       'NumCompaniesWorked', 'Over18', 'PercentSalaryHike', 'StandardHours',\n",
       "       'StockOptionLevel', 'TotalWorkingYears', 'TrainingTimesLastYear',\n",
       "       'YearsAtCompany', 'YearsSinceLastPromotion', 'YearsWithCurrManager'],\n",
       "      dtype='object')"
      ]
     },
     "execution_count": 58,
     "metadata": {},
     "output_type": "execute_result"
    }
   ],
   "source": [
    "dfa.columns"
   ]
  },
  {
   "cell_type": "code",
   "execution_count": 59,
   "metadata": {},
   "outputs": [],
   "source": [
    "dfa = dfa.drop(columns = ['EmployeeID', 'EmployeeCount', 'Over18', 'StandardHours', ])"
   ]
  },
  {
   "cell_type": "code",
   "execution_count": 60,
   "metadata": {},
   "outputs": [],
   "source": [
    "from sklearn import preprocessing\n",
    "le = preprocessing.LabelEncoder()\n",
    "dfa['Attrition'] = le.fit_transform(dfa['Attrition'])\n",
    "dfa['BusinessTravel'] = le.fit_transform(dfa['BusinessTravel'])\n",
    "dfa['EducationField'] = le.fit_transform(dfa['EducationField'])\n",
    "dfa['Gender'] = le.fit_transform(dfa['Gender'])\n",
    "dfa['Department'] = le.fit_transform(dfa['Department'])\n",
    "dfa['MaritalStatus'] = le.fit_transform(dfa['MaritalStatus'])\n",
    "dfa['JobRole'] = le.fit_transform(dfa['JobRole'])"
   ]
  },
  {
   "cell_type": "code",
   "execution_count": 61,
   "metadata": {},
   "outputs": [],
   "source": [
    "Y1 = dfa['Attrition']\n",
    "X2 = dfa.drop(columns = ['Attrition'])"
   ]
  },
  {
   "cell_type": "code",
   "execution_count": 62,
   "metadata": {},
   "outputs": [],
   "source": [
    "X3 = sm.add_constant(X2)\n",
    "Logistic1 = sm.Logit(Y1,X3)"
   ]
  },
  {
   "cell_type": "code",
   "execution_count": 63,
   "metadata": {},
   "outputs": [
    {
     "name": "stdout",
     "output_type": "stream",
     "text": [
      "Optimization terminated successfully.\n",
      "         Current function value: 0.392916\n",
      "         Iterations 7\n"
     ]
    }
   ],
   "source": [
    "res = Logistic1.fit()"
   ]
  },
  {
   "cell_type": "code",
   "execution_count": 64,
   "metadata": {},
   "outputs": [
    {
     "data": {
      "text/html": [
       "<table class=\"simpletable\">\n",
       "<caption>Logit Regression Results</caption>\n",
       "<tr>\n",
       "  <th>Dep. Variable:</th>       <td>Attrition</td>    <th>  No. Observations:  </th>  <td>  4382</td>  \n",
       "</tr>\n",
       "<tr>\n",
       "  <th>Model:</th>                 <td>Logit</td>      <th>  Df Residuals:      </th>  <td>  4362</td>  \n",
       "</tr>\n",
       "<tr>\n",
       "  <th>Method:</th>                 <td>MLE</td>       <th>  Df Model:          </th>  <td>    19</td>  \n",
       "</tr>\n",
       "<tr>\n",
       "  <th>Date:</th>            <td>Sun, 09 Aug 2020</td> <th>  Pseudo R-squ.:     </th>  <td>0.1093</td>  \n",
       "</tr>\n",
       "<tr>\n",
       "  <th>Time:</th>                <td>13:33:26</td>     <th>  Log-Likelihood:    </th> <td> -1721.8</td> \n",
       "</tr>\n",
       "<tr>\n",
       "  <th>converged:</th>             <td>True</td>       <th>  LL-Null:           </th> <td> -1933.1</td> \n",
       "</tr>\n",
       "<tr>\n",
       "  <th>Covariance Type:</th>     <td>nonrobust</td>    <th>  LLR p-value:       </th> <td>8.681e-78</td>\n",
       "</tr>\n",
       "</table>\n",
       "<table class=\"simpletable\">\n",
       "<tr>\n",
       "             <td></td>                <th>coef</th>     <th>std err</th>      <th>z</th>      <th>P>|z|</th>  <th>[0.025</th>    <th>0.975]</th>  \n",
       "</tr>\n",
       "<tr>\n",
       "  <th>const</th>                   <td>    0.0270</td> <td>    0.414</td> <td>    0.065</td> <td> 0.948</td> <td>   -0.785</td> <td>    0.839</td>\n",
       "</tr>\n",
       "<tr>\n",
       "  <th>Age</th>                     <td>   -0.0307</td> <td>    0.007</td> <td>   -4.478</td> <td> 0.000</td> <td>   -0.044</td> <td>   -0.017</td>\n",
       "</tr>\n",
       "<tr>\n",
       "  <th>BusinessTravel</th>          <td>   -0.0137</td> <td>    0.066</td> <td>   -0.209</td> <td> 0.834</td> <td>   -0.143</td> <td>    0.115</td>\n",
       "</tr>\n",
       "<tr>\n",
       "  <th>Department</th>              <td>   -0.2229</td> <td>    0.082</td> <td>   -2.735</td> <td> 0.006</td> <td>   -0.383</td> <td>   -0.063</td>\n",
       "</tr>\n",
       "<tr>\n",
       "  <th>DistanceFromHome</th>        <td>   -0.0012</td> <td>    0.005</td> <td>   -0.231</td> <td> 0.818</td> <td>   -0.012</td> <td>    0.009</td>\n",
       "</tr>\n",
       "<tr>\n",
       "  <th>Education</th>               <td>   -0.0664</td> <td>    0.043</td> <td>   -1.555</td> <td> 0.120</td> <td>   -0.150</td> <td>    0.017</td>\n",
       "</tr>\n",
       "<tr>\n",
       "  <th>EducationField</th>          <td>   -0.0954</td> <td>    0.034</td> <td>   -2.849</td> <td> 0.004</td> <td>   -0.161</td> <td>   -0.030</td>\n",
       "</tr>\n",
       "<tr>\n",
       "  <th>Gender</th>                  <td>    0.0855</td> <td>    0.090</td> <td>    0.952</td> <td> 0.341</td> <td>   -0.091</td> <td>    0.262</td>\n",
       "</tr>\n",
       "<tr>\n",
       "  <th>JobLevel</th>                <td>   -0.0285</td> <td>    0.040</td> <td>   -0.716</td> <td> 0.474</td> <td>   -0.107</td> <td>    0.050</td>\n",
       "</tr>\n",
       "<tr>\n",
       "  <th>JobRole</th>                 <td>    0.0400</td> <td>    0.018</td> <td>    2.226</td> <td> 0.026</td> <td>    0.005</td> <td>    0.075</td>\n",
       "</tr>\n",
       "<tr>\n",
       "  <th>MaritalStatus</th>           <td>    0.5835</td> <td>    0.063</td> <td>    9.212</td> <td> 0.000</td> <td>    0.459</td> <td>    0.708</td>\n",
       "</tr>\n",
       "<tr>\n",
       "  <th>MonthlyIncome</th>           <td>-1.815e-06</td> <td> 9.57e-07</td> <td>   -1.897</td> <td> 0.058</td> <td>-3.69e-06</td> <td> 6.01e-08</td>\n",
       "</tr>\n",
       "<tr>\n",
       "  <th>NumCompaniesWorked</th>      <td>    0.1174</td> <td>    0.018</td> <td>    6.390</td> <td> 0.000</td> <td>    0.081</td> <td>    0.153</td>\n",
       "</tr>\n",
       "<tr>\n",
       "  <th>PercentSalaryHike</th>       <td>    0.0126</td> <td>    0.012</td> <td>    1.067</td> <td> 0.286</td> <td>   -0.011</td> <td>    0.036</td>\n",
       "</tr>\n",
       "<tr>\n",
       "  <th>StockOptionLevel</th>        <td>   -0.0675</td> <td>    0.052</td> <td>   -1.302</td> <td> 0.193</td> <td>   -0.169</td> <td>    0.034</td>\n",
       "</tr>\n",
       "<tr>\n",
       "  <th>TotalWorkingYears</th>       <td>   -0.0584</td> <td>    0.012</td> <td>   -4.873</td> <td> 0.000</td> <td>   -0.082</td> <td>   -0.035</td>\n",
       "</tr>\n",
       "<tr>\n",
       "  <th>TrainingTimesLastYear</th>   <td>   -0.1443</td> <td>    0.035</td> <td>   -4.097</td> <td> 0.000</td> <td>   -0.213</td> <td>   -0.075</td>\n",
       "</tr>\n",
       "<tr>\n",
       "  <th>YearsAtCompany</th>          <td>    0.0132</td> <td>    0.018</td> <td>    0.718</td> <td> 0.473</td> <td>   -0.023</td> <td>    0.049</td>\n",
       "</tr>\n",
       "<tr>\n",
       "  <th>YearsSinceLastPromotion</th> <td>    0.1328</td> <td>    0.020</td> <td>    6.479</td> <td> 0.000</td> <td>    0.093</td> <td>    0.173</td>\n",
       "</tr>\n",
       "<tr>\n",
       "  <th>YearsWithCurrManager</th>    <td>   -0.1394</td> <td>    0.022</td> <td>   -6.288</td> <td> 0.000</td> <td>   -0.183</td> <td>   -0.096</td>\n",
       "</tr>\n",
       "</table>"
      ],
      "text/plain": [
       "<class 'statsmodels.iolib.summary.Summary'>\n",
       "\"\"\"\n",
       "                           Logit Regression Results                           \n",
       "==============================================================================\n",
       "Dep. Variable:              Attrition   No. Observations:                 4382\n",
       "Model:                          Logit   Df Residuals:                     4362\n",
       "Method:                           MLE   Df Model:                           19\n",
       "Date:                Sun, 09 Aug 2020   Pseudo R-squ.:                  0.1093\n",
       "Time:                        13:33:26   Log-Likelihood:                -1721.8\n",
       "converged:                       True   LL-Null:                       -1933.1\n",
       "Covariance Type:            nonrobust   LLR p-value:                 8.681e-78\n",
       "===========================================================================================\n",
       "                              coef    std err          z      P>|z|      [0.025      0.975]\n",
       "-------------------------------------------------------------------------------------------\n",
       "const                       0.0270      0.414      0.065      0.948      -0.785       0.839\n",
       "Age                        -0.0307      0.007     -4.478      0.000      -0.044      -0.017\n",
       "BusinessTravel             -0.0137      0.066     -0.209      0.834      -0.143       0.115\n",
       "Department                 -0.2229      0.082     -2.735      0.006      -0.383      -0.063\n",
       "DistanceFromHome           -0.0012      0.005     -0.231      0.818      -0.012       0.009\n",
       "Education                  -0.0664      0.043     -1.555      0.120      -0.150       0.017\n",
       "EducationField             -0.0954      0.034     -2.849      0.004      -0.161      -0.030\n",
       "Gender                      0.0855      0.090      0.952      0.341      -0.091       0.262\n",
       "JobLevel                   -0.0285      0.040     -0.716      0.474      -0.107       0.050\n",
       "JobRole                     0.0400      0.018      2.226      0.026       0.005       0.075\n",
       "MaritalStatus               0.5835      0.063      9.212      0.000       0.459       0.708\n",
       "MonthlyIncome           -1.815e-06   9.57e-07     -1.897      0.058   -3.69e-06    6.01e-08\n",
       "NumCompaniesWorked          0.1174      0.018      6.390      0.000       0.081       0.153\n",
       "PercentSalaryHike           0.0126      0.012      1.067      0.286      -0.011       0.036\n",
       "StockOptionLevel           -0.0675      0.052     -1.302      0.193      -0.169       0.034\n",
       "TotalWorkingYears          -0.0584      0.012     -4.873      0.000      -0.082      -0.035\n",
       "TrainingTimesLastYear      -0.1443      0.035     -4.097      0.000      -0.213      -0.075\n",
       "YearsAtCompany              0.0132      0.018      0.718      0.473      -0.023       0.049\n",
       "YearsSinceLastPromotion     0.1328      0.020      6.479      0.000       0.093       0.173\n",
       "YearsWithCurrManager       -0.1394      0.022     -6.288      0.000      -0.183      -0.096\n",
       "===========================================================================================\n",
       "\"\"\""
      ]
     },
     "execution_count": 64,
     "metadata": {},
     "output_type": "execute_result"
    }
   ],
   "source": [
    "res.summary()"
   ]
  },
  {
   "cell_type": "markdown",
   "metadata": {},
   "source": [
    "# Inference"
   ]
  },
  {
   "cell_type": "markdown",
   "metadata": {},
   "source": [
    "The following factors highly affect attrition in employees:\n",
    "\n",
    "1. Age of the employee\n",
    "2. Marital status of the employee\n",
    "3. Total number of companies the employee has worked for\n",
    "4. Total number of years the employee has worked so far\n",
    "5. Number of times training was conducted for this employee last year\n",
    "6. Number of years since last promotion\n",
    "7. Number of years under current manager\n",
    "\n",
    "The following factors also affect attrition in employees:\n",
    "\n",
    "1. Department in company\n",
    "2. Field of education"
   ]
  }
 ],
 "metadata": {
  "kernelspec": {
   "display_name": "Python 3",
   "language": "python",
   "name": "python3"
  },
  "language_info": {
   "codemirror_mode": {
    "name": "ipython",
    "version": 3
   },
   "file_extension": ".py",
   "mimetype": "text/x-python",
   "name": "python",
   "nbconvert_exporter": "python",
   "pygments_lexer": "ipython3",
   "version": "3.7.6"
  }
 },
 "nbformat": 4,
 "nbformat_minor": 4
}
