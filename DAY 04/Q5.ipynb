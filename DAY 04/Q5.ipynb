{
 "cells": [
  {
   "cell_type": "markdown",
   "metadata": {},
   "source": [
    "# Q5. Consider a list of 10 elements. Print all the elements in the list which are greater than 7 when that number is divided 2.\n"
   ]
  },
  {
   "cell_type": "code",
   "execution_count": 4,
   "metadata": {
    "scrolled": true
   },
   "outputs": [
    {
     "name": "stdout",
     "output_type": "stream",
     "text": [
      "15 \t As 7.5 >7\n",
      "77 \t As 38.5 >7\n",
      "627 \t As 313.5 >7\n",
      "48 \t As 24.0 >7\n",
      "22 \t As 11.0 >7\n"
     ]
    }
   ],
   "source": [
    "lst1 = [15,10,12,77,627,48,22,6,14]\n",
    "for i in lst1:\n",
    "    if (i/2)>7:\n",
    "        print (i,\"\\t As\", i/2, \">7\")"
   ]
  }
 ],
 "metadata": {
  "kernelspec": {
   "display_name": "Python 3",
   "language": "python",
   "name": "python3"
  },
  "language_info": {
   "codemirror_mode": {
    "name": "ipython",
    "version": 3
   },
   "file_extension": ".py",
   "mimetype": "text/x-python",
   "name": "python",
   "nbconvert_exporter": "python",
   "pygments_lexer": "ipython3",
   "version": "3.7.6"
  }
 },
 "nbformat": 4,
 "nbformat_minor": 4
}
