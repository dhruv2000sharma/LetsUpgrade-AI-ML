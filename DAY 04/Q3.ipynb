{
 "cells": [
  {
   "cell_type": "markdown",
   "metadata": {},
   "source": [
    "# Q3. Consider two numbers. Perform their subtraction and if the result of subtraction is greater than 25, print their multiplication result else print their division result.\n",
    "\n"
   ]
  },
  {
   "cell_type": "code",
   "execution_count": 4,
   "metadata": {},
   "outputs": [
    {
     "name": "stdout",
     "output_type": "stream",
     "text": [
      "Enter first number 50\n",
      "Enter the second number 12\n",
      "Subtraction is greater than 20 \t Hence multiplication is = 600.0\n"
     ]
    }
   ],
   "source": [
    "a = float (input(\"Enter first number \"))\n",
    "b = float(input(\"Enter the second number \"))\n",
    "sub = a-b\n",
    "if sub>20:\n",
    "    print(\"Subtraction is greater than 20 \\t Hence multiplication is =\",a*b)\n",
    "else:\n",
    "    if sub<20:\n",
    "        print(\"Subtraction is lesser than 20 \\t Hence division is = \",a/b)\n",
    "    else:\n",
    "        print(\"Subtraction is equal to 20\")"
   ]
  }
 ],
 "metadata": {
  "kernelspec": {
   "display_name": "Python 3",
   "language": "python",
   "name": "python3"
  },
  "language_info": {
   "codemirror_mode": {
    "name": "ipython",
    "version": 3
   },
   "file_extension": ".py",
   "mimetype": "text/x-python",
   "name": "python",
   "nbconvert_exporter": "python",
   "pygments_lexer": "ipython3",
   "version": "3.7.6"
  }
 },
 "nbformat": 4,
 "nbformat_minor": 4
}
