{
 "cells": [
  {
   "cell_type": "markdown",
   "metadata": {},
   "source": [
    "# Q1. Research on whether addition, subtraction, multiplication, division, floor division and modulo operations be performed on complex numbers. Based on your study, implement a Python program to demonstrate these operations.\n",
    "\n"
   ]
  },
  {
   "cell_type": "code",
   "execution_count": 1,
   "metadata": {},
   "outputs": [
    {
     "name": "stdout",
     "output_type": "stream",
     "text": [
      "Enter first complex number 4-8j\n",
      "Enter second complex number 8+80j\n",
      "Addition = (12+72j) \n",
      " Subtraction = (-4-88j) \n",
      " Multiplication = (672+256j) \n",
      " Division = (-0.09405940594059406-0.0594059405940594j)\n"
     ]
    }
   ],
   "source": [
    "a = complex(input(\"Enter first complex number \"))\n",
    "b = complex(input(\"Enter second complex number \"))\n",
    "print (\"Addition =\",a+b,\"\\n Subtraction =\",a-b,\"\\n Multiplication =\",a*b,\"\\n Division =\",a/b)\n",
    "\n"
   ]
  }
 ],
 "metadata": {
  "kernelspec": {
   "display_name": "Python 3",
   "language": "python",
   "name": "python3"
  },
  "language_info": {
   "codemirror_mode": {
    "name": "ipython",
    "version": 3
   },
   "file_extension": ".py",
   "mimetype": "text/x-python",
   "name": "python",
   "nbconvert_exporter": "python",
   "pygments_lexer": "ipython3",
   "version": "3.7.6"
  }
 },
 "nbformat": 4,
 "nbformat_minor": 4
}
