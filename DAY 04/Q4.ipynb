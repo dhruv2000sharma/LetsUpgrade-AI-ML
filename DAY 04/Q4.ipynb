{
 "cells": [
  {
   "cell_type": "markdown",
   "metadata": {},
   "source": [
    "# Q4. Consider a list of 10 elements of integer values. If the number in the list is divisible by 2, print the result as \"square of that number minus 2\".\n"
   ]
  },
  {
   "cell_type": "code",
   "execution_count": 1,
   "metadata": {},
   "outputs": [
    {
     "name": "stdout",
     "output_type": "stream",
     "text": [
      "1  is not divisible by 2\n",
      "55  is not divisible by 2\n",
      "48  is divisible by 2 \t Hence Square of number minus 2 = 2302\n",
      "40  is divisible by 2 \t Hence Square of number minus 2 = 1598\n",
      "16  is divisible by 2 \t Hence Square of number minus 2 = 254\n",
      "94  is divisible by 2 \t Hence Square of number minus 2 = 8834\n",
      "36  is divisible by 2 \t Hence Square of number minus 2 = 1294\n",
      "87  is not divisible by 2\n",
      "9  is not divisible by 2\n",
      "44  is divisible by 2 \t Hence Square of number minus 2 = 1934\n"
     ]
    }
   ],
   "source": [
    "lst=[1,55,48,40,16,94,36,87,9,44]\n",
    "for i in lst:\n",
    "    if i%2==0:\n",
    "        print(i,\" is divisible by 2 \\t Hence Square of number minus 2 =\",(i**2)-2)\n",
    "    else:\n",
    "        print(i,\" is not divisible by 2\")"
   ]
  }
 ],
 "metadata": {
  "kernelspec": {
   "display_name": "Python 3",
   "language": "python",
   "name": "python3"
  },
  "language_info": {
   "codemirror_mode": {
    "name": "ipython",
    "version": 3
   },
   "file_extension": ".py",
   "mimetype": "text/x-python",
   "name": "python",
   "nbconvert_exporter": "python",
   "pygments_lexer": "ipython3",
   "version": "3.7.6"
  }
 },
 "nbformat": 4,
 "nbformat_minor": 4
}
