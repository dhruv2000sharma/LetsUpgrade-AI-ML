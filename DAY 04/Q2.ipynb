{
 "cells": [
  {
   "cell_type": "markdown",
   "metadata": {},
   "source": [
    "# Q2. Research on range() functions and its parameters. Create a markdown cell and write in your own words (no copy-paste from google please) what you understand about it. Implement a small program of your choice on the same.\n",
    "\n"
   ]
  },
  {
   "cell_type": "markdown",
   "metadata": {},
   "source": [
    "a. range() is a funtion that accepts1, 2 or 3 arguements .\n",
    "\n",
    "b. It is used to basicaly carry out counting from a specific number to a specific number .\n",
    "\n",
    "c. In one arguement the funtions will count from 0 to that number .\n",
    "\n",
    "d. In case of two arguements where the firt arguement is the starting point and the second arguement is th eending point the funtion will count starting from the first arguement to the second arguement with gaps of 1 .\n",
    "\n",
    "e. In case of 3 arguements the first two arguements remain the same the third arguement is the gaps the funtion takes while countimg from the first arguement to the second arguement\n",
    "\n",
    "f. This funtion also finds its use in the for loop when the foor loop is to be repeated till a sppecific count ."
   ]
  },
  {
   "cell_type": "code",
   "execution_count": 3,
   "metadata": {},
   "outputs": [
    {
     "name": "stdout",
     "output_type": "stream",
     "text": [
      "[0, 1, 2, 3, 4, 5, 6, 7, 8, 9]\n",
      "[20, 21, 22, 23, 24, 25, 26, 27, 28, 29, 30, 31, 32, 33, 34, 35, 36, 37, 38, 39]\n",
      "[0, 2, 4, 6, 8, 10, 12, 14, 16, 18, 20, 22, 24, 26, 28]\n",
      "10\n",
      "11\n",
      "12\n",
      "13\n",
      "14\n",
      "15\n",
      "16\n",
      "17\n",
      "18\n",
      "19\n",
      "20\n",
      "21\n",
      "22\n",
      "23\n",
      "24\n"
     ]
    }
   ],
   "source": [
    "print(list(range(10)))\n",
    "print(list(range(20,40)))\n",
    "print(list(range(0,30,2)))\n",
    "for i in range(10,25):\n",
    "    print(i)"
   ]
  }
 ],
 "metadata": {
  "kernelspec": {
   "display_name": "Python 3",
   "language": "python",
   "name": "python3"
  },
  "language_info": {
   "codemirror_mode": {
    "name": "ipython",
    "version": 3
   },
   "file_extension": ".py",
   "mimetype": "text/x-python",
   "name": "python",
   "nbconvert_exporter": "python",
   "pygments_lexer": "ipython3",
   "version": "3.7.6"
  }
 },
 "nbformat": 4,
 "nbformat_minor": 4
}
