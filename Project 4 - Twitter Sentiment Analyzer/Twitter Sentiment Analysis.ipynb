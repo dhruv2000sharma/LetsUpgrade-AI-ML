{
 "cells": [
  {
   "cell_type": "markdown",
   "metadata": {},
   "source": [
    "# We will collect text data using Twitter API."
   ]
  },
  {
   "cell_type": "raw",
   "metadata": {},
   "source": [
    "!pip install tweepy"
   ]
  },
  {
   "cell_type": "raw",
   "metadata": {},
   "source": [
    "!pip install openpyxl   #to read or write excel files"
   ]
  },
  {
   "cell_type": "code",
   "execution_count": 2,
   "metadata": {},
   "outputs": [],
   "source": [
    "import numpy as np\n",
    "import pandas as pd\n",
    "import tweepy  #to communicate with twitter API\n",
    "import json\n",
    "from tweepy import OAuthHandler"
   ]
  },
  {
   "cell_type": "code",
   "execution_count": 3,
   "metadata": {},
   "outputs": [],
   "source": [
    "consumer_key = \"CZczqRkYqz6o0utu39sg09XbA\"\n",
    "consumer_secret = \"84FW99EM5ae0KwwQbobKRjA6SB2gDGX2ylA7ECBhz4IDAhhCpS\"\n",
    "access_token = \"1321748368893173760-PYLWKOs3WxpyzuZuim4ASQD10QEpe4\"\n",
    "access_token_secret = \"1WE05e2fqGbyLm9eeGG0SXuNAJGtnYcsAbg0IwoHosQ4Q\""
   ]
  },
  {
   "cell_type": "code",
   "execution_count": 4,
   "metadata": {},
   "outputs": [],
   "source": [
    "auth = tweepy.OAuthHandler( consumer_key , consumer_secret )  #to scrap the data from twitter\n",
    "auth.set_access_token( access_token , access_token_secret )\n",
    "api = tweepy.API(auth)"
   ]
  },
  {
   "cell_type": "code",
   "execution_count": 24,
   "metadata": {},
   "outputs": [],
   "source": [
    "query = \"Justice for Sushanth\""
   ]
  },
  {
   "cell_type": "code",
   "execution_count": 25,
   "metadata": {},
   "outputs": [
    {
     "name": "stdout",
     "output_type": "stream",
     "text": [
      "Status(_api=<tweepy.api.API object at 0x000001C679D7BC88>, _json={'created_at': 'Sun Nov 01 08:38:03 +0000 2020', 'id': 1322820184705388544, 'id_str': '1322820184705388544', 'full_text': \"@AnamikaRashmi @narendramodi I can understand you want justice for sushanth but making it political is a completely different thing, it's not right.\", 'truncated': False, 'display_text_range': [29, 148], 'entities': {'hashtags': [], 'symbols': [], 'user_mentions': [{'screen_name': 'AnamikaRashmi', 'name': '@n@mik@ || 302 RIGHT NOW', 'id': 312141092, 'id_str': '312141092', 'indices': [0, 14]}, {'screen_name': 'narendramodi', 'name': 'Narendra Modi', 'id': 18839785, 'id_str': '18839785', 'indices': [15, 28]}], 'urls': []}, 'metadata': {'iso_language_code': 'en', 'result_type': 'recent'}, 'source': '<a href=\"http://twitter.com/download/android\" rel=\"nofollow\">Twitter for Android</a>', 'in_reply_to_status_id': 1322769065778307072, 'in_reply_to_status_id_str': '1322769065778307072', 'in_reply_to_user_id': 312141092, 'in_reply_to_user_id_str': '312141092', 'in_reply_to_screen_name': 'AnamikaRashmi', 'user': {'id': 1028287869276704768, 'id_str': '1028287869276704768', 'name': 'IT Cell Spotter- गुप्तचर🕵️', 'screen_name': 'Pistorito1', 'location': 'Somewhere', 'description': 'No', 'url': None, 'entities': {'description': {'urls': []}}, 'protected': False, 'followers_count': 43, 'friends_count': 70, 'listed_count': 1, 'created_at': 'Sat Aug 11 14:31:47 +0000 2018', 'favourites_count': 1511, 'utc_offset': None, 'time_zone': None, 'geo_enabled': False, 'verified': False, 'statuses_count': 1686, 'lang': None, 'contributors_enabled': False, 'is_translator': False, 'is_translation_enabled': False, 'profile_background_color': 'F5F8FA', 'profile_background_image_url': None, 'profile_background_image_url_https': None, 'profile_background_tile': False, 'profile_image_url': 'http://pbs.twimg.com/profile_images/1234066401574318081/MIRBvQCX_normal.jpg', 'profile_image_url_https': 'https://pbs.twimg.com/profile_images/1234066401574318081/MIRBvQCX_normal.jpg', 'profile_banner_url': 'https://pbs.twimg.com/profile_banners/1028287869276704768/1599328644', 'profile_link_color': '1DA1F2', 'profile_sidebar_border_color': 'C0DEED', 'profile_sidebar_fill_color': 'DDEEF6', 'profile_text_color': '333333', 'profile_use_background_image': True, 'has_extended_profile': True, 'default_profile': True, 'default_profile_image': False, 'following': False, 'follow_request_sent': False, 'notifications': False, 'translator_type': 'none'}, 'geo': None, 'coordinates': None, 'place': None, 'contributors': None, 'is_quote_status': False, 'retweet_count': 0, 'favorite_count': 0, 'favorited': False, 'retweeted': False, 'lang': 'en'}, created_at=datetime.datetime(2020, 11, 1, 8, 38, 3), id=1322820184705388544, id_str='1322820184705388544', full_text=\"@AnamikaRashmi @narendramodi I can understand you want justice for sushanth but making it political is a completely different thing, it's not right.\", truncated=False, display_text_range=[29, 148], entities={'hashtags': [], 'symbols': [], 'user_mentions': [{'screen_name': 'AnamikaRashmi', 'name': '@n@mik@ || 302 RIGHT NOW', 'id': 312141092, 'id_str': '312141092', 'indices': [0, 14]}, {'screen_name': 'narendramodi', 'name': 'Narendra Modi', 'id': 18839785, 'id_str': '18839785', 'indices': [15, 28]}], 'urls': []}, metadata={'iso_language_code': 'en', 'result_type': 'recent'}, source='Twitter for Android', source_url='http://twitter.com/download/android', in_reply_to_status_id=1322769065778307072, in_reply_to_status_id_str='1322769065778307072', in_reply_to_user_id=312141092, in_reply_to_user_id_str='312141092', in_reply_to_screen_name='AnamikaRashmi', author=User(_api=<tweepy.api.API object at 0x000001C679D7BC88>, _json={'id': 1028287869276704768, 'id_str': '1028287869276704768', 'name': 'IT Cell Spotter- गुप्तचर🕵️', 'screen_name': 'Pistorito1', 'location': 'Somewhere', 'description': 'No', 'url': None, 'entities': {'description': {'urls': []}}, 'protected': False, 'followers_count': 43, 'friends_count': 70, 'listed_count': 1, 'created_at': 'Sat Aug 11 14:31:47 +0000 2018', 'favourites_count': 1511, 'utc_offset': None, 'time_zone': None, 'geo_enabled': False, 'verified': False, 'statuses_count': 1686, 'lang': None, 'contributors_enabled': False, 'is_translator': False, 'is_translation_enabled': False, 'profile_background_color': 'F5F8FA', 'profile_background_image_url': None, 'profile_background_image_url_https': None, 'profile_background_tile': False, 'profile_image_url': 'http://pbs.twimg.com/profile_images/1234066401574318081/MIRBvQCX_normal.jpg', 'profile_image_url_https': 'https://pbs.twimg.com/profile_images/1234066401574318081/MIRBvQCX_normal.jpg', 'profile_banner_url': 'https://pbs.twimg.com/profile_banners/1028287869276704768/1599328644', 'profile_link_color': '1DA1F2', 'profile_sidebar_border_color': 'C0DEED', 'profile_sidebar_fill_color': 'DDEEF6', 'profile_text_color': '333333', 'profile_use_background_image': True, 'has_extended_profile': True, 'default_profile': True, 'default_profile_image': False, 'following': False, 'follow_request_sent': False, 'notifications': False, 'translator_type': 'none'}, id=1028287869276704768, id_str='1028287869276704768', name='IT Cell Spotter- गुप्तचर🕵️', screen_name='Pistorito1', location='Somewhere', description='No', url=None, entities={'description': {'urls': []}}, protected=False, followers_count=43, friends_count=70, listed_count=1, created_at=datetime.datetime(2018, 8, 11, 14, 31, 47), favourites_count=1511, utc_offset=None, time_zone=None, geo_enabled=False, verified=False, statuses_count=1686, lang=None, contributors_enabled=False, is_translator=False, is_translation_enabled=False, profile_background_color='F5F8FA', profile_background_image_url=None, profile_background_image_url_https=None, profile_background_tile=False, profile_image_url='http://pbs.twimg.com/profile_images/1234066401574318081/MIRBvQCX_normal.jpg', profile_image_url_https='https://pbs.twimg.com/profile_images/1234066401574318081/MIRBvQCX_normal.jpg', profile_banner_url='https://pbs.twimg.com/profile_banners/1028287869276704768/1599328644', profile_link_color='1DA1F2', profile_sidebar_border_color='C0DEED', profile_sidebar_fill_color='DDEEF6', profile_text_color='333333', profile_use_background_image=True, has_extended_profile=True, default_profile=True, default_profile_image=False, following=False, follow_request_sent=False, notifications=False, translator_type='none'), user=User(_api=<tweepy.api.API object at 0x000001C679D7BC88>, _json={'id': 1028287869276704768, 'id_str': '1028287869276704768', 'name': 'IT Cell Spotter- गुप्तचर🕵️', 'screen_name': 'Pistorito1', 'location': 'Somewhere', 'description': 'No', 'url': None, 'entities': {'description': {'urls': []}}, 'protected': False, 'followers_count': 43, 'friends_count': 70, 'listed_count': 1, 'created_at': 'Sat Aug 11 14:31:47 +0000 2018', 'favourites_count': 1511, 'utc_offset': None, 'time_zone': None, 'geo_enabled': False, 'verified': False, 'statuses_count': 1686, 'lang': None, 'contributors_enabled': False, 'is_translator': False, 'is_translation_enabled': False, 'profile_background_color': 'F5F8FA', 'profile_background_image_url': None, 'profile_background_image_url_https': None, 'profile_background_tile': False, 'profile_image_url': 'http://pbs.twimg.com/profile_images/1234066401574318081/MIRBvQCX_normal.jpg', 'profile_image_url_https': 'https://pbs.twimg.com/profile_images/1234066401574318081/MIRBvQCX_normal.jpg', 'profile_banner_url': 'https://pbs.twimg.com/profile_banners/1028287869276704768/1599328644', 'profile_link_color': '1DA1F2', 'profile_sidebar_border_color': 'C0DEED', 'profile_sidebar_fill_color': 'DDEEF6', 'profile_text_color': '333333', 'profile_use_background_image': True, 'has_extended_profile': True, 'default_profile': True, 'default_profile_image': False, 'following': False, 'follow_request_sent': False, 'notifications': False, 'translator_type': 'none'}, id=1028287869276704768, id_str='1028287869276704768', name='IT Cell Spotter- गुप्तचर🕵️', screen_name='Pistorito1', location='Somewhere', description='No', url=None, entities={'description': {'urls': []}}, protected=False, followers_count=43, friends_count=70, listed_count=1, created_at=datetime.datetime(2018, 8, 11, 14, 31, 47), favourites_count=1511, utc_offset=None, time_zone=None, geo_enabled=False, verified=False, statuses_count=1686, lang=None, contributors_enabled=False, is_translator=False, is_translation_enabled=False, profile_background_color='F5F8FA', profile_background_image_url=None, profile_background_image_url_https=None, profile_background_tile=False, profile_image_url='http://pbs.twimg.com/profile_images/1234066401574318081/MIRBvQCX_normal.jpg', profile_image_url_https='https://pbs.twimg.com/profile_images/1234066401574318081/MIRBvQCX_normal.jpg', profile_banner_url='https://pbs.twimg.com/profile_banners/1028287869276704768/1599328644', profile_link_color='1DA1F2', profile_sidebar_border_color='C0DEED', profile_sidebar_fill_color='DDEEF6', profile_text_color='333333', profile_use_background_image=True, has_extended_profile=True, default_profile=True, default_profile_image=False, following=False, follow_request_sent=False, notifications=False, translator_type='none'), geo=None, coordinates=None, place=None, contributors=None, is_quote_status=False, retweet_count=0, favorite_count=0, favorited=False, retweeted=False, lang='en') \n",
      "\n",
      ".....................................\n",
      "\n",
      "Status(_api=<tweepy.api.API object at 0x000001C679D7BC88>, _json={'created_at': 'Sun Nov 01 07:48:46 +0000 2020', 'id': 1322807782014218240, 'id_str': '1322807782014218240', 'full_text': 'We are eagerly waiting for justice for Sushanth Singh Rajput p. CBI please give us justice we are begging you 🙏 🙏🙏🙏🙏 #SSRJusticeDelayed  #SSRKillersRoamingFree #warriorsforssr #WarriorsRoar4SSR', 'truncated': False, 'display_text_range': [0, 193], 'entities': {'hashtags': [{'text': 'SSRJusticeDelayed', 'indices': [117, 135]}, {'text': 'SSRKillersRoamingFree', 'indices': [137, 159]}, {'text': 'warriorsforssr', 'indices': [160, 175]}, {'text': 'WarriorsRoar4SSR', 'indices': [176, 193]}], 'symbols': [], 'user_mentions': [], 'urls': []}, 'metadata': {'iso_language_code': 'en', 'result_type': 'recent'}, 'source': '<a href=\"https://mobile.twitter.com\" rel=\"nofollow\">Twitter Web App</a>', 'in_reply_to_status_id': None, 'in_reply_to_status_id_str': None, 'in_reply_to_user_id': None, 'in_reply_to_user_id_str': None, 'in_reply_to_screen_name': None, 'user': {'id': 1286649159232053254, 'id_str': '1286649159232053254', 'name': 'Rekha.Geetha', 'screen_name': 'geetha_rekha', 'location': '', 'description': 'Be Happy and Healthy ❤️❤️❤️', 'url': None, 'entities': {'description': {'urls': []}}, 'protected': False, 'followers_count': 6, 'friends_count': 10, 'listed_count': 0, 'created_at': 'Fri Jul 24 13:07:33 +0000 2020', 'favourites_count': 917, 'utc_offset': None, 'time_zone': None, 'geo_enabled': False, 'verified': False, 'statuses_count': 1195, 'lang': None, 'contributors_enabled': False, 'is_translator': False, 'is_translation_enabled': False, 'profile_background_color': 'F5F8FA', 'profile_background_image_url': None, 'profile_background_image_url_https': None, 'profile_background_tile': False, 'profile_image_url': 'http://pbs.twimg.com/profile_images/1303564784281894912/F-1diB2l_normal.jpg', 'profile_image_url_https': 'https://pbs.twimg.com/profile_images/1303564784281894912/F-1diB2l_normal.jpg', 'profile_banner_url': 'https://pbs.twimg.com/profile_banners/1286649159232053254/1599460434', 'profile_link_color': '1DA1F2', 'profile_sidebar_border_color': 'C0DEED', 'profile_sidebar_fill_color': 'DDEEF6', 'profile_text_color': '333333', 'profile_use_background_image': True, 'has_extended_profile': True, 'default_profile': True, 'default_profile_image': False, 'following': False, 'follow_request_sent': False, 'notifications': False, 'translator_type': 'none'}, 'geo': None, 'coordinates': None, 'place': None, 'contributors': None, 'is_quote_status': False, 'retweet_count': 0, 'favorite_count': 0, 'favorited': False, 'retweeted': False, 'lang': 'en'}, created_at=datetime.datetime(2020, 11, 1, 7, 48, 46), id=1322807782014218240, id_str='1322807782014218240', full_text='We are eagerly waiting for justice for Sushanth Singh Rajput p. CBI please give us justice we are begging you 🙏 🙏🙏🙏🙏 #SSRJusticeDelayed  #SSRKillersRoamingFree #warriorsforssr #WarriorsRoar4SSR', truncated=False, display_text_range=[0, 193], entities={'hashtags': [{'text': 'SSRJusticeDelayed', 'indices': [117, 135]}, {'text': 'SSRKillersRoamingFree', 'indices': [137, 159]}, {'text': 'warriorsforssr', 'indices': [160, 175]}, {'text': 'WarriorsRoar4SSR', 'indices': [176, 193]}], 'symbols': [], 'user_mentions': [], 'urls': []}, metadata={'iso_language_code': 'en', 'result_type': 'recent'}, source='Twitter Web App', source_url='https://mobile.twitter.com', in_reply_to_status_id=None, in_reply_to_status_id_str=None, in_reply_to_user_id=None, in_reply_to_user_id_str=None, in_reply_to_screen_name=None, author=User(_api=<tweepy.api.API object at 0x000001C679D7BC88>, _json={'id': 1286649159232053254, 'id_str': '1286649159232053254', 'name': 'Rekha.Geetha', 'screen_name': 'geetha_rekha', 'location': '', 'description': 'Be Happy and Healthy ❤️❤️❤️', 'url': None, 'entities': {'description': {'urls': []}}, 'protected': False, 'followers_count': 6, 'friends_count': 10, 'listed_count': 0, 'created_at': 'Fri Jul 24 13:07:33 +0000 2020', 'favourites_count': 917, 'utc_offset': None, 'time_zone': None, 'geo_enabled': False, 'verified': False, 'statuses_count': 1195, 'lang': None, 'contributors_enabled': False, 'is_translator': False, 'is_translation_enabled': False, 'profile_background_color': 'F5F8FA', 'profile_background_image_url': None, 'profile_background_image_url_https': None, 'profile_background_tile': False, 'profile_image_url': 'http://pbs.twimg.com/profile_images/1303564784281894912/F-1diB2l_normal.jpg', 'profile_image_url_https': 'https://pbs.twimg.com/profile_images/1303564784281894912/F-1diB2l_normal.jpg', 'profile_banner_url': 'https://pbs.twimg.com/profile_banners/1286649159232053254/1599460434', 'profile_link_color': '1DA1F2', 'profile_sidebar_border_color': 'C0DEED', 'profile_sidebar_fill_color': 'DDEEF6', 'profile_text_color': '333333', 'profile_use_background_image': True, 'has_extended_profile': True, 'default_profile': True, 'default_profile_image': False, 'following': False, 'follow_request_sent': False, 'notifications': False, 'translator_type': 'none'}, id=1286649159232053254, id_str='1286649159232053254', name='Rekha.Geetha', screen_name='geetha_rekha', location='', description='Be Happy and Healthy ❤️❤️❤️', url=None, entities={'description': {'urls': []}}, protected=False, followers_count=6, friends_count=10, listed_count=0, created_at=datetime.datetime(2020, 7, 24, 13, 7, 33), favourites_count=917, utc_offset=None, time_zone=None, geo_enabled=False, verified=False, statuses_count=1195, lang=None, contributors_enabled=False, is_translator=False, is_translation_enabled=False, profile_background_color='F5F8FA', profile_background_image_url=None, profile_background_image_url_https=None, profile_background_tile=False, profile_image_url='http://pbs.twimg.com/profile_images/1303564784281894912/F-1diB2l_normal.jpg', profile_image_url_https='https://pbs.twimg.com/profile_images/1303564784281894912/F-1diB2l_normal.jpg', profile_banner_url='https://pbs.twimg.com/profile_banners/1286649159232053254/1599460434', profile_link_color='1DA1F2', profile_sidebar_border_color='C0DEED', profile_sidebar_fill_color='DDEEF6', profile_text_color='333333', profile_use_background_image=True, has_extended_profile=True, default_profile=True, default_profile_image=False, following=False, follow_request_sent=False, notifications=False, translator_type='none'), user=User(_api=<tweepy.api.API object at 0x000001C679D7BC88>, _json={'id': 1286649159232053254, 'id_str': '1286649159232053254', 'name': 'Rekha.Geetha', 'screen_name': 'geetha_rekha', 'location': '', 'description': 'Be Happy and Healthy ❤️❤️❤️', 'url': None, 'entities': {'description': {'urls': []}}, 'protected': False, 'followers_count': 6, 'friends_count': 10, 'listed_count': 0, 'created_at': 'Fri Jul 24 13:07:33 +0000 2020', 'favourites_count': 917, 'utc_offset': None, 'time_zone': None, 'geo_enabled': False, 'verified': False, 'statuses_count': 1195, 'lang': None, 'contributors_enabled': False, 'is_translator': False, 'is_translation_enabled': False, 'profile_background_color': 'F5F8FA', 'profile_background_image_url': None, 'profile_background_image_url_https': None, 'profile_background_tile': False, 'profile_image_url': 'http://pbs.twimg.com/profile_images/1303564784281894912/F-1diB2l_normal.jpg', 'profile_image_url_https': 'https://pbs.twimg.com/profile_images/1303564784281894912/F-1diB2l_normal.jpg', 'profile_banner_url': 'https://pbs.twimg.com/profile_banners/1286649159232053254/1599460434', 'profile_link_color': '1DA1F2', 'profile_sidebar_border_color': 'C0DEED', 'profile_sidebar_fill_color': 'DDEEF6', 'profile_text_color': '333333', 'profile_use_background_image': True, 'has_extended_profile': True, 'default_profile': True, 'default_profile_image': False, 'following': False, 'follow_request_sent': False, 'notifications': False, 'translator_type': 'none'}, id=1286649159232053254, id_str='1286649159232053254', name='Rekha.Geetha', screen_name='geetha_rekha', location='', description='Be Happy and Healthy ❤️❤️❤️', url=None, entities={'description': {'urls': []}}, protected=False, followers_count=6, friends_count=10, listed_count=0, created_at=datetime.datetime(2020, 7, 24, 13, 7, 33), favourites_count=917, utc_offset=None, time_zone=None, geo_enabled=False, verified=False, statuses_count=1195, lang=None, contributors_enabled=False, is_translator=False, is_translation_enabled=False, profile_background_color='F5F8FA', profile_background_image_url=None, profile_background_image_url_https=None, profile_background_tile=False, profile_image_url='http://pbs.twimg.com/profile_images/1303564784281894912/F-1diB2l_normal.jpg', profile_image_url_https='https://pbs.twimg.com/profile_images/1303564784281894912/F-1diB2l_normal.jpg', profile_banner_url='https://pbs.twimg.com/profile_banners/1286649159232053254/1599460434', profile_link_color='1DA1F2', profile_sidebar_border_color='C0DEED', profile_sidebar_fill_color='DDEEF6', profile_text_color='333333', profile_use_background_image=True, has_extended_profile=True, default_profile=True, default_profile_image=False, following=False, follow_request_sent=False, notifications=False, translator_type='none'), geo=None, coordinates=None, place=None, contributors=None, is_quote_status=False, retweet_count=0, favorite_count=0, favorited=False, retweeted=False, lang='en') \n",
      "\n",
      ".....................................\n",
      "\n",
      "Status(_api=<tweepy.api.API object at 0x000001C679D7BC88>, _json={'created_at': 'Sun Nov 01 06:19:14 +0000 2020', 'id': 1322785250833956865, 'id_str': '1322785250833956865', 'full_text': 'Justice for sushanth #SSRJusticeDelayed', 'truncated': False, 'display_text_range': [0, 39], 'entities': {'hashtags': [{'text': 'SSRJusticeDelayed', 'indices': [21, 39]}], 'symbols': [], 'user_mentions': [], 'urls': []}, 'metadata': {'iso_language_code': 'en', 'result_type': 'recent'}, 'source': '<a href=\"http://twitter.com/download/android\" rel=\"nofollow\">Twitter for Android</a>', 'in_reply_to_status_id': None, 'in_reply_to_status_id_str': None, 'in_reply_to_user_id': None, 'in_reply_to_user_id_str': None, 'in_reply_to_screen_name': None, 'user': {'id': 2177888526, 'id_str': '2177888526', 'name': 'venu yadav', 'screen_name': 'venuyadav10', 'location': '', 'description': '', 'url': None, 'entities': {'description': {'urls': []}}, 'protected': False, 'followers_count': 12, 'friends_count': 161, 'listed_count': 0, 'created_at': 'Wed Nov 06 11:29:10 +0000 2013', 'favourites_count': 377, 'utc_offset': None, 'time_zone': None, 'geo_enabled': False, 'verified': False, 'statuses_count': 40, 'lang': None, 'contributors_enabled': False, 'is_translator': False, 'is_translation_enabled': False, 'profile_background_color': '352726', 'profile_background_image_url': 'http://abs.twimg.com/images/themes/theme4/bg.gif', 'profile_background_image_url_https': 'https://abs.twimg.com/images/themes/theme4/bg.gif', 'profile_background_tile': True, 'profile_image_url': 'http://pbs.twimg.com/profile_images/1294883691269730304/IL5kCrvo_normal.jpg', 'profile_image_url_https': 'https://pbs.twimg.com/profile_images/1294883691269730304/IL5kCrvo_normal.jpg', 'profile_banner_url': 'https://pbs.twimg.com/profile_banners/2177888526/1394631279', 'profile_link_color': 'D02B55', 'profile_sidebar_border_color': 'FFFFFF', 'profile_sidebar_fill_color': 'C7AF89', 'profile_text_color': 'AECBB5', 'profile_use_background_image': True, 'has_extended_profile': False, 'default_profile': False, 'default_profile_image': False, 'following': False, 'follow_request_sent': False, 'notifications': False, 'translator_type': 'none'}, 'geo': None, 'coordinates': None, 'place': None, 'contributors': None, 'is_quote_status': False, 'retweet_count': 0, 'favorite_count': 0, 'favorited': False, 'retweeted': False, 'lang': 'en'}, created_at=datetime.datetime(2020, 11, 1, 6, 19, 14), id=1322785250833956865, id_str='1322785250833956865', full_text='Justice for sushanth #SSRJusticeDelayed', truncated=False, display_text_range=[0, 39], entities={'hashtags': [{'text': 'SSRJusticeDelayed', 'indices': [21, 39]}], 'symbols': [], 'user_mentions': [], 'urls': []}, metadata={'iso_language_code': 'en', 'result_type': 'recent'}, source='Twitter for Android', source_url='http://twitter.com/download/android', in_reply_to_status_id=None, in_reply_to_status_id_str=None, in_reply_to_user_id=None, in_reply_to_user_id_str=None, in_reply_to_screen_name=None, author=User(_api=<tweepy.api.API object at 0x000001C679D7BC88>, _json={'id': 2177888526, 'id_str': '2177888526', 'name': 'venu yadav', 'screen_name': 'venuyadav10', 'location': '', 'description': '', 'url': None, 'entities': {'description': {'urls': []}}, 'protected': False, 'followers_count': 12, 'friends_count': 161, 'listed_count': 0, 'created_at': 'Wed Nov 06 11:29:10 +0000 2013', 'favourites_count': 377, 'utc_offset': None, 'time_zone': None, 'geo_enabled': False, 'verified': False, 'statuses_count': 40, 'lang': None, 'contributors_enabled': False, 'is_translator': False, 'is_translation_enabled': False, 'profile_background_color': '352726', 'profile_background_image_url': 'http://abs.twimg.com/images/themes/theme4/bg.gif', 'profile_background_image_url_https': 'https://abs.twimg.com/images/themes/theme4/bg.gif', 'profile_background_tile': True, 'profile_image_url': 'http://pbs.twimg.com/profile_images/1294883691269730304/IL5kCrvo_normal.jpg', 'profile_image_url_https': 'https://pbs.twimg.com/profile_images/1294883691269730304/IL5kCrvo_normal.jpg', 'profile_banner_url': 'https://pbs.twimg.com/profile_banners/2177888526/1394631279', 'profile_link_color': 'D02B55', 'profile_sidebar_border_color': 'FFFFFF', 'profile_sidebar_fill_color': 'C7AF89', 'profile_text_color': 'AECBB5', 'profile_use_background_image': True, 'has_extended_profile': False, 'default_profile': False, 'default_profile_image': False, 'following': False, 'follow_request_sent': False, 'notifications': False, 'translator_type': 'none'}, id=2177888526, id_str='2177888526', name='venu yadav', screen_name='venuyadav10', location='', description='', url=None, entities={'description': {'urls': []}}, protected=False, followers_count=12, friends_count=161, listed_count=0, created_at=datetime.datetime(2013, 11, 6, 11, 29, 10), favourites_count=377, utc_offset=None, time_zone=None, geo_enabled=False, verified=False, statuses_count=40, lang=None, contributors_enabled=False, is_translator=False, is_translation_enabled=False, profile_background_color='352726', profile_background_image_url='http://abs.twimg.com/images/themes/theme4/bg.gif', profile_background_image_url_https='https://abs.twimg.com/images/themes/theme4/bg.gif', profile_background_tile=True, profile_image_url='http://pbs.twimg.com/profile_images/1294883691269730304/IL5kCrvo_normal.jpg', profile_image_url_https='https://pbs.twimg.com/profile_images/1294883691269730304/IL5kCrvo_normal.jpg', profile_banner_url='https://pbs.twimg.com/profile_banners/2177888526/1394631279', profile_link_color='D02B55', profile_sidebar_border_color='FFFFFF', profile_sidebar_fill_color='C7AF89', profile_text_color='AECBB5', profile_use_background_image=True, has_extended_profile=False, default_profile=False, default_profile_image=False, following=False, follow_request_sent=False, notifications=False, translator_type='none'), user=User(_api=<tweepy.api.API object at 0x000001C679D7BC88>, _json={'id': 2177888526, 'id_str': '2177888526', 'name': 'venu yadav', 'screen_name': 'venuyadav10', 'location': '', 'description': '', 'url': None, 'entities': {'description': {'urls': []}}, 'protected': False, 'followers_count': 12, 'friends_count': 161, 'listed_count': 0, 'created_at': 'Wed Nov 06 11:29:10 +0000 2013', 'favourites_count': 377, 'utc_offset': None, 'time_zone': None, 'geo_enabled': False, 'verified': False, 'statuses_count': 40, 'lang': None, 'contributors_enabled': False, 'is_translator': False, 'is_translation_enabled': False, 'profile_background_color': '352726', 'profile_background_image_url': 'http://abs.twimg.com/images/themes/theme4/bg.gif', 'profile_background_image_url_https': 'https://abs.twimg.com/images/themes/theme4/bg.gif', 'profile_background_tile': True, 'profile_image_url': 'http://pbs.twimg.com/profile_images/1294883691269730304/IL5kCrvo_normal.jpg', 'profile_image_url_https': 'https://pbs.twimg.com/profile_images/1294883691269730304/IL5kCrvo_normal.jpg', 'profile_banner_url': 'https://pbs.twimg.com/profile_banners/2177888526/1394631279', 'profile_link_color': 'D02B55', 'profile_sidebar_border_color': 'FFFFFF', 'profile_sidebar_fill_color': 'C7AF89', 'profile_text_color': 'AECBB5', 'profile_use_background_image': True, 'has_extended_profile': False, 'default_profile': False, 'default_profile_image': False, 'following': False, 'follow_request_sent': False, 'notifications': False, 'translator_type': 'none'}, id=2177888526, id_str='2177888526', name='venu yadav', screen_name='venuyadav10', location='', description='', url=None, entities={'description': {'urls': []}}, protected=False, followers_count=12, friends_count=161, listed_count=0, created_at=datetime.datetime(2013, 11, 6, 11, 29, 10), favourites_count=377, utc_offset=None, time_zone=None, geo_enabled=False, verified=False, statuses_count=40, lang=None, contributors_enabled=False, is_translator=False, is_translation_enabled=False, profile_background_color='352726', profile_background_image_url='http://abs.twimg.com/images/themes/theme4/bg.gif', profile_background_image_url_https='https://abs.twimg.com/images/themes/theme4/bg.gif', profile_background_tile=True, profile_image_url='http://pbs.twimg.com/profile_images/1294883691269730304/IL5kCrvo_normal.jpg', profile_image_url_https='https://pbs.twimg.com/profile_images/1294883691269730304/IL5kCrvo_normal.jpg', profile_banner_url='https://pbs.twimg.com/profile_banners/2177888526/1394631279', profile_link_color='D02B55', profile_sidebar_border_color='FFFFFF', profile_sidebar_fill_color='C7AF89', profile_text_color='AECBB5', profile_use_background_image=True, has_extended_profile=False, default_profile=False, default_profile_image=False, following=False, follow_request_sent=False, notifications=False, translator_type='none'), geo=None, coordinates=None, place=None, contributors=None, is_quote_status=False, retweet_count=0, favorite_count=0, favorited=False, retweeted=False, lang='en') \n",
      "\n",
      ".....................................\n",
      "\n",
      "Status(_api=<tweepy.api.API object at 0x000001C679D7BC88>, _json={'created_at': 'Sun Nov 01 06:05:10 +0000 2020', 'id': 1322781709666930688, 'id_str': '1322781709666930688', 'full_text': \"@pie_lioness @aaryaiyer99 I will celebrate diwali only for sushanth I will light just candles bocoz sushanth was nature lover so I don't want to burn crackers and my one and only wish is justice for sushanth disha Jiah #SSRJusticeDelayed\", 'truncated': False, 'display_text_range': [26, 237], 'entities': {'hashtags': [{'text': 'SSRJusticeDelayed', 'indices': [219, 237]}], 'symbols': [], 'user_mentions': [{'screen_name': 'pie_lioness', 'name': 'N@K$h@Tr@ $h@RmA!🇨🇦', 'id': 3320079000, 'id_str': '3320079000', 'indices': [0, 12]}, {'screen_name': 'aaryaiyer99', 'name': 'SSR till ∞', 'id': 848575759652454400, 'id_str': '848575759652454400', 'indices': [13, 25]}], 'urls': []}, 'metadata': {'iso_language_code': 'en', 'result_type': 'recent'}, 'source': '<a href=\"http://twitter.com/download/android\" rel=\"nofollow\">Twitter for Android</a>', 'in_reply_to_status_id': 1322652446871691267, 'in_reply_to_status_id_str': '1322652446871691267', 'in_reply_to_user_id': 3320079000, 'in_reply_to_user_id_str': '3320079000', 'in_reply_to_screen_name': 'pie_lioness', 'user': {'id': 1314179842179428352, 'id_str': '1314179842179428352', 'name': 'justice for sushanth ✊✊✊', 'screen_name': 'Mansa95335693', 'location': '', 'description': '', 'url': None, 'entities': {'description': {'urls': []}}, 'protected': False, 'followers_count': 50, 'friends_count': 125, 'listed_count': 0, 'created_at': 'Thu Oct 08 12:24:42 +0000 2020', 'favourites_count': 601, 'utc_offset': None, 'time_zone': None, 'geo_enabled': False, 'verified': False, 'statuses_count': 3535, 'lang': None, 'contributors_enabled': False, 'is_translator': False, 'is_translation_enabled': False, 'profile_background_color': 'F5F8FA', 'profile_background_image_url': None, 'profile_background_image_url_https': None, 'profile_background_tile': False, 'profile_image_url': 'http://pbs.twimg.com/profile_images/1322821018373640193/sZ_r83s1_normal.jpg', 'profile_image_url_https': 'https://pbs.twimg.com/profile_images/1322821018373640193/sZ_r83s1_normal.jpg', 'profile_banner_url': 'https://pbs.twimg.com/profile_banners/1314179842179428352/1602166785', 'profile_link_color': '1DA1F2', 'profile_sidebar_border_color': 'C0DEED', 'profile_sidebar_fill_color': 'DDEEF6', 'profile_text_color': '333333', 'profile_use_background_image': True, 'has_extended_profile': True, 'default_profile': True, 'default_profile_image': False, 'following': False, 'follow_request_sent': False, 'notifications': False, 'translator_type': 'none'}, 'geo': None, 'coordinates': None, 'place': None, 'contributors': None, 'is_quote_status': False, 'retweet_count': 0, 'favorite_count': 0, 'favorited': False, 'retweeted': False, 'lang': 'en'}, created_at=datetime.datetime(2020, 11, 1, 6, 5, 10), id=1322781709666930688, id_str='1322781709666930688', full_text=\"@pie_lioness @aaryaiyer99 I will celebrate diwali only for sushanth I will light just candles bocoz sushanth was nature lover so I don't want to burn crackers and my one and only wish is justice for sushanth disha Jiah #SSRJusticeDelayed\", truncated=False, display_text_range=[26, 237], entities={'hashtags': [{'text': 'SSRJusticeDelayed', 'indices': [219, 237]}], 'symbols': [], 'user_mentions': [{'screen_name': 'pie_lioness', 'name': 'N@K$h@Tr@ $h@RmA!🇨🇦', 'id': 3320079000, 'id_str': '3320079000', 'indices': [0, 12]}, {'screen_name': 'aaryaiyer99', 'name': 'SSR till ∞', 'id': 848575759652454400, 'id_str': '848575759652454400', 'indices': [13, 25]}], 'urls': []}, metadata={'iso_language_code': 'en', 'result_type': 'recent'}, source='Twitter for Android', source_url='http://twitter.com/download/android', in_reply_to_status_id=1322652446871691267, in_reply_to_status_id_str='1322652446871691267', in_reply_to_user_id=3320079000, in_reply_to_user_id_str='3320079000', in_reply_to_screen_name='pie_lioness', author=User(_api=<tweepy.api.API object at 0x000001C679D7BC88>, _json={'id': 1314179842179428352, 'id_str': '1314179842179428352', 'name': 'justice for sushanth ✊✊✊', 'screen_name': 'Mansa95335693', 'location': '', 'description': '', 'url': None, 'entities': {'description': {'urls': []}}, 'protected': False, 'followers_count': 50, 'friends_count': 125, 'listed_count': 0, 'created_at': 'Thu Oct 08 12:24:42 +0000 2020', 'favourites_count': 601, 'utc_offset': None, 'time_zone': None, 'geo_enabled': False, 'verified': False, 'statuses_count': 3535, 'lang': None, 'contributors_enabled': False, 'is_translator': False, 'is_translation_enabled': False, 'profile_background_color': 'F5F8FA', 'profile_background_image_url': None, 'profile_background_image_url_https': None, 'profile_background_tile': False, 'profile_image_url': 'http://pbs.twimg.com/profile_images/1322821018373640193/sZ_r83s1_normal.jpg', 'profile_image_url_https': 'https://pbs.twimg.com/profile_images/1322821018373640193/sZ_r83s1_normal.jpg', 'profile_banner_url': 'https://pbs.twimg.com/profile_banners/1314179842179428352/1602166785', 'profile_link_color': '1DA1F2', 'profile_sidebar_border_color': 'C0DEED', 'profile_sidebar_fill_color': 'DDEEF6', 'profile_text_color': '333333', 'profile_use_background_image': True, 'has_extended_profile': True, 'default_profile': True, 'default_profile_image': False, 'following': False, 'follow_request_sent': False, 'notifications': False, 'translator_type': 'none'}, id=1314179842179428352, id_str='1314179842179428352', name='justice for sushanth ✊✊✊', screen_name='Mansa95335693', location='', description='', url=None, entities={'description': {'urls': []}}, protected=False, followers_count=50, friends_count=125, listed_count=0, created_at=datetime.datetime(2020, 10, 8, 12, 24, 42), favourites_count=601, utc_offset=None, time_zone=None, geo_enabled=False, verified=False, statuses_count=3535, lang=None, contributors_enabled=False, is_translator=False, is_translation_enabled=False, profile_background_color='F5F8FA', profile_background_image_url=None, profile_background_image_url_https=None, profile_background_tile=False, profile_image_url='http://pbs.twimg.com/profile_images/1322821018373640193/sZ_r83s1_normal.jpg', profile_image_url_https='https://pbs.twimg.com/profile_images/1322821018373640193/sZ_r83s1_normal.jpg', profile_banner_url='https://pbs.twimg.com/profile_banners/1314179842179428352/1602166785', profile_link_color='1DA1F2', profile_sidebar_border_color='C0DEED', profile_sidebar_fill_color='DDEEF6', profile_text_color='333333', profile_use_background_image=True, has_extended_profile=True, default_profile=True, default_profile_image=False, following=False, follow_request_sent=False, notifications=False, translator_type='none'), user=User(_api=<tweepy.api.API object at 0x000001C679D7BC88>, _json={'id': 1314179842179428352, 'id_str': '1314179842179428352', 'name': 'justice for sushanth ✊✊✊', 'screen_name': 'Mansa95335693', 'location': '', 'description': '', 'url': None, 'entities': {'description': {'urls': []}}, 'protected': False, 'followers_count': 50, 'friends_count': 125, 'listed_count': 0, 'created_at': 'Thu Oct 08 12:24:42 +0000 2020', 'favourites_count': 601, 'utc_offset': None, 'time_zone': None, 'geo_enabled': False, 'verified': False, 'statuses_count': 3535, 'lang': None, 'contributors_enabled': False, 'is_translator': False, 'is_translation_enabled': False, 'profile_background_color': 'F5F8FA', 'profile_background_image_url': None, 'profile_background_image_url_https': None, 'profile_background_tile': False, 'profile_image_url': 'http://pbs.twimg.com/profile_images/1322821018373640193/sZ_r83s1_normal.jpg', 'profile_image_url_https': 'https://pbs.twimg.com/profile_images/1322821018373640193/sZ_r83s1_normal.jpg', 'profile_banner_url': 'https://pbs.twimg.com/profile_banners/1314179842179428352/1602166785', 'profile_link_color': '1DA1F2', 'profile_sidebar_border_color': 'C0DEED', 'profile_sidebar_fill_color': 'DDEEF6', 'profile_text_color': '333333', 'profile_use_background_image': True, 'has_extended_profile': True, 'default_profile': True, 'default_profile_image': False, 'following': False, 'follow_request_sent': False, 'notifications': False, 'translator_type': 'none'}, id=1314179842179428352, id_str='1314179842179428352', name='justice for sushanth ✊✊✊', screen_name='Mansa95335693', location='', description='', url=None, entities={'description': {'urls': []}}, protected=False, followers_count=50, friends_count=125, listed_count=0, created_at=datetime.datetime(2020, 10, 8, 12, 24, 42), favourites_count=601, utc_offset=None, time_zone=None, geo_enabled=False, verified=False, statuses_count=3535, lang=None, contributors_enabled=False, is_translator=False, is_translation_enabled=False, profile_background_color='F5F8FA', profile_background_image_url=None, profile_background_image_url_https=None, profile_background_tile=False, profile_image_url='http://pbs.twimg.com/profile_images/1322821018373640193/sZ_r83s1_normal.jpg', profile_image_url_https='https://pbs.twimg.com/profile_images/1322821018373640193/sZ_r83s1_normal.jpg', profile_banner_url='https://pbs.twimg.com/profile_banners/1314179842179428352/1602166785', profile_link_color='1DA1F2', profile_sidebar_border_color='C0DEED', profile_sidebar_fill_color='DDEEF6', profile_text_color='333333', profile_use_background_image=True, has_extended_profile=True, default_profile=True, default_profile_image=False, following=False, follow_request_sent=False, notifications=False, translator_type='none'), geo=None, coordinates=None, place=None, contributors=None, is_quote_status=False, retweet_count=0, favorite_count=0, favorited=False, retweeted=False, lang='en') \n",
      "\n",
      ".....................................\n",
      "\n",
      "Status(_api=<tweepy.api.API object at 0x000001C679D7BC88>, _json={'created_at': 'Sun Nov 01 05:48:36 +0000 2020', 'id': 1322777542307315712, 'id_str': '1322777542307315712', 'full_text': '@Sakthi79499123 @ChennaiIPL @Jagadeesan_200 In what why kxip deserves playoffs... Bro everybody deserves it ... But only 4 teams get into it and  does not mean that other teams are waste... The thing I like you was you are also a sushanth singh rajput justice and i am also a fighter for him... #JusticeForSushantSinghRajput', 'truncated': False, 'display_text_range': [44, 324], 'entities': {'hashtags': [{'text': 'JusticeForSushantSinghRajput', 'indices': [295, 324]}], 'symbols': [], 'user_mentions': [{'screen_name': 'Sakthi79499123', 'name': 'Sakthi', 'id': 1194810138185437184, 'id_str': '1194810138185437184', 'indices': [0, 15]}, {'screen_name': 'ChennaiIPL', 'name': 'Chennai Super Kings', 'id': 117407834, 'id_str': '117407834', 'indices': [16, 27]}, {'screen_name': 'Jagadeesan_200', 'name': 'jagadeesan', 'id': 250540177, 'id_str': '250540177', 'indices': [28, 43]}], 'urls': []}, 'metadata': {'iso_language_code': 'en', 'result_type': 'recent'}, 'source': '<a href=\"http://twitter.com/download/android\" rel=\"nofollow\">Twitter for Android</a>', 'in_reply_to_status_id': 1322774649277616128, 'in_reply_to_status_id_str': '1322774649277616128', 'in_reply_to_user_id': 1194810138185437184, 'in_reply_to_user_id_str': '1194810138185437184', 'in_reply_to_screen_name': 'Sakthi79499123', 'user': {'id': 1320259773464367104, 'id_str': '1320259773464367104', 'name': 'Gobroyobro', 'screen_name': 'gobroyobro', 'location': '', 'description': 'SRHian forever', 'url': None, 'entities': {'description': {'urls': []}}, 'protected': False, 'followers_count': 0, 'friends_count': 50, 'listed_count': 0, 'created_at': 'Sun Oct 25 07:04:14 +0000 2020', 'favourites_count': 0, 'utc_offset': None, 'time_zone': None, 'geo_enabled': False, 'verified': False, 'statuses_count': 18, 'lang': None, 'contributors_enabled': False, 'is_translator': False, 'is_translation_enabled': False, 'profile_background_color': 'F5F8FA', 'profile_background_image_url': None, 'profile_background_image_url_https': None, 'profile_background_tile': False, 'profile_image_url': 'http://abs.twimg.com/sticky/default_profile_images/default_profile_normal.png', 'profile_image_url_https': 'https://abs.twimg.com/sticky/default_profile_images/default_profile_normal.png', 'profile_link_color': '1DA1F2', 'profile_sidebar_border_color': 'C0DEED', 'profile_sidebar_fill_color': 'DDEEF6', 'profile_text_color': '333333', 'profile_use_background_image': True, 'has_extended_profile': True, 'default_profile': True, 'default_profile_image': True, 'following': False, 'follow_request_sent': False, 'notifications': False, 'translator_type': 'none'}, 'geo': None, 'coordinates': None, 'place': None, 'contributors': None, 'is_quote_status': False, 'retweet_count': 0, 'favorite_count': 1, 'favorited': False, 'retweeted': False, 'lang': 'en'}, created_at=datetime.datetime(2020, 11, 1, 5, 48, 36), id=1322777542307315712, id_str='1322777542307315712', full_text='@Sakthi79499123 @ChennaiIPL @Jagadeesan_200 In what why kxip deserves playoffs... Bro everybody deserves it ... But only 4 teams get into it and  does not mean that other teams are waste... The thing I like you was you are also a sushanth singh rajput justice and i am also a fighter for him... #JusticeForSushantSinghRajput', truncated=False, display_text_range=[44, 324], entities={'hashtags': [{'text': 'JusticeForSushantSinghRajput', 'indices': [295, 324]}], 'symbols': [], 'user_mentions': [{'screen_name': 'Sakthi79499123', 'name': 'Sakthi', 'id': 1194810138185437184, 'id_str': '1194810138185437184', 'indices': [0, 15]}, {'screen_name': 'ChennaiIPL', 'name': 'Chennai Super Kings', 'id': 117407834, 'id_str': '117407834', 'indices': [16, 27]}, {'screen_name': 'Jagadeesan_200', 'name': 'jagadeesan', 'id': 250540177, 'id_str': '250540177', 'indices': [28, 43]}], 'urls': []}, metadata={'iso_language_code': 'en', 'result_type': 'recent'}, source='Twitter for Android', source_url='http://twitter.com/download/android', in_reply_to_status_id=1322774649277616128, in_reply_to_status_id_str='1322774649277616128', in_reply_to_user_id=1194810138185437184, in_reply_to_user_id_str='1194810138185437184', in_reply_to_screen_name='Sakthi79499123', author=User(_api=<tweepy.api.API object at 0x000001C679D7BC88>, _json={'id': 1320259773464367104, 'id_str': '1320259773464367104', 'name': 'Gobroyobro', 'screen_name': 'gobroyobro', 'location': '', 'description': 'SRHian forever', 'url': None, 'entities': {'description': {'urls': []}}, 'protected': False, 'followers_count': 0, 'friends_count': 50, 'listed_count': 0, 'created_at': 'Sun Oct 25 07:04:14 +0000 2020', 'favourites_count': 0, 'utc_offset': None, 'time_zone': None, 'geo_enabled': False, 'verified': False, 'statuses_count': 18, 'lang': None, 'contributors_enabled': False, 'is_translator': False, 'is_translation_enabled': False, 'profile_background_color': 'F5F8FA', 'profile_background_image_url': None, 'profile_background_image_url_https': None, 'profile_background_tile': False, 'profile_image_url': 'http://abs.twimg.com/sticky/default_profile_images/default_profile_normal.png', 'profile_image_url_https': 'https://abs.twimg.com/sticky/default_profile_images/default_profile_normal.png', 'profile_link_color': '1DA1F2', 'profile_sidebar_border_color': 'C0DEED', 'profile_sidebar_fill_color': 'DDEEF6', 'profile_text_color': '333333', 'profile_use_background_image': True, 'has_extended_profile': True, 'default_profile': True, 'default_profile_image': True, 'following': False, 'follow_request_sent': False, 'notifications': False, 'translator_type': 'none'}, id=1320259773464367104, id_str='1320259773464367104', name='Gobroyobro', screen_name='gobroyobro', location='', description='SRHian forever', url=None, entities={'description': {'urls': []}}, protected=False, followers_count=0, friends_count=50, listed_count=0, created_at=datetime.datetime(2020, 10, 25, 7, 4, 14), favourites_count=0, utc_offset=None, time_zone=None, geo_enabled=False, verified=False, statuses_count=18, lang=None, contributors_enabled=False, is_translator=False, is_translation_enabled=False, profile_background_color='F5F8FA', profile_background_image_url=None, profile_background_image_url_https=None, profile_background_tile=False, profile_image_url='http://abs.twimg.com/sticky/default_profile_images/default_profile_normal.png', profile_image_url_https='https://abs.twimg.com/sticky/default_profile_images/default_profile_normal.png', profile_link_color='1DA1F2', profile_sidebar_border_color='C0DEED', profile_sidebar_fill_color='DDEEF6', profile_text_color='333333', profile_use_background_image=True, has_extended_profile=True, default_profile=True, default_profile_image=True, following=False, follow_request_sent=False, notifications=False, translator_type='none'), user=User(_api=<tweepy.api.API object at 0x000001C679D7BC88>, _json={'id': 1320259773464367104, 'id_str': '1320259773464367104', 'name': 'Gobroyobro', 'screen_name': 'gobroyobro', 'location': '', 'description': 'SRHian forever', 'url': None, 'entities': {'description': {'urls': []}}, 'protected': False, 'followers_count': 0, 'friends_count': 50, 'listed_count': 0, 'created_at': 'Sun Oct 25 07:04:14 +0000 2020', 'favourites_count': 0, 'utc_offset': None, 'time_zone': None, 'geo_enabled': False, 'verified': False, 'statuses_count': 18, 'lang': None, 'contributors_enabled': False, 'is_translator': False, 'is_translation_enabled': False, 'profile_background_color': 'F5F8FA', 'profile_background_image_url': None, 'profile_background_image_url_https': None, 'profile_background_tile': False, 'profile_image_url': 'http://abs.twimg.com/sticky/default_profile_images/default_profile_normal.png', 'profile_image_url_https': 'https://abs.twimg.com/sticky/default_profile_images/default_profile_normal.png', 'profile_link_color': '1DA1F2', 'profile_sidebar_border_color': 'C0DEED', 'profile_sidebar_fill_color': 'DDEEF6', 'profile_text_color': '333333', 'profile_use_background_image': True, 'has_extended_profile': True, 'default_profile': True, 'default_profile_image': True, 'following': False, 'follow_request_sent': False, 'notifications': False, 'translator_type': 'none'}, id=1320259773464367104, id_str='1320259773464367104', name='Gobroyobro', screen_name='gobroyobro', location='', description='SRHian forever', url=None, entities={'description': {'urls': []}}, protected=False, followers_count=0, friends_count=50, listed_count=0, created_at=datetime.datetime(2020, 10, 25, 7, 4, 14), favourites_count=0, utc_offset=None, time_zone=None, geo_enabled=False, verified=False, statuses_count=18, lang=None, contributors_enabled=False, is_translator=False, is_translation_enabled=False, profile_background_color='F5F8FA', profile_background_image_url=None, profile_background_image_url_https=None, profile_background_tile=False, profile_image_url='http://abs.twimg.com/sticky/default_profile_images/default_profile_normal.png', profile_image_url_https='https://abs.twimg.com/sticky/default_profile_images/default_profile_normal.png', profile_link_color='1DA1F2', profile_sidebar_border_color='C0DEED', profile_sidebar_fill_color='DDEEF6', profile_text_color='333333', profile_use_background_image=True, has_extended_profile=True, default_profile=True, default_profile_image=True, following=False, follow_request_sent=False, notifications=False, translator_type='none'), geo=None, coordinates=None, place=None, contributors=None, is_quote_status=False, retweet_count=0, favorite_count=1, favorited=False, retweeted=False, lang='en') \n",
      "\n",
      ".....................................\n",
      "\n",
      "Status(_api=<tweepy.api.API object at 0x000001C679D7BC88>, _json={'created_at': 'Sun Nov 01 03:25:42 +0000 2020', 'id': 1322741579925217280, 'id_str': '1322741579925217280', 'full_text': '@ErayCr Hehe.. Stop spreading fake news. First it was Justice for Sushant...now its justice for others....republic &amp; kangana is fooling the peoplee...using poor sushanth...https://t.co/zElBSzKmHo  watch this videoo', 'truncated': False, 'display_text_range': [8, 218], 'entities': {'hashtags': [], 'symbols': [], 'user_mentions': [{'screen_name': 'ErayCr', 'name': 'Eray Cather', 'id': 120184473, 'id_str': '120184473', 'indices': [0, 7]}], 'urls': [{'url': 'https://t.co/zElBSzKmHo', 'expanded_url': 'https://youtu.be/Bgj-d2A67bA', 'display_url': 'youtu.be/Bgj-d2A67bA', 'indices': [176, 199]}]}, 'metadata': {'iso_language_code': 'en', 'result_type': 'recent'}, 'source': '<a href=\"http://twitter.com/download/android\" rel=\"nofollow\">Twitter for Android</a>', 'in_reply_to_status_id': 1322245530945114112, 'in_reply_to_status_id_str': '1322245530945114112', 'in_reply_to_user_id': 120184473, 'in_reply_to_user_id_str': '120184473', 'in_reply_to_screen_name': 'ErayCr', 'user': {'id': 1286602850441687040, 'id_str': '1286602850441687040', 'name': 'Walter White', 'screen_name': 'Deshbhakt_walte', 'location': '', 'description': 'Congress, Indian, Secular, Democracy', 'url': None, 'entities': {'description': {'urls': []}}, 'protected': False, 'followers_count': 1687, 'friends_count': 1815, 'listed_count': 0, 'created_at': 'Fri Jul 24 10:03:27 +0000 2020', 'favourites_count': 7331, 'utc_offset': None, 'time_zone': None, 'geo_enabled': False, 'verified': False, 'statuses_count': 3904, 'lang': None, 'contributors_enabled': False, 'is_translator': False, 'is_translation_enabled': False, 'profile_background_color': 'F5F8FA', 'profile_background_image_url': None, 'profile_background_image_url_https': None, 'profile_background_tile': False, 'profile_image_url': 'http://pbs.twimg.com/profile_images/1292493936305377280/QjGCSPtS_normal.jpg', 'profile_image_url_https': 'https://pbs.twimg.com/profile_images/1292493936305377280/QjGCSPtS_normal.jpg', 'profile_banner_url': 'https://pbs.twimg.com/profile_banners/1286602850441687040/1595683336', 'profile_link_color': '1DA1F2', 'profile_sidebar_border_color': 'C0DEED', 'profile_sidebar_fill_color': 'DDEEF6', 'profile_text_color': '333333', 'profile_use_background_image': True, 'has_extended_profile': True, 'default_profile': True, 'default_profile_image': False, 'following': False, 'follow_request_sent': False, 'notifications': False, 'translator_type': 'none'}, 'geo': None, 'coordinates': None, 'place': None, 'contributors': None, 'is_quote_status': False, 'retweet_count': 0, 'favorite_count': 0, 'favorited': False, 'retweeted': False, 'possibly_sensitive': False, 'lang': 'en'}, created_at=datetime.datetime(2020, 11, 1, 3, 25, 42), id=1322741579925217280, id_str='1322741579925217280', full_text='@ErayCr Hehe.. Stop spreading fake news. First it was Justice for Sushant...now its justice for others....republic &amp; kangana is fooling the peoplee...using poor sushanth...https://t.co/zElBSzKmHo  watch this videoo', truncated=False, display_text_range=[8, 218], entities={'hashtags': [], 'symbols': [], 'user_mentions': [{'screen_name': 'ErayCr', 'name': 'Eray Cather', 'id': 120184473, 'id_str': '120184473', 'indices': [0, 7]}], 'urls': [{'url': 'https://t.co/zElBSzKmHo', 'expanded_url': 'https://youtu.be/Bgj-d2A67bA', 'display_url': 'youtu.be/Bgj-d2A67bA', 'indices': [176, 199]}]}, metadata={'iso_language_code': 'en', 'result_type': 'recent'}, source='Twitter for Android', source_url='http://twitter.com/download/android', in_reply_to_status_id=1322245530945114112, in_reply_to_status_id_str='1322245530945114112', in_reply_to_user_id=120184473, in_reply_to_user_id_str='120184473', in_reply_to_screen_name='ErayCr', author=User(_api=<tweepy.api.API object at 0x000001C679D7BC88>, _json={'id': 1286602850441687040, 'id_str': '1286602850441687040', 'name': 'Walter White', 'screen_name': 'Deshbhakt_walte', 'location': '', 'description': 'Congress, Indian, Secular, Democracy', 'url': None, 'entities': {'description': {'urls': []}}, 'protected': False, 'followers_count': 1687, 'friends_count': 1815, 'listed_count': 0, 'created_at': 'Fri Jul 24 10:03:27 +0000 2020', 'favourites_count': 7331, 'utc_offset': None, 'time_zone': None, 'geo_enabled': False, 'verified': False, 'statuses_count': 3904, 'lang': None, 'contributors_enabled': False, 'is_translator': False, 'is_translation_enabled': False, 'profile_background_color': 'F5F8FA', 'profile_background_image_url': None, 'profile_background_image_url_https': None, 'profile_background_tile': False, 'profile_image_url': 'http://pbs.twimg.com/profile_images/1292493936305377280/QjGCSPtS_normal.jpg', 'profile_image_url_https': 'https://pbs.twimg.com/profile_images/1292493936305377280/QjGCSPtS_normal.jpg', 'profile_banner_url': 'https://pbs.twimg.com/profile_banners/1286602850441687040/1595683336', 'profile_link_color': '1DA1F2', 'profile_sidebar_border_color': 'C0DEED', 'profile_sidebar_fill_color': 'DDEEF6', 'profile_text_color': '333333', 'profile_use_background_image': True, 'has_extended_profile': True, 'default_profile': True, 'default_profile_image': False, 'following': False, 'follow_request_sent': False, 'notifications': False, 'translator_type': 'none'}, id=1286602850441687040, id_str='1286602850441687040', name='Walter White', screen_name='Deshbhakt_walte', location='', description='Congress, Indian, Secular, Democracy', url=None, entities={'description': {'urls': []}}, protected=False, followers_count=1687, friends_count=1815, listed_count=0, created_at=datetime.datetime(2020, 7, 24, 10, 3, 27), favourites_count=7331, utc_offset=None, time_zone=None, geo_enabled=False, verified=False, statuses_count=3904, lang=None, contributors_enabled=False, is_translator=False, is_translation_enabled=False, profile_background_color='F5F8FA', profile_background_image_url=None, profile_background_image_url_https=None, profile_background_tile=False, profile_image_url='http://pbs.twimg.com/profile_images/1292493936305377280/QjGCSPtS_normal.jpg', profile_image_url_https='https://pbs.twimg.com/profile_images/1292493936305377280/QjGCSPtS_normal.jpg', profile_banner_url='https://pbs.twimg.com/profile_banners/1286602850441687040/1595683336', profile_link_color='1DA1F2', profile_sidebar_border_color='C0DEED', profile_sidebar_fill_color='DDEEF6', profile_text_color='333333', profile_use_background_image=True, has_extended_profile=True, default_profile=True, default_profile_image=False, following=False, follow_request_sent=False, notifications=False, translator_type='none'), user=User(_api=<tweepy.api.API object at 0x000001C679D7BC88>, _json={'id': 1286602850441687040, 'id_str': '1286602850441687040', 'name': 'Walter White', 'screen_name': 'Deshbhakt_walte', 'location': '', 'description': 'Congress, Indian, Secular, Democracy', 'url': None, 'entities': {'description': {'urls': []}}, 'protected': False, 'followers_count': 1687, 'friends_count': 1815, 'listed_count': 0, 'created_at': 'Fri Jul 24 10:03:27 +0000 2020', 'favourites_count': 7331, 'utc_offset': None, 'time_zone': None, 'geo_enabled': False, 'verified': False, 'statuses_count': 3904, 'lang': None, 'contributors_enabled': False, 'is_translator': False, 'is_translation_enabled': False, 'profile_background_color': 'F5F8FA', 'profile_background_image_url': None, 'profile_background_image_url_https': None, 'profile_background_tile': False, 'profile_image_url': 'http://pbs.twimg.com/profile_images/1292493936305377280/QjGCSPtS_normal.jpg', 'profile_image_url_https': 'https://pbs.twimg.com/profile_images/1292493936305377280/QjGCSPtS_normal.jpg', 'profile_banner_url': 'https://pbs.twimg.com/profile_banners/1286602850441687040/1595683336', 'profile_link_color': '1DA1F2', 'profile_sidebar_border_color': 'C0DEED', 'profile_sidebar_fill_color': 'DDEEF6', 'profile_text_color': '333333', 'profile_use_background_image': True, 'has_extended_profile': True, 'default_profile': True, 'default_profile_image': False, 'following': False, 'follow_request_sent': False, 'notifications': False, 'translator_type': 'none'}, id=1286602850441687040, id_str='1286602850441687040', name='Walter White', screen_name='Deshbhakt_walte', location='', description='Congress, Indian, Secular, Democracy', url=None, entities={'description': {'urls': []}}, protected=False, followers_count=1687, friends_count=1815, listed_count=0, created_at=datetime.datetime(2020, 7, 24, 10, 3, 27), favourites_count=7331, utc_offset=None, time_zone=None, geo_enabled=False, verified=False, statuses_count=3904, lang=None, contributors_enabled=False, is_translator=False, is_translation_enabled=False, profile_background_color='F5F8FA', profile_background_image_url=None, profile_background_image_url_https=None, profile_background_tile=False, profile_image_url='http://pbs.twimg.com/profile_images/1292493936305377280/QjGCSPtS_normal.jpg', profile_image_url_https='https://pbs.twimg.com/profile_images/1292493936305377280/QjGCSPtS_normal.jpg', profile_banner_url='https://pbs.twimg.com/profile_banners/1286602850441687040/1595683336', profile_link_color='1DA1F2', profile_sidebar_border_color='C0DEED', profile_sidebar_fill_color='DDEEF6', profile_text_color='333333', profile_use_background_image=True, has_extended_profile=True, default_profile=True, default_profile_image=False, following=False, follow_request_sent=False, notifications=False, translator_type='none'), geo=None, coordinates=None, place=None, contributors=None, is_quote_status=False, retweet_count=0, favorite_count=0, favorited=False, retweeted=False, possibly_sensitive=False, lang='en') \n",
      "\n",
      ".....................................\n",
      "\n",
      "Status(_api=<tweepy.api.API object at 0x000001C679D7BC88>, _json={'created_at': 'Sat Oct 31 13:45:31 +0000 2020', 'id': 1322535172676362242, 'id_str': '1322535172676362242', 'full_text': \"Mujhe ni patha ke kispar barosa karna he. Koi kuch...tho koi kuch boltha he. Kya SSRians me bhi split he? Currently I just trust God, and waiting for sushanth's justice. \\n#CBISpeedUpSSRCase\", 'truncated': False, 'display_text_range': [0, 189], 'entities': {'hashtags': [{'text': 'CBISpeedUpSSRCase', 'indices': [171, 189]}], 'symbols': [], 'user_mentions': [], 'urls': []}, 'metadata': {'iso_language_code': 'en', 'result_type': 'recent'}, 'source': '<a href=\"http://twitter.com/download/android\" rel=\"nofollow\">Twitter for Android</a>', 'in_reply_to_status_id': None, 'in_reply_to_status_id_str': None, 'in_reply_to_user_id': None, 'in_reply_to_user_id_str': None, 'in_reply_to_screen_name': None, 'user': {'id': 1284029741410869248, 'id_str': '1284029741410869248', 'name': 'Maya S Kamath', 'screen_name': 'MayaSKamath1', 'location': 'North Ernakulam, Kanayannur', 'description': 'I am Maya,\\njustice for Sushanth and Disha', 'url': None, 'entities': {'description': {'urls': []}}, 'protected': False, 'followers_count': 215, 'friends_count': 478, 'listed_count': 0, 'created_at': 'Fri Jul 17 07:39:01 +0000 2020', 'favourites_count': 768, 'utc_offset': None, 'time_zone': None, 'geo_enabled': False, 'verified': False, 'statuses_count': 1345, 'lang': None, 'contributors_enabled': False, 'is_translator': False, 'is_translation_enabled': False, 'profile_background_color': 'F5F8FA', 'profile_background_image_url': None, 'profile_background_image_url_https': None, 'profile_background_tile': False, 'profile_image_url': 'http://pbs.twimg.com/profile_images/1285570714246864897/Se1ggJf9_normal.jpg', 'profile_image_url_https': 'https://pbs.twimg.com/profile_images/1285570714246864897/Se1ggJf9_normal.jpg', 'profile_banner_url': 'https://pbs.twimg.com/profile_banners/1284029741410869248/1595338973', 'profile_link_color': '1DA1F2', 'profile_sidebar_border_color': 'C0DEED', 'profile_sidebar_fill_color': 'DDEEF6', 'profile_text_color': '333333', 'profile_use_background_image': True, 'has_extended_profile': True, 'default_profile': True, 'default_profile_image': False, 'following': False, 'follow_request_sent': False, 'notifications': False, 'translator_type': 'none'}, 'geo': None, 'coordinates': None, 'place': None, 'contributors': None, 'is_quote_status': False, 'retweet_count': 1, 'favorite_count': 2, 'favorited': False, 'retweeted': False, 'lang': 'en'}, created_at=datetime.datetime(2020, 10, 31, 13, 45, 31), id=1322535172676362242, id_str='1322535172676362242', full_text=\"Mujhe ni patha ke kispar barosa karna he. Koi kuch...tho koi kuch boltha he. Kya SSRians me bhi split he? Currently I just trust God, and waiting for sushanth's justice. \\n#CBISpeedUpSSRCase\", truncated=False, display_text_range=[0, 189], entities={'hashtags': [{'text': 'CBISpeedUpSSRCase', 'indices': [171, 189]}], 'symbols': [], 'user_mentions': [], 'urls': []}, metadata={'iso_language_code': 'en', 'result_type': 'recent'}, source='Twitter for Android', source_url='http://twitter.com/download/android', in_reply_to_status_id=None, in_reply_to_status_id_str=None, in_reply_to_user_id=None, in_reply_to_user_id_str=None, in_reply_to_screen_name=None, author=User(_api=<tweepy.api.API object at 0x000001C679D7BC88>, _json={'id': 1284029741410869248, 'id_str': '1284029741410869248', 'name': 'Maya S Kamath', 'screen_name': 'MayaSKamath1', 'location': 'North Ernakulam, Kanayannur', 'description': 'I am Maya,\\njustice for Sushanth and Disha', 'url': None, 'entities': {'description': {'urls': []}}, 'protected': False, 'followers_count': 215, 'friends_count': 478, 'listed_count': 0, 'created_at': 'Fri Jul 17 07:39:01 +0000 2020', 'favourites_count': 768, 'utc_offset': None, 'time_zone': None, 'geo_enabled': False, 'verified': False, 'statuses_count': 1345, 'lang': None, 'contributors_enabled': False, 'is_translator': False, 'is_translation_enabled': False, 'profile_background_color': 'F5F8FA', 'profile_background_image_url': None, 'profile_background_image_url_https': None, 'profile_background_tile': False, 'profile_image_url': 'http://pbs.twimg.com/profile_images/1285570714246864897/Se1ggJf9_normal.jpg', 'profile_image_url_https': 'https://pbs.twimg.com/profile_images/1285570714246864897/Se1ggJf9_normal.jpg', 'profile_banner_url': 'https://pbs.twimg.com/profile_banners/1284029741410869248/1595338973', 'profile_link_color': '1DA1F2', 'profile_sidebar_border_color': 'C0DEED', 'profile_sidebar_fill_color': 'DDEEF6', 'profile_text_color': '333333', 'profile_use_background_image': True, 'has_extended_profile': True, 'default_profile': True, 'default_profile_image': False, 'following': False, 'follow_request_sent': False, 'notifications': False, 'translator_type': 'none'}, id=1284029741410869248, id_str='1284029741410869248', name='Maya S Kamath', screen_name='MayaSKamath1', location='North Ernakulam, Kanayannur', description='I am Maya,\\njustice for Sushanth and Disha', url=None, entities={'description': {'urls': []}}, protected=False, followers_count=215, friends_count=478, listed_count=0, created_at=datetime.datetime(2020, 7, 17, 7, 39, 1), favourites_count=768, utc_offset=None, time_zone=None, geo_enabled=False, verified=False, statuses_count=1345, lang=None, contributors_enabled=False, is_translator=False, is_translation_enabled=False, profile_background_color='F5F8FA', profile_background_image_url=None, profile_background_image_url_https=None, profile_background_tile=False, profile_image_url='http://pbs.twimg.com/profile_images/1285570714246864897/Se1ggJf9_normal.jpg', profile_image_url_https='https://pbs.twimg.com/profile_images/1285570714246864897/Se1ggJf9_normal.jpg', profile_banner_url='https://pbs.twimg.com/profile_banners/1284029741410869248/1595338973', profile_link_color='1DA1F2', profile_sidebar_border_color='C0DEED', profile_sidebar_fill_color='DDEEF6', profile_text_color='333333', profile_use_background_image=True, has_extended_profile=True, default_profile=True, default_profile_image=False, following=False, follow_request_sent=False, notifications=False, translator_type='none'), user=User(_api=<tweepy.api.API object at 0x000001C679D7BC88>, _json={'id': 1284029741410869248, 'id_str': '1284029741410869248', 'name': 'Maya S Kamath', 'screen_name': 'MayaSKamath1', 'location': 'North Ernakulam, Kanayannur', 'description': 'I am Maya,\\njustice for Sushanth and Disha', 'url': None, 'entities': {'description': {'urls': []}}, 'protected': False, 'followers_count': 215, 'friends_count': 478, 'listed_count': 0, 'created_at': 'Fri Jul 17 07:39:01 +0000 2020', 'favourites_count': 768, 'utc_offset': None, 'time_zone': None, 'geo_enabled': False, 'verified': False, 'statuses_count': 1345, 'lang': None, 'contributors_enabled': False, 'is_translator': False, 'is_translation_enabled': False, 'profile_background_color': 'F5F8FA', 'profile_background_image_url': None, 'profile_background_image_url_https': None, 'profile_background_tile': False, 'profile_image_url': 'http://pbs.twimg.com/profile_images/1285570714246864897/Se1ggJf9_normal.jpg', 'profile_image_url_https': 'https://pbs.twimg.com/profile_images/1285570714246864897/Se1ggJf9_normal.jpg', 'profile_banner_url': 'https://pbs.twimg.com/profile_banners/1284029741410869248/1595338973', 'profile_link_color': '1DA1F2', 'profile_sidebar_border_color': 'C0DEED', 'profile_sidebar_fill_color': 'DDEEF6', 'profile_text_color': '333333', 'profile_use_background_image': True, 'has_extended_profile': True, 'default_profile': True, 'default_profile_image': False, 'following': False, 'follow_request_sent': False, 'notifications': False, 'translator_type': 'none'}, id=1284029741410869248, id_str='1284029741410869248', name='Maya S Kamath', screen_name='MayaSKamath1', location='North Ernakulam, Kanayannur', description='I am Maya,\\njustice for Sushanth and Disha', url=None, entities={'description': {'urls': []}}, protected=False, followers_count=215, friends_count=478, listed_count=0, created_at=datetime.datetime(2020, 7, 17, 7, 39, 1), favourites_count=768, utc_offset=None, time_zone=None, geo_enabled=False, verified=False, statuses_count=1345, lang=None, contributors_enabled=False, is_translator=False, is_translation_enabled=False, profile_background_color='F5F8FA', profile_background_image_url=None, profile_background_image_url_https=None, profile_background_tile=False, profile_image_url='http://pbs.twimg.com/profile_images/1285570714246864897/Se1ggJf9_normal.jpg', profile_image_url_https='https://pbs.twimg.com/profile_images/1285570714246864897/Se1ggJf9_normal.jpg', profile_banner_url='https://pbs.twimg.com/profile_banners/1284029741410869248/1595338973', profile_link_color='1DA1F2', profile_sidebar_border_color='C0DEED', profile_sidebar_fill_color='DDEEF6', profile_text_color='333333', profile_use_background_image=True, has_extended_profile=True, default_profile=True, default_profile_image=False, following=False, follow_request_sent=False, notifications=False, translator_type='none'), geo=None, coordinates=None, place=None, contributors=None, is_quote_status=False, retweet_count=1, favorite_count=2, favorited=False, retweeted=False, lang='en') \n",
      "\n",
      ".....................................\n",
      "\n",
      "Status(_api=<tweepy.api.API object at 0x000001C679D7BC88>, _json={'created_at': 'Sat Oct 31 13:21:35 +0000 2020', 'id': 1322529150347833344, 'id_str': '1322529150347833344', 'full_text': 'Yes, exactly....we will grab n snatch justice for our beloved Sushanth at any cost come what may\\n\\n#CBIUpdateOnSSRCase https://t.co/Gl9tdEBL5O', 'truncated': False, 'display_text_range': [0, 117], 'entities': {'hashtags': [{'text': 'CBIUpdateOnSSRCase', 'indices': [98, 117]}], 'symbols': [], 'user_mentions': [], 'urls': [{'url': 'https://t.co/Gl9tdEBL5O', 'expanded_url': 'https://twitter.com/Shreya03369722/status/1322508604583288833', 'display_url': 'twitter.com/Shreya03369722…', 'indices': [118, 141]}]}, 'metadata': {'iso_language_code': 'en', 'result_type': 'recent'}, 'source': '<a href=\"http://twitter.com/download/android\" rel=\"nofollow\">Twitter for Android</a>', 'in_reply_to_status_id': None, 'in_reply_to_status_id_str': None, 'in_reply_to_user_id': None, 'in_reply_to_user_id_str': None, 'in_reply_to_screen_name': None, 'user': {'id': 1312468391240724480, 'id_str': '1312468391240724480', 'name': 'Divyanand217@gmail com', 'screen_name': 'divyanand217', 'location': '', 'description': 'Here on Twitter, only&only 4  #JusticeforSushanthSinghRajput, our beloved SSR🔥🌷', 'url': None, 'entities': {'description': {'urls': []}}, 'protected': False, 'followers_count': 73, 'friends_count': 184, 'listed_count': 0, 'created_at': 'Sat Oct 03 19:04:40 +0000 2020', 'favourites_count': 3322, 'utc_offset': None, 'time_zone': None, 'geo_enabled': False, 'verified': False, 'statuses_count': 4675, 'lang': None, 'contributors_enabled': False, 'is_translator': False, 'is_translation_enabled': False, 'profile_background_color': 'F5F8FA', 'profile_background_image_url': None, 'profile_background_image_url_https': None, 'profile_background_tile': False, 'profile_image_url': 'http://pbs.twimg.com/profile_images/1322557877194612736/-rVvpgzB_normal.jpg', 'profile_image_url_https': 'https://pbs.twimg.com/profile_images/1322557877194612736/-rVvpgzB_normal.jpg', 'profile_banner_url': 'https://pbs.twimg.com/profile_banners/1312468391240724480/1604157344', 'profile_link_color': '1DA1F2', 'profile_sidebar_border_color': 'C0DEED', 'profile_sidebar_fill_color': 'DDEEF6', 'profile_text_color': '333333', 'profile_use_background_image': True, 'has_extended_profile': True, 'default_profile': True, 'default_profile_image': False, 'following': False, 'follow_request_sent': False, 'notifications': False, 'translator_type': 'none'}, 'geo': None, 'coordinates': None, 'place': None, 'contributors': None, 'is_quote_status': True, 'quoted_status_id': 1322508604583288833, 'quoted_status_id_str': '1322508604583288833', 'quoted_status': {'created_at': 'Sat Oct 31 11:59:57 +0000 2020', 'id': 1322508604583288833, 'id_str': '1322508604583288833', 'full_text': 'The love of so many people, the tears, the prayers will not fail, those who have removed you from this world, they will not be able to leave this world so easily with the burden of their sins, they will be punished....\\n@iRaviTiwari\\n@republic\\n@TimesNow\\n@ANI\\n#CBIUpdateOnSSRCase https://t.co/N9g4iyMriR', 'truncated': False, 'display_text_range': [0, 276], 'entities': {'hashtags': [{'text': 'CBIUpdateOnSSRCase', 'indices': [257, 276]}], 'symbols': [], 'user_mentions': [{'screen_name': 'iRaviTiwari', 'name': 'Ravi Tiwari Bihari', 'id': 283880163, 'id_str': '283880163', 'indices': [219, 231]}, {'screen_name': 'republic', 'name': 'Republic', 'id': 811972460560019456, 'id_str': '811972460560019456', 'indices': [232, 241]}, {'screen_name': 'TimesNow', 'name': 'TIMES NOW', 'id': 240649814, 'id_str': '240649814', 'indices': [242, 251]}, {'screen_name': 'ANI', 'name': 'ANI', 'id': 355989081, 'id_str': '355989081', 'indices': [252, 256]}], 'urls': [], 'media': [{'id': 1322508601118781440, 'id_str': '1322508601118781440', 'indices': [277, 300], 'media_url': 'http://pbs.twimg.com/media/Elp-kNYVcAANddP.jpg', 'media_url_https': 'https://pbs.twimg.com/media/Elp-kNYVcAANddP.jpg', 'url': 'https://t.co/N9g4iyMriR', 'display_url': 'pic.twitter.com/N9g4iyMriR', 'expanded_url': 'https://twitter.com/Shreya03369722/status/1322508604583288833/photo/1', 'type': 'photo', 'sizes': {'medium': {'w': 966, 'h': 1200, 'resize': 'fit'}, 'large': {'w': 1030, 'h': 1280, 'resize': 'fit'}, 'thumb': {'w': 150, 'h': 150, 'resize': 'crop'}, 'small': {'w': 547, 'h': 680, 'resize': 'fit'}}}]}, 'extended_entities': {'media': [{'id': 1322508601118781440, 'id_str': '1322508601118781440', 'indices': [277, 300], 'media_url': 'http://pbs.twimg.com/media/Elp-kNYVcAANddP.jpg', 'media_url_https': 'https://pbs.twimg.com/media/Elp-kNYVcAANddP.jpg', 'url': 'https://t.co/N9g4iyMriR', 'display_url': 'pic.twitter.com/N9g4iyMriR', 'expanded_url': 'https://twitter.com/Shreya03369722/status/1322508604583288833/photo/1', 'type': 'photo', 'sizes': {'medium': {'w': 966, 'h': 1200, 'resize': 'fit'}, 'large': {'w': 1030, 'h': 1280, 'resize': 'fit'}, 'thumb': {'w': 150, 'h': 150, 'resize': 'crop'}, 'small': {'w': 547, 'h': 680, 'resize': 'fit'}}}]}, 'metadata': {'iso_language_code': 'en', 'result_type': 'recent'}, 'source': '<a href=\"http://twitter.com/download/android\" rel=\"nofollow\">Twitter for Android</a>', 'in_reply_to_status_id': None, 'in_reply_to_status_id_str': None, 'in_reply_to_user_id': None, 'in_reply_to_user_id_str': None, 'in_reply_to_screen_name': None, 'user': {'id': 1291623815999401985, 'id_str': '1291623815999401985', 'name': 'Shreya-Eshna', 'screen_name': 'Shreya03369722', 'location': '', 'description': 'Sushant💖\\n🇮🇳', 'url': None, 'entities': {'description': {'urls': []}}, 'protected': False, 'followers_count': 332, 'friends_count': 170, 'listed_count': 0, 'created_at': 'Fri Aug 07 06:34:58 +0000 2020', 'favourites_count': 487, 'utc_offset': None, 'time_zone': None, 'geo_enabled': False, 'verified': False, 'statuses_count': 1140, 'lang': None, 'contributors_enabled': False, 'is_translator': False, 'is_translation_enabled': False, 'profile_background_color': 'F5F8FA', 'profile_background_image_url': None, 'profile_background_image_url_https': None, 'profile_background_tile': False, 'profile_image_url': 'http://pbs.twimg.com/profile_images/1315668605078446082/-Af1hmHj_normal.jpg', 'profile_image_url_https': 'https://pbs.twimg.com/profile_images/1315668605078446082/-Af1hmHj_normal.jpg', 'profile_banner_url': 'https://pbs.twimg.com/profile_banners/1291623815999401985/1602757077', 'profile_link_color': '1DA1F2', 'profile_sidebar_border_color': 'C0DEED', 'profile_sidebar_fill_color': 'DDEEF6', 'profile_text_color': '333333', 'profile_use_background_image': True, 'has_extended_profile': True, 'default_profile': True, 'default_profile_image': False, 'following': False, 'follow_request_sent': False, 'notifications': False, 'translator_type': 'none'}, 'geo': None, 'coordinates': None, 'place': None, 'contributors': None, 'is_quote_status': False, 'retweet_count': 4, 'favorite_count': 8, 'favorited': False, 'retweeted': False, 'possibly_sensitive': False, 'lang': 'en'}, 'retweet_count': 1, 'favorite_count': 1, 'favorited': False, 'retweeted': False, 'possibly_sensitive': False, 'lang': 'en'}, created_at=datetime.datetime(2020, 10, 31, 13, 21, 35), id=1322529150347833344, id_str='1322529150347833344', full_text='Yes, exactly....we will grab n snatch justice for our beloved Sushanth at any cost come what may\\n\\n#CBIUpdateOnSSRCase https://t.co/Gl9tdEBL5O', truncated=False, display_text_range=[0, 117], entities={'hashtags': [{'text': 'CBIUpdateOnSSRCase', 'indices': [98, 117]}], 'symbols': [], 'user_mentions': [], 'urls': [{'url': 'https://t.co/Gl9tdEBL5O', 'expanded_url': 'https://twitter.com/Shreya03369722/status/1322508604583288833', 'display_url': 'twitter.com/Shreya03369722…', 'indices': [118, 141]}]}, metadata={'iso_language_code': 'en', 'result_type': 'recent'}, source='Twitter for Android', source_url='http://twitter.com/download/android', in_reply_to_status_id=None, in_reply_to_status_id_str=None, in_reply_to_user_id=None, in_reply_to_user_id_str=None, in_reply_to_screen_name=None, author=User(_api=<tweepy.api.API object at 0x000001C679D7BC88>, _json={'id': 1312468391240724480, 'id_str': '1312468391240724480', 'name': 'Divyanand217@gmail com', 'screen_name': 'divyanand217', 'location': '', 'description': 'Here on Twitter, only&only 4  #JusticeforSushanthSinghRajput, our beloved SSR🔥🌷', 'url': None, 'entities': {'description': {'urls': []}}, 'protected': False, 'followers_count': 73, 'friends_count': 184, 'listed_count': 0, 'created_at': 'Sat Oct 03 19:04:40 +0000 2020', 'favourites_count': 3322, 'utc_offset': None, 'time_zone': None, 'geo_enabled': False, 'verified': False, 'statuses_count': 4675, 'lang': None, 'contributors_enabled': False, 'is_translator': False, 'is_translation_enabled': False, 'profile_background_color': 'F5F8FA', 'profile_background_image_url': None, 'profile_background_image_url_https': None, 'profile_background_tile': False, 'profile_image_url': 'http://pbs.twimg.com/profile_images/1322557877194612736/-rVvpgzB_normal.jpg', 'profile_image_url_https': 'https://pbs.twimg.com/profile_images/1322557877194612736/-rVvpgzB_normal.jpg', 'profile_banner_url': 'https://pbs.twimg.com/profile_banners/1312468391240724480/1604157344', 'profile_link_color': '1DA1F2', 'profile_sidebar_border_color': 'C0DEED', 'profile_sidebar_fill_color': 'DDEEF6', 'profile_text_color': '333333', 'profile_use_background_image': True, 'has_extended_profile': True, 'default_profile': True, 'default_profile_image': False, 'following': False, 'follow_request_sent': False, 'notifications': False, 'translator_type': 'none'}, id=1312468391240724480, id_str='1312468391240724480', name='Divyanand217@gmail com', screen_name='divyanand217', location='', description='Here on Twitter, only&only 4  #JusticeforSushanthSinghRajput, our beloved SSR🔥🌷', url=None, entities={'description': {'urls': []}}, protected=False, followers_count=73, friends_count=184, listed_count=0, created_at=datetime.datetime(2020, 10, 3, 19, 4, 40), favourites_count=3322, utc_offset=None, time_zone=None, geo_enabled=False, verified=False, statuses_count=4675, lang=None, contributors_enabled=False, is_translator=False, is_translation_enabled=False, profile_background_color='F5F8FA', profile_background_image_url=None, profile_background_image_url_https=None, profile_background_tile=False, profile_image_url='http://pbs.twimg.com/profile_images/1322557877194612736/-rVvpgzB_normal.jpg', profile_image_url_https='https://pbs.twimg.com/profile_images/1322557877194612736/-rVvpgzB_normal.jpg', profile_banner_url='https://pbs.twimg.com/profile_banners/1312468391240724480/1604157344', profile_link_color='1DA1F2', profile_sidebar_border_color='C0DEED', profile_sidebar_fill_color='DDEEF6', profile_text_color='333333', profile_use_background_image=True, has_extended_profile=True, default_profile=True, default_profile_image=False, following=False, follow_request_sent=False, notifications=False, translator_type='none'), user=User(_api=<tweepy.api.API object at 0x000001C679D7BC88>, _json={'id': 1312468391240724480, 'id_str': '1312468391240724480', 'name': 'Divyanand217@gmail com', 'screen_name': 'divyanand217', 'location': '', 'description': 'Here on Twitter, only&only 4  #JusticeforSushanthSinghRajput, our beloved SSR🔥🌷', 'url': None, 'entities': {'description': {'urls': []}}, 'protected': False, 'followers_count': 73, 'friends_count': 184, 'listed_count': 0, 'created_at': 'Sat Oct 03 19:04:40 +0000 2020', 'favourites_count': 3322, 'utc_offset': None, 'time_zone': None, 'geo_enabled': False, 'verified': False, 'statuses_count': 4675, 'lang': None, 'contributors_enabled': False, 'is_translator': False, 'is_translation_enabled': False, 'profile_background_color': 'F5F8FA', 'profile_background_image_url': None, 'profile_background_image_url_https': None, 'profile_background_tile': False, 'profile_image_url': 'http://pbs.twimg.com/profile_images/1322557877194612736/-rVvpgzB_normal.jpg', 'profile_image_url_https': 'https://pbs.twimg.com/profile_images/1322557877194612736/-rVvpgzB_normal.jpg', 'profile_banner_url': 'https://pbs.twimg.com/profile_banners/1312468391240724480/1604157344', 'profile_link_color': '1DA1F2', 'profile_sidebar_border_color': 'C0DEED', 'profile_sidebar_fill_color': 'DDEEF6', 'profile_text_color': '333333', 'profile_use_background_image': True, 'has_extended_profile': True, 'default_profile': True, 'default_profile_image': False, 'following': False, 'follow_request_sent': False, 'notifications': False, 'translator_type': 'none'}, id=1312468391240724480, id_str='1312468391240724480', name='Divyanand217@gmail com', screen_name='divyanand217', location='', description='Here on Twitter, only&only 4  #JusticeforSushanthSinghRajput, our beloved SSR🔥🌷', url=None, entities={'description': {'urls': []}}, protected=False, followers_count=73, friends_count=184, listed_count=0, created_at=datetime.datetime(2020, 10, 3, 19, 4, 40), favourites_count=3322, utc_offset=None, time_zone=None, geo_enabled=False, verified=False, statuses_count=4675, lang=None, contributors_enabled=False, is_translator=False, is_translation_enabled=False, profile_background_color='F5F8FA', profile_background_image_url=None, profile_background_image_url_https=None, profile_background_tile=False, profile_image_url='http://pbs.twimg.com/profile_images/1322557877194612736/-rVvpgzB_normal.jpg', profile_image_url_https='https://pbs.twimg.com/profile_images/1322557877194612736/-rVvpgzB_normal.jpg', profile_banner_url='https://pbs.twimg.com/profile_banners/1312468391240724480/1604157344', profile_link_color='1DA1F2', profile_sidebar_border_color='C0DEED', profile_sidebar_fill_color='DDEEF6', profile_text_color='333333', profile_use_background_image=True, has_extended_profile=True, default_profile=True, default_profile_image=False, following=False, follow_request_sent=False, notifications=False, translator_type='none'), geo=None, coordinates=None, place=None, contributors=None, is_quote_status=True, quoted_status_id=1322508604583288833, quoted_status_id_str='1322508604583288833', quoted_status=Status(_api=<tweepy.api.API object at 0x000001C679D7BC88>, _json={'created_at': 'Sat Oct 31 11:59:57 +0000 2020', 'id': 1322508604583288833, 'id_str': '1322508604583288833', 'full_text': 'The love of so many people, the tears, the prayers will not fail, those who have removed you from this world, they will not be able to leave this world so easily with the burden of their sins, they will be punished....\\n@iRaviTiwari\\n@republic\\n@TimesNow\\n@ANI\\n#CBIUpdateOnSSRCase https://t.co/N9g4iyMriR', 'truncated': False, 'display_text_range': [0, 276], 'entities': {'hashtags': [{'text': 'CBIUpdateOnSSRCase', 'indices': [257, 276]}], 'symbols': [], 'user_mentions': [{'screen_name': 'iRaviTiwari', 'name': 'Ravi Tiwari Bihari', 'id': 283880163, 'id_str': '283880163', 'indices': [219, 231]}, {'screen_name': 'republic', 'name': 'Republic', 'id': 811972460560019456, 'id_str': '811972460560019456', 'indices': [232, 241]}, {'screen_name': 'TimesNow', 'name': 'TIMES NOW', 'id': 240649814, 'id_str': '240649814', 'indices': [242, 251]}, {'screen_name': 'ANI', 'name': 'ANI', 'id': 355989081, 'id_str': '355989081', 'indices': [252, 256]}], 'urls': [], 'media': [{'id': 1322508601118781440, 'id_str': '1322508601118781440', 'indices': [277, 300], 'media_url': 'http://pbs.twimg.com/media/Elp-kNYVcAANddP.jpg', 'media_url_https': 'https://pbs.twimg.com/media/Elp-kNYVcAANddP.jpg', 'url': 'https://t.co/N9g4iyMriR', 'display_url': 'pic.twitter.com/N9g4iyMriR', 'expanded_url': 'https://twitter.com/Shreya03369722/status/1322508604583288833/photo/1', 'type': 'photo', 'sizes': {'medium': {'w': 966, 'h': 1200, 'resize': 'fit'}, 'large': {'w': 1030, 'h': 1280, 'resize': 'fit'}, 'thumb': {'w': 150, 'h': 150, 'resize': 'crop'}, 'small': {'w': 547, 'h': 680, 'resize': 'fit'}}}]}, 'extended_entities': {'media': [{'id': 1322508601118781440, 'id_str': '1322508601118781440', 'indices': [277, 300], 'media_url': 'http://pbs.twimg.com/media/Elp-kNYVcAANddP.jpg', 'media_url_https': 'https://pbs.twimg.com/media/Elp-kNYVcAANddP.jpg', 'url': 'https://t.co/N9g4iyMriR', 'display_url': 'pic.twitter.com/N9g4iyMriR', 'expanded_url': 'https://twitter.com/Shreya03369722/status/1322508604583288833/photo/1', 'type': 'photo', 'sizes': {'medium': {'w': 966, 'h': 1200, 'resize': 'fit'}, 'large': {'w': 1030, 'h': 1280, 'resize': 'fit'}, 'thumb': {'w': 150, 'h': 150, 'resize': 'crop'}, 'small': {'w': 547, 'h': 680, 'resize': 'fit'}}}]}, 'metadata': {'iso_language_code': 'en', 'result_type': 'recent'}, 'source': '<a href=\"http://twitter.com/download/android\" rel=\"nofollow\">Twitter for Android</a>', 'in_reply_to_status_id': None, 'in_reply_to_status_id_str': None, 'in_reply_to_user_id': None, 'in_reply_to_user_id_str': None, 'in_reply_to_screen_name': None, 'user': {'id': 1291623815999401985, 'id_str': '1291623815999401985', 'name': 'Shreya-Eshna', 'screen_name': 'Shreya03369722', 'location': '', 'description': 'Sushant💖\\n🇮🇳', 'url': None, 'entities': {'description': {'urls': []}}, 'protected': False, 'followers_count': 332, 'friends_count': 170, 'listed_count': 0, 'created_at': 'Fri Aug 07 06:34:58 +0000 2020', 'favourites_count': 487, 'utc_offset': None, 'time_zone': None, 'geo_enabled': False, 'verified': False, 'statuses_count': 1140, 'lang': None, 'contributors_enabled': False, 'is_translator': False, 'is_translation_enabled': False, 'profile_background_color': 'F5F8FA', 'profile_background_image_url': None, 'profile_background_image_url_https': None, 'profile_background_tile': False, 'profile_image_url': 'http://pbs.twimg.com/profile_images/1315668605078446082/-Af1hmHj_normal.jpg', 'profile_image_url_https': 'https://pbs.twimg.com/profile_images/1315668605078446082/-Af1hmHj_normal.jpg', 'profile_banner_url': 'https://pbs.twimg.com/profile_banners/1291623815999401985/1602757077', 'profile_link_color': '1DA1F2', 'profile_sidebar_border_color': 'C0DEED', 'profile_sidebar_fill_color': 'DDEEF6', 'profile_text_color': '333333', 'profile_use_background_image': True, 'has_extended_profile': True, 'default_profile': True, 'default_profile_image': False, 'following': False, 'follow_request_sent': False, 'notifications': False, 'translator_type': 'none'}, 'geo': None, 'coordinates': None, 'place': None, 'contributors': None, 'is_quote_status': False, 'retweet_count': 4, 'favorite_count': 8, 'favorited': False, 'retweeted': False, 'possibly_sensitive': False, 'lang': 'en'}, created_at=datetime.datetime(2020, 10, 31, 11, 59, 57), id=1322508604583288833, id_str='1322508604583288833', full_text='The love of so many people, the tears, the prayers will not fail, those who have removed you from this world, they will not be able to leave this world so easily with the burden of their sins, they will be punished....\\n@iRaviTiwari\\n@republic\\n@TimesNow\\n@ANI\\n#CBIUpdateOnSSRCase https://t.co/N9g4iyMriR', truncated=False, display_text_range=[0, 276], entities={'hashtags': [{'text': 'CBIUpdateOnSSRCase', 'indices': [257, 276]}], 'symbols': [], 'user_mentions': [{'screen_name': 'iRaviTiwari', 'name': 'Ravi Tiwari Bihari', 'id': 283880163, 'id_str': '283880163', 'indices': [219, 231]}, {'screen_name': 'republic', 'name': 'Republic', 'id': 811972460560019456, 'id_str': '811972460560019456', 'indices': [232, 241]}, {'screen_name': 'TimesNow', 'name': 'TIMES NOW', 'id': 240649814, 'id_str': '240649814', 'indices': [242, 251]}, {'screen_name': 'ANI', 'name': 'ANI', 'id': 355989081, 'id_str': '355989081', 'indices': [252, 256]}], 'urls': [], 'media': [{'id': 1322508601118781440, 'id_str': '1322508601118781440', 'indices': [277, 300], 'media_url': 'http://pbs.twimg.com/media/Elp-kNYVcAANddP.jpg', 'media_url_https': 'https://pbs.twimg.com/media/Elp-kNYVcAANddP.jpg', 'url': 'https://t.co/N9g4iyMriR', 'display_url': 'pic.twitter.com/N9g4iyMriR', 'expanded_url': 'https://twitter.com/Shreya03369722/status/1322508604583288833/photo/1', 'type': 'photo', 'sizes': {'medium': {'w': 966, 'h': 1200, 'resize': 'fit'}, 'large': {'w': 1030, 'h': 1280, 'resize': 'fit'}, 'thumb': {'w': 150, 'h': 150, 'resize': 'crop'}, 'small': {'w': 547, 'h': 680, 'resize': 'fit'}}}]}, extended_entities={'media': [{'id': 1322508601118781440, 'id_str': '1322508601118781440', 'indices': [277, 300], 'media_url': 'http://pbs.twimg.com/media/Elp-kNYVcAANddP.jpg', 'media_url_https': 'https://pbs.twimg.com/media/Elp-kNYVcAANddP.jpg', 'url': 'https://t.co/N9g4iyMriR', 'display_url': 'pic.twitter.com/N9g4iyMriR', 'expanded_url': 'https://twitter.com/Shreya03369722/status/1322508604583288833/photo/1', 'type': 'photo', 'sizes': {'medium': {'w': 966, 'h': 1200, 'resize': 'fit'}, 'large': {'w': 1030, 'h': 1280, 'resize': 'fit'}, 'thumb': {'w': 150, 'h': 150, 'resize': 'crop'}, 'small': {'w': 547, 'h': 680, 'resize': 'fit'}}}]}, metadata={'iso_language_code': 'en', 'result_type': 'recent'}, source='Twitter for Android', source_url='http://twitter.com/download/android', in_reply_to_status_id=None, in_reply_to_status_id_str=None, in_reply_to_user_id=None, in_reply_to_user_id_str=None, in_reply_to_screen_name=None, author=User(_api=<tweepy.api.API object at 0x000001C679D7BC88>, _json={'id': 1291623815999401985, 'id_str': '1291623815999401985', 'name': 'Shreya-Eshna', 'screen_name': 'Shreya03369722', 'location': '', 'description': 'Sushant💖\\n🇮🇳', 'url': None, 'entities': {'description': {'urls': []}}, 'protected': False, 'followers_count': 332, 'friends_count': 170, 'listed_count': 0, 'created_at': 'Fri Aug 07 06:34:58 +0000 2020', 'favourites_count': 487, 'utc_offset': None, 'time_zone': None, 'geo_enabled': False, 'verified': False, 'statuses_count': 1140, 'lang': None, 'contributors_enabled': False, 'is_translator': False, 'is_translation_enabled': False, 'profile_background_color': 'F5F8FA', 'profile_background_image_url': None, 'profile_background_image_url_https': None, 'profile_background_tile': False, 'profile_image_url': 'http://pbs.twimg.com/profile_images/1315668605078446082/-Af1hmHj_normal.jpg', 'profile_image_url_https': 'https://pbs.twimg.com/profile_images/1315668605078446082/-Af1hmHj_normal.jpg', 'profile_banner_url': 'https://pbs.twimg.com/profile_banners/1291623815999401985/1602757077', 'profile_link_color': '1DA1F2', 'profile_sidebar_border_color': 'C0DEED', 'profile_sidebar_fill_color': 'DDEEF6', 'profile_text_color': '333333', 'profile_use_background_image': True, 'has_extended_profile': True, 'default_profile': True, 'default_profile_image': False, 'following': False, 'follow_request_sent': False, 'notifications': False, 'translator_type': 'none'}, id=1291623815999401985, id_str='1291623815999401985', name='Shreya-Eshna', screen_name='Shreya03369722', location='', description='Sushant💖\\n🇮🇳', url=None, entities={'description': {'urls': []}}, protected=False, followers_count=332, friends_count=170, listed_count=0, created_at=datetime.datetime(2020, 8, 7, 6, 34, 58), favourites_count=487, utc_offset=None, time_zone=None, geo_enabled=False, verified=False, statuses_count=1140, lang=None, contributors_enabled=False, is_translator=False, is_translation_enabled=False, profile_background_color='F5F8FA', profile_background_image_url=None, profile_background_image_url_https=None, profile_background_tile=False, profile_image_url='http://pbs.twimg.com/profile_images/1315668605078446082/-Af1hmHj_normal.jpg', profile_image_url_https='https://pbs.twimg.com/profile_images/1315668605078446082/-Af1hmHj_normal.jpg', profile_banner_url='https://pbs.twimg.com/profile_banners/1291623815999401985/1602757077', profile_link_color='1DA1F2', profile_sidebar_border_color='C0DEED', profile_sidebar_fill_color='DDEEF6', profile_text_color='333333', profile_use_background_image=True, has_extended_profile=True, default_profile=True, default_profile_image=False, following=False, follow_request_sent=False, notifications=False, translator_type='none'), user=User(_api=<tweepy.api.API object at 0x000001C679D7BC88>, _json={'id': 1291623815999401985, 'id_str': '1291623815999401985', 'name': 'Shreya-Eshna', 'screen_name': 'Shreya03369722', 'location': '', 'description': 'Sushant💖\\n🇮🇳', 'url': None, 'entities': {'description': {'urls': []}}, 'protected': False, 'followers_count': 332, 'friends_count': 170, 'listed_count': 0, 'created_at': 'Fri Aug 07 06:34:58 +0000 2020', 'favourites_count': 487, 'utc_offset': None, 'time_zone': None, 'geo_enabled': False, 'verified': False, 'statuses_count': 1140, 'lang': None, 'contributors_enabled': False, 'is_translator': False, 'is_translation_enabled': False, 'profile_background_color': 'F5F8FA', 'profile_background_image_url': None, 'profile_background_image_url_https': None, 'profile_background_tile': False, 'profile_image_url': 'http://pbs.twimg.com/profile_images/1315668605078446082/-Af1hmHj_normal.jpg', 'profile_image_url_https': 'https://pbs.twimg.com/profile_images/1315668605078446082/-Af1hmHj_normal.jpg', 'profile_banner_url': 'https://pbs.twimg.com/profile_banners/1291623815999401985/1602757077', 'profile_link_color': '1DA1F2', 'profile_sidebar_border_color': 'C0DEED', 'profile_sidebar_fill_color': 'DDEEF6', 'profile_text_color': '333333', 'profile_use_background_image': True, 'has_extended_profile': True, 'default_profile': True, 'default_profile_image': False, 'following': False, 'follow_request_sent': False, 'notifications': False, 'translator_type': 'none'}, id=1291623815999401985, id_str='1291623815999401985', name='Shreya-Eshna', screen_name='Shreya03369722', location='', description='Sushant💖\\n🇮🇳', url=None, entities={'description': {'urls': []}}, protected=False, followers_count=332, friends_count=170, listed_count=0, created_at=datetime.datetime(2020, 8, 7, 6, 34, 58), favourites_count=487, utc_offset=None, time_zone=None, geo_enabled=False, verified=False, statuses_count=1140, lang=None, contributors_enabled=False, is_translator=False, is_translation_enabled=False, profile_background_color='F5F8FA', profile_background_image_url=None, profile_background_image_url_https=None, profile_background_tile=False, profile_image_url='http://pbs.twimg.com/profile_images/1315668605078446082/-Af1hmHj_normal.jpg', profile_image_url_https='https://pbs.twimg.com/profile_images/1315668605078446082/-Af1hmHj_normal.jpg', profile_banner_url='https://pbs.twimg.com/profile_banners/1291623815999401985/1602757077', profile_link_color='1DA1F2', profile_sidebar_border_color='C0DEED', profile_sidebar_fill_color='DDEEF6', profile_text_color='333333', profile_use_background_image=True, has_extended_profile=True, default_profile=True, default_profile_image=False, following=False, follow_request_sent=False, notifications=False, translator_type='none'), geo=None, coordinates=None, place=None, contributors=None, is_quote_status=False, retweet_count=4, favorite_count=8, favorited=False, retweeted=False, possibly_sensitive=False, lang='en'), retweet_count=1, favorite_count=1, favorited=False, retweeted=False, possibly_sensitive=False, lang='en') \n",
      "\n",
      ".....................................\n",
      "\n",
      "Status(_api=<tweepy.api.API object at 0x000001C679D7BC88>, _json={'created_at': 'Sat Oct 31 09:37:07 +0000 2020', 'id': 1322472660589142016, 'id_str': '1322472660589142016', 'full_text': \"@sriramabhakta These morons even haven't stopped after trending Justice For Sushanth for three months🤣\", 'truncated': False, 'display_text_range': [15, 102], 'entities': {'hashtags': [], 'symbols': [], 'user_mentions': [{'screen_name': 'sriramabhakta', 'name': 'narbrahmin21 #JailLipiSingh', 'id': 1319877140859400194, 'id_str': '1319877140859400194', 'indices': [0, 14]}], 'urls': []}, 'metadata': {'iso_language_code': 'en', 'result_type': 'recent'}, 'source': '<a href=\"http://twitter.com/download/android\" rel=\"nofollow\">Twitter for Android</a>', 'in_reply_to_status_id': 1322471678685769728, 'in_reply_to_status_id_str': '1322471678685769728', 'in_reply_to_user_id': 1319877140859400194, 'in_reply_to_user_id_str': '1319877140859400194', 'in_reply_to_screen_name': 'sriramabhakta', 'user': {'id': 1154209214350295040, 'id_str': '1154209214350295040', 'name': 'Kothari Brothers', 'screen_name': 'hindutva_waadi', 'location': 'India', 'description': 'Fan Account', 'url': None, 'entities': {'description': {'urls': []}}, 'protected': False, 'followers_count': 125, 'friends_count': 374, 'listed_count': 0, 'created_at': 'Thu Jul 25 01:58:15 +0000 2019', 'favourites_count': 3647, 'utc_offset': None, 'time_zone': None, 'geo_enabled': False, 'verified': False, 'statuses_count': 3425, 'lang': None, 'contributors_enabled': False, 'is_translator': False, 'is_translation_enabled': False, 'profile_background_color': 'F5F8FA', 'profile_background_image_url': None, 'profile_background_image_url_https': None, 'profile_background_tile': False, 'profile_image_url': 'http://pbs.twimg.com/profile_images/1315111971935543296/mRyiWcok_normal.jpg', 'profile_image_url_https': 'https://pbs.twimg.com/profile_images/1315111971935543296/mRyiWcok_normal.jpg', 'profile_banner_url': 'https://pbs.twimg.com/profile_banners/1154209214350295040/1564020794', 'profile_link_color': '1DA1F2', 'profile_sidebar_border_color': 'C0DEED', 'profile_sidebar_fill_color': 'DDEEF6', 'profile_text_color': '333333', 'profile_use_background_image': True, 'has_extended_profile': False, 'default_profile': True, 'default_profile_image': False, 'following': False, 'follow_request_sent': False, 'notifications': False, 'translator_type': 'none'}, 'geo': None, 'coordinates': None, 'place': None, 'contributors': None, 'is_quote_status': False, 'retweet_count': 0, 'favorite_count': 1, 'favorited': False, 'retweeted': False, 'lang': 'en'}, created_at=datetime.datetime(2020, 10, 31, 9, 37, 7), id=1322472660589142016, id_str='1322472660589142016', full_text=\"@sriramabhakta These morons even haven't stopped after trending Justice For Sushanth for three months🤣\", truncated=False, display_text_range=[15, 102], entities={'hashtags': [], 'symbols': [], 'user_mentions': [{'screen_name': 'sriramabhakta', 'name': 'narbrahmin21 #JailLipiSingh', 'id': 1319877140859400194, 'id_str': '1319877140859400194', 'indices': [0, 14]}], 'urls': []}, metadata={'iso_language_code': 'en', 'result_type': 'recent'}, source='Twitter for Android', source_url='http://twitter.com/download/android', in_reply_to_status_id=1322471678685769728, in_reply_to_status_id_str='1322471678685769728', in_reply_to_user_id=1319877140859400194, in_reply_to_user_id_str='1319877140859400194', in_reply_to_screen_name='sriramabhakta', author=User(_api=<tweepy.api.API object at 0x000001C679D7BC88>, _json={'id': 1154209214350295040, 'id_str': '1154209214350295040', 'name': 'Kothari Brothers', 'screen_name': 'hindutva_waadi', 'location': 'India', 'description': 'Fan Account', 'url': None, 'entities': {'description': {'urls': []}}, 'protected': False, 'followers_count': 125, 'friends_count': 374, 'listed_count': 0, 'created_at': 'Thu Jul 25 01:58:15 +0000 2019', 'favourites_count': 3647, 'utc_offset': None, 'time_zone': None, 'geo_enabled': False, 'verified': False, 'statuses_count': 3425, 'lang': None, 'contributors_enabled': False, 'is_translator': False, 'is_translation_enabled': False, 'profile_background_color': 'F5F8FA', 'profile_background_image_url': None, 'profile_background_image_url_https': None, 'profile_background_tile': False, 'profile_image_url': 'http://pbs.twimg.com/profile_images/1315111971935543296/mRyiWcok_normal.jpg', 'profile_image_url_https': 'https://pbs.twimg.com/profile_images/1315111971935543296/mRyiWcok_normal.jpg', 'profile_banner_url': 'https://pbs.twimg.com/profile_banners/1154209214350295040/1564020794', 'profile_link_color': '1DA1F2', 'profile_sidebar_border_color': 'C0DEED', 'profile_sidebar_fill_color': 'DDEEF6', 'profile_text_color': '333333', 'profile_use_background_image': True, 'has_extended_profile': False, 'default_profile': True, 'default_profile_image': False, 'following': False, 'follow_request_sent': False, 'notifications': False, 'translator_type': 'none'}, id=1154209214350295040, id_str='1154209214350295040', name='Kothari Brothers', screen_name='hindutva_waadi', location='India', description='Fan Account', url=None, entities={'description': {'urls': []}}, protected=False, followers_count=125, friends_count=374, listed_count=0, created_at=datetime.datetime(2019, 7, 25, 1, 58, 15), favourites_count=3647, utc_offset=None, time_zone=None, geo_enabled=False, verified=False, statuses_count=3425, lang=None, contributors_enabled=False, is_translator=False, is_translation_enabled=False, profile_background_color='F5F8FA', profile_background_image_url=None, profile_background_image_url_https=None, profile_background_tile=False, profile_image_url='http://pbs.twimg.com/profile_images/1315111971935543296/mRyiWcok_normal.jpg', profile_image_url_https='https://pbs.twimg.com/profile_images/1315111971935543296/mRyiWcok_normal.jpg', profile_banner_url='https://pbs.twimg.com/profile_banners/1154209214350295040/1564020794', profile_link_color='1DA1F2', profile_sidebar_border_color='C0DEED', profile_sidebar_fill_color='DDEEF6', profile_text_color='333333', profile_use_background_image=True, has_extended_profile=False, default_profile=True, default_profile_image=False, following=False, follow_request_sent=False, notifications=False, translator_type='none'), user=User(_api=<tweepy.api.API object at 0x000001C679D7BC88>, _json={'id': 1154209214350295040, 'id_str': '1154209214350295040', 'name': 'Kothari Brothers', 'screen_name': 'hindutva_waadi', 'location': 'India', 'description': 'Fan Account', 'url': None, 'entities': {'description': {'urls': []}}, 'protected': False, 'followers_count': 125, 'friends_count': 374, 'listed_count': 0, 'created_at': 'Thu Jul 25 01:58:15 +0000 2019', 'favourites_count': 3647, 'utc_offset': None, 'time_zone': None, 'geo_enabled': False, 'verified': False, 'statuses_count': 3425, 'lang': None, 'contributors_enabled': False, 'is_translator': False, 'is_translation_enabled': False, 'profile_background_color': 'F5F8FA', 'profile_background_image_url': None, 'profile_background_image_url_https': None, 'profile_background_tile': False, 'profile_image_url': 'http://pbs.twimg.com/profile_images/1315111971935543296/mRyiWcok_normal.jpg', 'profile_image_url_https': 'https://pbs.twimg.com/profile_images/1315111971935543296/mRyiWcok_normal.jpg', 'profile_banner_url': 'https://pbs.twimg.com/profile_banners/1154209214350295040/1564020794', 'profile_link_color': '1DA1F2', 'profile_sidebar_border_color': 'C0DEED', 'profile_sidebar_fill_color': 'DDEEF6', 'profile_text_color': '333333', 'profile_use_background_image': True, 'has_extended_profile': False, 'default_profile': True, 'default_profile_image': False, 'following': False, 'follow_request_sent': False, 'notifications': False, 'translator_type': 'none'}, id=1154209214350295040, id_str='1154209214350295040', name='Kothari Brothers', screen_name='hindutva_waadi', location='India', description='Fan Account', url=None, entities={'description': {'urls': []}}, protected=False, followers_count=125, friends_count=374, listed_count=0, created_at=datetime.datetime(2019, 7, 25, 1, 58, 15), favourites_count=3647, utc_offset=None, time_zone=None, geo_enabled=False, verified=False, statuses_count=3425, lang=None, contributors_enabled=False, is_translator=False, is_translation_enabled=False, profile_background_color='F5F8FA', profile_background_image_url=None, profile_background_image_url_https=None, profile_background_tile=False, profile_image_url='http://pbs.twimg.com/profile_images/1315111971935543296/mRyiWcok_normal.jpg', profile_image_url_https='https://pbs.twimg.com/profile_images/1315111971935543296/mRyiWcok_normal.jpg', profile_banner_url='https://pbs.twimg.com/profile_banners/1154209214350295040/1564020794', profile_link_color='1DA1F2', profile_sidebar_border_color='C0DEED', profile_sidebar_fill_color='DDEEF6', profile_text_color='333333', profile_use_background_image=True, has_extended_profile=False, default_profile=True, default_profile_image=False, following=False, follow_request_sent=False, notifications=False, translator_type='none'), geo=None, coordinates=None, place=None, contributors=None, is_quote_status=False, retweet_count=0, favorite_count=1, favorited=False, retweeted=False, lang='en') \n",
      "\n",
      ".....................................\n",
      "\n",
      "Status(_api=<tweepy.api.API object at 0x000001C679D7BC88>, _json={'created_at': 'Sat Oct 31 07:34:14 +0000 2020', 'id': 1322441738779205635, 'id_str': '1322441738779205635', 'full_text': 'We want to know what is the truth behind @Sushanth bhais murder. We want Justice for Sushanth Singh Rajput #CBIUpdateOnSSRCase #JusticeforSushantSingRajput #Warriors4SSR #WarriorsRoar4SSR #ImmortalSushant https://t.co/Uklgl3nvQy', 'truncated': False, 'display_text_range': [0, 204], 'entities': {'hashtags': [{'text': 'CBIUpdateOnSSRCase', 'indices': [107, 126]}, {'text': 'JusticeforSushantSingRajput', 'indices': [127, 155]}, {'text': 'Warriors4SSR', 'indices': [156, 169]}, {'text': 'WarriorsRoar4SSR', 'indices': [170, 187]}, {'text': 'ImmortalSushant', 'indices': [188, 204]}], 'symbols': [], 'user_mentions': [{'screen_name': 'sushanth', 'name': 'sushanth sundar', 'id': 131119237, 'id_str': '131119237', 'indices': [41, 50]}], 'urls': [], 'media': [{'id': 1322441713609179136, 'id_str': '1322441713609179136', 'indices': [205, 228], 'media_url': 'http://pbs.twimg.com/media/ElpBu1_VgAA5HPg.jpg', 'media_url_https': 'https://pbs.twimg.com/media/ElpBu1_VgAA5HPg.jpg', 'url': 'https://t.co/Uklgl3nvQy', 'display_url': 'pic.twitter.com/Uklgl3nvQy', 'expanded_url': 'https://twitter.com/geetha_rekha/status/1322441738779205635/photo/1', 'type': 'photo', 'sizes': {'thumb': {'w': 150, 'h': 150, 'resize': 'crop'}, 'small': {'w': 306, 'h': 680, 'resize': 'fit'}, 'medium': {'w': 540, 'h': 1200, 'resize': 'fit'}, 'large': {'w': 922, 'h': 2048, 'resize': 'fit'}}}]}, 'extended_entities': {'media': [{'id': 1322441713609179136, 'id_str': '1322441713609179136', 'indices': [205, 228], 'media_url': 'http://pbs.twimg.com/media/ElpBu1_VgAA5HPg.jpg', 'media_url_https': 'https://pbs.twimg.com/media/ElpBu1_VgAA5HPg.jpg', 'url': 'https://t.co/Uklgl3nvQy', 'display_url': 'pic.twitter.com/Uklgl3nvQy', 'expanded_url': 'https://twitter.com/geetha_rekha/status/1322441738779205635/photo/1', 'type': 'photo', 'sizes': {'thumb': {'w': 150, 'h': 150, 'resize': 'crop'}, 'small': {'w': 306, 'h': 680, 'resize': 'fit'}, 'medium': {'w': 540, 'h': 1200, 'resize': 'fit'}, 'large': {'w': 922, 'h': 2048, 'resize': 'fit'}}}]}, 'metadata': {'iso_language_code': 'en', 'result_type': 'recent'}, 'source': '<a href=\"https://mobile.twitter.com\" rel=\"nofollow\">Twitter Web App</a>', 'in_reply_to_status_id': None, 'in_reply_to_status_id_str': None, 'in_reply_to_user_id': None, 'in_reply_to_user_id_str': None, 'in_reply_to_screen_name': None, 'user': {'id': 1286649159232053254, 'id_str': '1286649159232053254', 'name': 'Rekha.Geetha', 'screen_name': 'geetha_rekha', 'location': '', 'description': 'Be Happy and Healthy ❤️❤️❤️', 'url': None, 'entities': {'description': {'urls': []}}, 'protected': False, 'followers_count': 6, 'friends_count': 10, 'listed_count': 0, 'created_at': 'Fri Jul 24 13:07:33 +0000 2020', 'favourites_count': 917, 'utc_offset': None, 'time_zone': None, 'geo_enabled': False, 'verified': False, 'statuses_count': 1195, 'lang': None, 'contributors_enabled': False, 'is_translator': False, 'is_translation_enabled': False, 'profile_background_color': 'F5F8FA', 'profile_background_image_url': None, 'profile_background_image_url_https': None, 'profile_background_tile': False, 'profile_image_url': 'http://pbs.twimg.com/profile_images/1303564784281894912/F-1diB2l_normal.jpg', 'profile_image_url_https': 'https://pbs.twimg.com/profile_images/1303564784281894912/F-1diB2l_normal.jpg', 'profile_banner_url': 'https://pbs.twimg.com/profile_banners/1286649159232053254/1599460434', 'profile_link_color': '1DA1F2', 'profile_sidebar_border_color': 'C0DEED', 'profile_sidebar_fill_color': 'DDEEF6', 'profile_text_color': '333333', 'profile_use_background_image': True, 'has_extended_profile': True, 'default_profile': True, 'default_profile_image': False, 'following': False, 'follow_request_sent': False, 'notifications': False, 'translator_type': 'none'}, 'geo': None, 'coordinates': None, 'place': None, 'contributors': None, 'is_quote_status': False, 'retweet_count': 2, 'favorite_count': 0, 'favorited': False, 'retweeted': False, 'possibly_sensitive': True, 'lang': 'en'}, created_at=datetime.datetime(2020, 10, 31, 7, 34, 14), id=1322441738779205635, id_str='1322441738779205635', full_text='We want to know what is the truth behind @Sushanth bhais murder. We want Justice for Sushanth Singh Rajput #CBIUpdateOnSSRCase #JusticeforSushantSingRajput #Warriors4SSR #WarriorsRoar4SSR #ImmortalSushant https://t.co/Uklgl3nvQy', truncated=False, display_text_range=[0, 204], entities={'hashtags': [{'text': 'CBIUpdateOnSSRCase', 'indices': [107, 126]}, {'text': 'JusticeforSushantSingRajput', 'indices': [127, 155]}, {'text': 'Warriors4SSR', 'indices': [156, 169]}, {'text': 'WarriorsRoar4SSR', 'indices': [170, 187]}, {'text': 'ImmortalSushant', 'indices': [188, 204]}], 'symbols': [], 'user_mentions': [{'screen_name': 'sushanth', 'name': 'sushanth sundar', 'id': 131119237, 'id_str': '131119237', 'indices': [41, 50]}], 'urls': [], 'media': [{'id': 1322441713609179136, 'id_str': '1322441713609179136', 'indices': [205, 228], 'media_url': 'http://pbs.twimg.com/media/ElpBu1_VgAA5HPg.jpg', 'media_url_https': 'https://pbs.twimg.com/media/ElpBu1_VgAA5HPg.jpg', 'url': 'https://t.co/Uklgl3nvQy', 'display_url': 'pic.twitter.com/Uklgl3nvQy', 'expanded_url': 'https://twitter.com/geetha_rekha/status/1322441738779205635/photo/1', 'type': 'photo', 'sizes': {'thumb': {'w': 150, 'h': 150, 'resize': 'crop'}, 'small': {'w': 306, 'h': 680, 'resize': 'fit'}, 'medium': {'w': 540, 'h': 1200, 'resize': 'fit'}, 'large': {'w': 922, 'h': 2048, 'resize': 'fit'}}}]}, extended_entities={'media': [{'id': 1322441713609179136, 'id_str': '1322441713609179136', 'indices': [205, 228], 'media_url': 'http://pbs.twimg.com/media/ElpBu1_VgAA5HPg.jpg', 'media_url_https': 'https://pbs.twimg.com/media/ElpBu1_VgAA5HPg.jpg', 'url': 'https://t.co/Uklgl3nvQy', 'display_url': 'pic.twitter.com/Uklgl3nvQy', 'expanded_url': 'https://twitter.com/geetha_rekha/status/1322441738779205635/photo/1', 'type': 'photo', 'sizes': {'thumb': {'w': 150, 'h': 150, 'resize': 'crop'}, 'small': {'w': 306, 'h': 680, 'resize': 'fit'}, 'medium': {'w': 540, 'h': 1200, 'resize': 'fit'}, 'large': {'w': 922, 'h': 2048, 'resize': 'fit'}}}]}, metadata={'iso_language_code': 'en', 'result_type': 'recent'}, source='Twitter Web App', source_url='https://mobile.twitter.com', in_reply_to_status_id=None, in_reply_to_status_id_str=None, in_reply_to_user_id=None, in_reply_to_user_id_str=None, in_reply_to_screen_name=None, author=User(_api=<tweepy.api.API object at 0x000001C679D7BC88>, _json={'id': 1286649159232053254, 'id_str': '1286649159232053254', 'name': 'Rekha.Geetha', 'screen_name': 'geetha_rekha', 'location': '', 'description': 'Be Happy and Healthy ❤️❤️❤️', 'url': None, 'entities': {'description': {'urls': []}}, 'protected': False, 'followers_count': 6, 'friends_count': 10, 'listed_count': 0, 'created_at': 'Fri Jul 24 13:07:33 +0000 2020', 'favourites_count': 917, 'utc_offset': None, 'time_zone': None, 'geo_enabled': False, 'verified': False, 'statuses_count': 1195, 'lang': None, 'contributors_enabled': False, 'is_translator': False, 'is_translation_enabled': False, 'profile_background_color': 'F5F8FA', 'profile_background_image_url': None, 'profile_background_image_url_https': None, 'profile_background_tile': False, 'profile_image_url': 'http://pbs.twimg.com/profile_images/1303564784281894912/F-1diB2l_normal.jpg', 'profile_image_url_https': 'https://pbs.twimg.com/profile_images/1303564784281894912/F-1diB2l_normal.jpg', 'profile_banner_url': 'https://pbs.twimg.com/profile_banners/1286649159232053254/1599460434', 'profile_link_color': '1DA1F2', 'profile_sidebar_border_color': 'C0DEED', 'profile_sidebar_fill_color': 'DDEEF6', 'profile_text_color': '333333', 'profile_use_background_image': True, 'has_extended_profile': True, 'default_profile': True, 'default_profile_image': False, 'following': False, 'follow_request_sent': False, 'notifications': False, 'translator_type': 'none'}, id=1286649159232053254, id_str='1286649159232053254', name='Rekha.Geetha', screen_name='geetha_rekha', location='', description='Be Happy and Healthy ❤️❤️❤️', url=None, entities={'description': {'urls': []}}, protected=False, followers_count=6, friends_count=10, listed_count=0, created_at=datetime.datetime(2020, 7, 24, 13, 7, 33), favourites_count=917, utc_offset=None, time_zone=None, geo_enabled=False, verified=False, statuses_count=1195, lang=None, contributors_enabled=False, is_translator=False, is_translation_enabled=False, profile_background_color='F5F8FA', profile_background_image_url=None, profile_background_image_url_https=None, profile_background_tile=False, profile_image_url='http://pbs.twimg.com/profile_images/1303564784281894912/F-1diB2l_normal.jpg', profile_image_url_https='https://pbs.twimg.com/profile_images/1303564784281894912/F-1diB2l_normal.jpg', profile_banner_url='https://pbs.twimg.com/profile_banners/1286649159232053254/1599460434', profile_link_color='1DA1F2', profile_sidebar_border_color='C0DEED', profile_sidebar_fill_color='DDEEF6', profile_text_color='333333', profile_use_background_image=True, has_extended_profile=True, default_profile=True, default_profile_image=False, following=False, follow_request_sent=False, notifications=False, translator_type='none'), user=User(_api=<tweepy.api.API object at 0x000001C679D7BC88>, _json={'id': 1286649159232053254, 'id_str': '1286649159232053254', 'name': 'Rekha.Geetha', 'screen_name': 'geetha_rekha', 'location': '', 'description': 'Be Happy and Healthy ❤️❤️❤️', 'url': None, 'entities': {'description': {'urls': []}}, 'protected': False, 'followers_count': 6, 'friends_count': 10, 'listed_count': 0, 'created_at': 'Fri Jul 24 13:07:33 +0000 2020', 'favourites_count': 917, 'utc_offset': None, 'time_zone': None, 'geo_enabled': False, 'verified': False, 'statuses_count': 1195, 'lang': None, 'contributors_enabled': False, 'is_translator': False, 'is_translation_enabled': False, 'profile_background_color': 'F5F8FA', 'profile_background_image_url': None, 'profile_background_image_url_https': None, 'profile_background_tile': False, 'profile_image_url': 'http://pbs.twimg.com/profile_images/1303564784281894912/F-1diB2l_normal.jpg', 'profile_image_url_https': 'https://pbs.twimg.com/profile_images/1303564784281894912/F-1diB2l_normal.jpg', 'profile_banner_url': 'https://pbs.twimg.com/profile_banners/1286649159232053254/1599460434', 'profile_link_color': '1DA1F2', 'profile_sidebar_border_color': 'C0DEED', 'profile_sidebar_fill_color': 'DDEEF6', 'profile_text_color': '333333', 'profile_use_background_image': True, 'has_extended_profile': True, 'default_profile': True, 'default_profile_image': False, 'following': False, 'follow_request_sent': False, 'notifications': False, 'translator_type': 'none'}, id=1286649159232053254, id_str='1286649159232053254', name='Rekha.Geetha', screen_name='geetha_rekha', location='', description='Be Happy and Healthy ❤️❤️❤️', url=None, entities={'description': {'urls': []}}, protected=False, followers_count=6, friends_count=10, listed_count=0, created_at=datetime.datetime(2020, 7, 24, 13, 7, 33), favourites_count=917, utc_offset=None, time_zone=None, geo_enabled=False, verified=False, statuses_count=1195, lang=None, contributors_enabled=False, is_translator=False, is_translation_enabled=False, profile_background_color='F5F8FA', profile_background_image_url=None, profile_background_image_url_https=None, profile_background_tile=False, profile_image_url='http://pbs.twimg.com/profile_images/1303564784281894912/F-1diB2l_normal.jpg', profile_image_url_https='https://pbs.twimg.com/profile_images/1303564784281894912/F-1diB2l_normal.jpg', profile_banner_url='https://pbs.twimg.com/profile_banners/1286649159232053254/1599460434', profile_link_color='1DA1F2', profile_sidebar_border_color='C0DEED', profile_sidebar_fill_color='DDEEF6', profile_text_color='333333', profile_use_background_image=True, has_extended_profile=True, default_profile=True, default_profile_image=False, following=False, follow_request_sent=False, notifications=False, translator_type='none'), geo=None, coordinates=None, place=None, contributors=None, is_quote_status=False, retweet_count=2, favorite_count=0, favorited=False, retweeted=False, possibly_sensitive=True, lang='en') \n",
      "\n",
      ".....................................\n",
      "\n"
     ]
    }
   ],
   "source": [
    "Tweets = api.search( query , count=10 , lang='en' , exclude='retweets' , tweet_mode='extended' )  #donot include the retweets, as sentiments will be duplicated\n",
    "# tweet_mode='extended'\n",
    "# tweet_mode='compat'\n",
    "\n",
    "for tweet in Tweets:\n",
    "    print(tweet,\"\\n\")\n",
    "    print(\".....................................\\n\")"
   ]
  },
  {
   "cell_type": "code",
   "execution_count": 58,
   "metadata": {},
   "outputs": [
    {
     "name": "stdout",
     "output_type": "stream",
     "text": [
      "Empty DataFrame\n",
      "Columns: [Tweets, User, User_statuses_count, user_followers, User_location, User_verified, fav_count, rt_count, tweet_date]\n",
      "Index: []\n"
     ]
    }
   ],
   "source": [
    "#Get the tweets and some Attributes\n",
    "df = pd.DataFrame(columns = ['Tweets' , 'User' , 'User_statuses_count' , \n",
    "                            'user_followers' , 'User_location' , 'User_verified' ,\n",
    "                            'fav_count' , 'rt_count' , 'tweet_date'] )\n",
    "print(df)\n",
    "# print(df.shape)"
   ]
  },
  {
   "cell_type": "code",
   "execution_count": 55,
   "metadata": {},
   "outputs": [],
   "source": [
    "def stream(data, file_name):\n",
    "    i = 0\n",
    "    for tweet in tweepy.Cursor(api.search, q=data, count=100, lang='en').items():  #count is returning the number of results in 1 page i.e, take 100 tweets from 1 page\n",
    "        print(i, end='\\r')\n",
    "        df.loc[i, 'Tweets'] = tweet.text\n",
    "        df.loc[i, 'User'] = tweet.user.name\n",
    "        df.loc[i, 'User_statuses_count'] = tweet.user.statuses_count\n",
    "        df.loc[i, 'user_followers'] = tweet.user.followers_count\n",
    "        df.loc[i, 'User_location'] = tweet.user.location\n",
    "        df.loc[i, 'User_verified'] = tweet.user.verified\n",
    "        df.loc[i, 'fav_count'] = tweet.favorite_count\n",
    "        df.loc[i, 'rt_count'] = tweet.retweet_count\n",
    "        df.loc[i, 'tweet_date'] = tweet.created_at\n",
    "        df.to_excel('{}.xlsx'.format(file_name))\n",
    "        i = i+1\n",
    "        if i == 1000:\n",
    "            break\n",
    "        else:\n",
    "            pass\n",
    "\n",
    "#we are running this 1000 times, so that we get 1000 records in excel"
   ]
  },
  {
   "cell_type": "code",
   "execution_count": 59,
   "metadata": {},
   "outputs": [
    {
     "name": "stdout",
     "output_type": "stream",
     "text": [
      "196\r"
     ]
    }
   ],
   "source": [
    "stream(data=[\"Justice for Sushanth\"] , file_name='my_tweets')"
   ]
  },
  {
   "cell_type": "code",
   "execution_count": 29,
   "metadata": {},
   "outputs": [
    {
     "data": {
      "text/html": [
       "<div>\n",
       "<style scoped>\n",
       "    .dataframe tbody tr th:only-of-type {\n",
       "        vertical-align: middle;\n",
       "    }\n",
       "\n",
       "    .dataframe tbody tr th {\n",
       "        vertical-align: top;\n",
       "    }\n",
       "\n",
       "    .dataframe thead th {\n",
       "        text-align: right;\n",
       "    }\n",
       "</style>\n",
       "<table border=\"1\" class=\"dataframe\">\n",
       "  <thead>\n",
       "    <tr style=\"text-align: right;\">\n",
       "      <th></th>\n",
       "      <th>Tweets</th>\n",
       "      <th>User</th>\n",
       "      <th>User_statuses_count</th>\n",
       "      <th>user_followers</th>\n",
       "      <th>User_location</th>\n",
       "      <th>User_verified</th>\n",
       "      <th>fav_count</th>\n",
       "      <th>rt_count</th>\n",
       "      <th>tweet_date</th>\n",
       "    </tr>\n",
       "  </thead>\n",
       "  <tbody>\n",
       "    <tr>\n",
       "      <th>0</th>\n",
       "      <td>@AnamikaRashmi @narendramodi I can understand ...</td>\n",
       "      <td>IT Cell Spotter- गुप्तचर🕵️</td>\n",
       "      <td>1686</td>\n",
       "      <td>43</td>\n",
       "      <td>Somewhere</td>\n",
       "      <td>False</td>\n",
       "      <td>0</td>\n",
       "      <td>0</td>\n",
       "      <td>2020-11-01 08:38:03</td>\n",
       "    </tr>\n",
       "    <tr>\n",
       "      <th>1</th>\n",
       "      <td>We are eagerly waiting for justice for Sushant...</td>\n",
       "      <td>Rekha.Geetha</td>\n",
       "      <td>1195</td>\n",
       "      <td>6</td>\n",
       "      <td></td>\n",
       "      <td>False</td>\n",
       "      <td>0</td>\n",
       "      <td>0</td>\n",
       "      <td>2020-11-01 07:48:46</td>\n",
       "    </tr>\n",
       "    <tr>\n",
       "      <th>2</th>\n",
       "      <td>RT @Mansa95335693: @AnimeFanIndia2 @iamsmritiy...</td>\n",
       "      <td>SSR Justice Warriors ✊👊⚔️⚔️</td>\n",
       "      <td>11047</td>\n",
       "      <td>297</td>\n",
       "      <td></td>\n",
       "      <td>False</td>\n",
       "      <td>0</td>\n",
       "      <td>2</td>\n",
       "      <td>2020-11-01 06:20:20</td>\n",
       "    </tr>\n",
       "    <tr>\n",
       "      <th>3</th>\n",
       "      <td>Justice for sushanth #SSRJusticeDelayed</td>\n",
       "      <td>venu yadav</td>\n",
       "      <td>40</td>\n",
       "      <td>12</td>\n",
       "      <td></td>\n",
       "      <td>False</td>\n",
       "      <td>0</td>\n",
       "      <td>0</td>\n",
       "      <td>2020-11-01 06:19:14</td>\n",
       "    </tr>\n",
       "    <tr>\n",
       "      <th>4</th>\n",
       "      <td>@pie_lioness @aaryaiyer99 I will celebrate diw...</td>\n",
       "      <td>justice for sushanth ✊✊✊</td>\n",
       "      <td>3535</td>\n",
       "      <td>50</td>\n",
       "      <td></td>\n",
       "      <td>False</td>\n",
       "      <td>0</td>\n",
       "      <td>0</td>\n",
       "      <td>2020-11-01 06:05:10</td>\n",
       "    </tr>\n",
       "  </tbody>\n",
       "</table>\n",
       "</div>"
      ],
      "text/plain": [
       "                                              Tweets  \\\n",
       "0  @AnamikaRashmi @narendramodi I can understand ...   \n",
       "1  We are eagerly waiting for justice for Sushant...   \n",
       "2  RT @Mansa95335693: @AnimeFanIndia2 @iamsmritiy...   \n",
       "3            Justice for sushanth #SSRJusticeDelayed   \n",
       "4  @pie_lioness @aaryaiyer99 I will celebrate diw...   \n",
       "\n",
       "                          User User_statuses_count user_followers  \\\n",
       "0   IT Cell Spotter- गुप्तचर🕵️                1686             43   \n",
       "1                 Rekha.Geetha                1195              6   \n",
       "2  SSR Justice Warriors ✊👊⚔️⚔️               11047            297   \n",
       "3                   venu yadav                  40             12   \n",
       "4     justice for sushanth ✊✊✊                3535             50   \n",
       "\n",
       "  User_location User_verified fav_count rt_count           tweet_date  \n",
       "0     Somewhere         False         0        0  2020-11-01 08:38:03  \n",
       "1                       False         0        0  2020-11-01 07:48:46  \n",
       "2                       False         0        2  2020-11-01 06:20:20  \n",
       "3                       False         0        0  2020-11-01 06:19:14  \n",
       "4                       False         0        0  2020-11-01 06:05:10  "
      ]
     },
     "execution_count": 29,
     "metadata": {},
     "output_type": "execute_result"
    }
   ],
   "source": [
    "df.head()"
   ]
  },
  {
   "cell_type": "raw",
   "metadata": {},
   "source": [
    "\n",
    "Sentiment(polarity, subjectivity)\n",
    "\n",
    "Polarity score: [-1 , +1]\n",
    "\n",
    "Subjectivity: [0.0 , 1.0] \n",
    "where 0.0 is very Objective and 1.0 is very Subjective."
   ]
  },
  {
   "cell_type": "code",
   "execution_count": 11,
   "metadata": {},
   "outputs": [],
   "source": [
    "#pip install textblob\n",
    "from textblob import TextBlob"
   ]
  },
  {
   "cell_type": "code",
   "execution_count": 30,
   "metadata": {},
   "outputs": [],
   "source": [
    "#cleaning the tweets\n",
    "import re\n",
    "def clean_tweet(tweet):\n",
    "    return ' '.join(re.sub('(@[A-Za-z0-9]+)|([^0-9A-Za-z \\t])|(\\w+:\\/\\/\\S+)', ' ', tweet).split())"
   ]
  },
  {
   "cell_type": "code",
   "execution_count": 31,
   "metadata": {},
   "outputs": [],
   "source": [
    "def analyze_sentiment(tweet):\n",
    "    analysis = TextBlob(tweet)\n",
    "    if analysis.sentiment.polarity > 0:\n",
    "        return 'Positive'\n",
    "    elif analysis.sentiment.polarity == 0:\n",
    "        return 'Neutral'\n",
    "    else:\n",
    "        return 'Negative'"
   ]
  },
  {
   "cell_type": "code",
   "execution_count": 32,
   "metadata": {},
   "outputs": [],
   "source": [
    "df['clean_tweet'] = df['Tweets'].apply(lambda x : clean_tweet(x))"
   ]
  },
  {
   "cell_type": "code",
   "execution_count": 33,
   "metadata": {},
   "outputs": [
    {
     "data": {
      "text/html": [
       "<div>\n",
       "<style scoped>\n",
       "    .dataframe tbody tr th:only-of-type {\n",
       "        vertical-align: middle;\n",
       "    }\n",
       "\n",
       "    .dataframe tbody tr th {\n",
       "        vertical-align: top;\n",
       "    }\n",
       "\n",
       "    .dataframe thead th {\n",
       "        text-align: right;\n",
       "    }\n",
       "</style>\n",
       "<table border=\"1\" class=\"dataframe\">\n",
       "  <thead>\n",
       "    <tr style=\"text-align: right;\">\n",
       "      <th></th>\n",
       "      <th>Tweets</th>\n",
       "      <th>User</th>\n",
       "      <th>User_statuses_count</th>\n",
       "      <th>user_followers</th>\n",
       "      <th>User_location</th>\n",
       "      <th>User_verified</th>\n",
       "      <th>fav_count</th>\n",
       "      <th>rt_count</th>\n",
       "      <th>tweet_date</th>\n",
       "      <th>clean_tweet</th>\n",
       "    </tr>\n",
       "  </thead>\n",
       "  <tbody>\n",
       "    <tr>\n",
       "      <th>0</th>\n",
       "      <td>@AnamikaRashmi @narendramodi I can understand ...</td>\n",
       "      <td>IT Cell Spotter- गुप्तचर🕵️</td>\n",
       "      <td>1686</td>\n",
       "      <td>43</td>\n",
       "      <td>Somewhere</td>\n",
       "      <td>False</td>\n",
       "      <td>0</td>\n",
       "      <td>0</td>\n",
       "      <td>2020-11-01 08:38:03</td>\n",
       "      <td>I can understand you want justice for sushanth...</td>\n",
       "    </tr>\n",
       "    <tr>\n",
       "      <th>1</th>\n",
       "      <td>We are eagerly waiting for justice for Sushant...</td>\n",
       "      <td>Rekha.Geetha</td>\n",
       "      <td>1195</td>\n",
       "      <td>6</td>\n",
       "      <td></td>\n",
       "      <td>False</td>\n",
       "      <td>0</td>\n",
       "      <td>0</td>\n",
       "      <td>2020-11-01 07:48:46</td>\n",
       "      <td>We are eagerly waiting for justice for Sushant...</td>\n",
       "    </tr>\n",
       "    <tr>\n",
       "      <th>2</th>\n",
       "      <td>RT @Mansa95335693: @AnimeFanIndia2 @iamsmritiy...</td>\n",
       "      <td>SSR Justice Warriors ✊👊⚔️⚔️</td>\n",
       "      <td>11047</td>\n",
       "      <td>297</td>\n",
       "      <td></td>\n",
       "      <td>False</td>\n",
       "      <td>0</td>\n",
       "      <td>2</td>\n",
       "      <td>2020-11-01 06:20:20</td>\n",
       "      <td>RT If u true SSR fan don t follow any bollywoo...</td>\n",
       "    </tr>\n",
       "    <tr>\n",
       "      <th>3</th>\n",
       "      <td>Justice for sushanth #SSRJusticeDelayed</td>\n",
       "      <td>venu yadav</td>\n",
       "      <td>40</td>\n",
       "      <td>12</td>\n",
       "      <td></td>\n",
       "      <td>False</td>\n",
       "      <td>0</td>\n",
       "      <td>0</td>\n",
       "      <td>2020-11-01 06:19:14</td>\n",
       "      <td>Justice for sushanth SSRJusticeDelayed</td>\n",
       "    </tr>\n",
       "    <tr>\n",
       "      <th>4</th>\n",
       "      <td>@pie_lioness @aaryaiyer99 I will celebrate diw...</td>\n",
       "      <td>justice for sushanth ✊✊✊</td>\n",
       "      <td>3535</td>\n",
       "      <td>50</td>\n",
       "      <td></td>\n",
       "      <td>False</td>\n",
       "      <td>0</td>\n",
       "      <td>0</td>\n",
       "      <td>2020-11-01 06:05:10</td>\n",
       "      <td>lioness I will celebrate diwali only for susha...</td>\n",
       "    </tr>\n",
       "  </tbody>\n",
       "</table>\n",
       "</div>"
      ],
      "text/plain": [
       "                                              Tweets  \\\n",
       "0  @AnamikaRashmi @narendramodi I can understand ...   \n",
       "1  We are eagerly waiting for justice for Sushant...   \n",
       "2  RT @Mansa95335693: @AnimeFanIndia2 @iamsmritiy...   \n",
       "3            Justice for sushanth #SSRJusticeDelayed   \n",
       "4  @pie_lioness @aaryaiyer99 I will celebrate diw...   \n",
       "\n",
       "                          User User_statuses_count user_followers  \\\n",
       "0   IT Cell Spotter- गुप्तचर🕵️                1686             43   \n",
       "1                 Rekha.Geetha                1195              6   \n",
       "2  SSR Justice Warriors ✊👊⚔️⚔️               11047            297   \n",
       "3                   venu yadav                  40             12   \n",
       "4     justice for sushanth ✊✊✊                3535             50   \n",
       "\n",
       "  User_location User_verified fav_count rt_count           tweet_date  \\\n",
       "0     Somewhere         False         0        0  2020-11-01 08:38:03   \n",
       "1                       False         0        0  2020-11-01 07:48:46   \n",
       "2                       False         0        2  2020-11-01 06:20:20   \n",
       "3                       False         0        0  2020-11-01 06:19:14   \n",
       "4                       False         0        0  2020-11-01 06:05:10   \n",
       "\n",
       "                                         clean_tweet  \n",
       "0  I can understand you want justice for sushanth...  \n",
       "1  We are eagerly waiting for justice for Sushant...  \n",
       "2  RT If u true SSR fan don t follow any bollywoo...  \n",
       "3             Justice for sushanth SSRJusticeDelayed  \n",
       "4  lioness I will celebrate diwali only for susha...  "
      ]
     },
     "execution_count": 33,
     "metadata": {},
     "output_type": "execute_result"
    }
   ],
   "source": [
    "df.head()"
   ]
  },
  {
   "cell_type": "code",
   "execution_count": 34,
   "metadata": {},
   "outputs": [
    {
     "data": {
      "text/html": [
       "<div>\n",
       "<style scoped>\n",
       "    .dataframe tbody tr th:only-of-type {\n",
       "        vertical-align: middle;\n",
       "    }\n",
       "\n",
       "    .dataframe tbody tr th {\n",
       "        vertical-align: top;\n",
       "    }\n",
       "\n",
       "    .dataframe thead th {\n",
       "        text-align: right;\n",
       "    }\n",
       "</style>\n",
       "<table border=\"1\" class=\"dataframe\">\n",
       "  <thead>\n",
       "    <tr style=\"text-align: right;\">\n",
       "      <th></th>\n",
       "      <th>Tweets</th>\n",
       "      <th>User</th>\n",
       "      <th>User_statuses_count</th>\n",
       "      <th>user_followers</th>\n",
       "      <th>User_location</th>\n",
       "      <th>User_verified</th>\n",
       "      <th>fav_count</th>\n",
       "      <th>rt_count</th>\n",
       "      <th>tweet_date</th>\n",
       "      <th>clean_tweet</th>\n",
       "      <th>Sentiment</th>\n",
       "    </tr>\n",
       "  </thead>\n",
       "  <tbody>\n",
       "    <tr>\n",
       "      <th>0</th>\n",
       "      <td>@AnamikaRashmi @narendramodi I can understand ...</td>\n",
       "      <td>IT Cell Spotter- गुप्तचर🕵️</td>\n",
       "      <td>1686</td>\n",
       "      <td>43</td>\n",
       "      <td>Somewhere</td>\n",
       "      <td>False</td>\n",
       "      <td>0</td>\n",
       "      <td>0</td>\n",
       "      <td>2020-11-01 08:38:03</td>\n",
       "      <td>I can understand you want justice for sushanth...</td>\n",
       "      <td>Positive</td>\n",
       "    </tr>\n",
       "    <tr>\n",
       "      <th>1</th>\n",
       "      <td>We are eagerly waiting for justice for Sushant...</td>\n",
       "      <td>Rekha.Geetha</td>\n",
       "      <td>1195</td>\n",
       "      <td>6</td>\n",
       "      <td></td>\n",
       "      <td>False</td>\n",
       "      <td>0</td>\n",
       "      <td>0</td>\n",
       "      <td>2020-11-01 07:48:46</td>\n",
       "      <td>We are eagerly waiting for justice for Sushant...</td>\n",
       "      <td>Neutral</td>\n",
       "    </tr>\n",
       "    <tr>\n",
       "      <th>2</th>\n",
       "      <td>RT @Mansa95335693: @AnimeFanIndia2 @iamsmritiy...</td>\n",
       "      <td>SSR Justice Warriors ✊👊⚔️⚔️</td>\n",
       "      <td>11047</td>\n",
       "      <td>297</td>\n",
       "      <td></td>\n",
       "      <td>False</td>\n",
       "      <td>0</td>\n",
       "      <td>2</td>\n",
       "      <td>2020-11-01 06:20:20</td>\n",
       "      <td>RT If u true SSR fan don t follow any bollywoo...</td>\n",
       "      <td>Positive</td>\n",
       "    </tr>\n",
       "    <tr>\n",
       "      <th>3</th>\n",
       "      <td>Justice for sushanth #SSRJusticeDelayed</td>\n",
       "      <td>venu yadav</td>\n",
       "      <td>40</td>\n",
       "      <td>12</td>\n",
       "      <td></td>\n",
       "      <td>False</td>\n",
       "      <td>0</td>\n",
       "      <td>0</td>\n",
       "      <td>2020-11-01 06:19:14</td>\n",
       "      <td>Justice for sushanth SSRJusticeDelayed</td>\n",
       "      <td>Neutral</td>\n",
       "    </tr>\n",
       "    <tr>\n",
       "      <th>4</th>\n",
       "      <td>@pie_lioness @aaryaiyer99 I will celebrate diw...</td>\n",
       "      <td>justice for sushanth ✊✊✊</td>\n",
       "      <td>3535</td>\n",
       "      <td>50</td>\n",
       "      <td></td>\n",
       "      <td>False</td>\n",
       "      <td>0</td>\n",
       "      <td>0</td>\n",
       "      <td>2020-11-01 06:05:10</td>\n",
       "      <td>lioness I will celebrate diwali only for susha...</td>\n",
       "      <td>Positive</td>\n",
       "    </tr>\n",
       "  </tbody>\n",
       "</table>\n",
       "</div>"
      ],
      "text/plain": [
       "                                              Tweets  \\\n",
       "0  @AnamikaRashmi @narendramodi I can understand ...   \n",
       "1  We are eagerly waiting for justice for Sushant...   \n",
       "2  RT @Mansa95335693: @AnimeFanIndia2 @iamsmritiy...   \n",
       "3            Justice for sushanth #SSRJusticeDelayed   \n",
       "4  @pie_lioness @aaryaiyer99 I will celebrate diw...   \n",
       "\n",
       "                          User User_statuses_count user_followers  \\\n",
       "0   IT Cell Spotter- गुप्तचर🕵️                1686             43   \n",
       "1                 Rekha.Geetha                1195              6   \n",
       "2  SSR Justice Warriors ✊👊⚔️⚔️               11047            297   \n",
       "3                   venu yadav                  40             12   \n",
       "4     justice for sushanth ✊✊✊                3535             50   \n",
       "\n",
       "  User_location User_verified fav_count rt_count           tweet_date  \\\n",
       "0     Somewhere         False         0        0  2020-11-01 08:38:03   \n",
       "1                       False         0        0  2020-11-01 07:48:46   \n",
       "2                       False         0        2  2020-11-01 06:20:20   \n",
       "3                       False         0        0  2020-11-01 06:19:14   \n",
       "4                       False         0        0  2020-11-01 06:05:10   \n",
       "\n",
       "                                         clean_tweet Sentiment  \n",
       "0  I can understand you want justice for sushanth...  Positive  \n",
       "1  We are eagerly waiting for justice for Sushant...   Neutral  \n",
       "2  RT If u true SSR fan don t follow any bollywoo...  Positive  \n",
       "3             Justice for sushanth SSRJusticeDelayed   Neutral  \n",
       "4  lioness I will celebrate diwali only for susha...  Positive  "
      ]
     },
     "execution_count": 34,
     "metadata": {},
     "output_type": "execute_result"
    }
   ],
   "source": [
    "df['Sentiment'] = df['clean_tweet'].apply(lambda x : analyze_sentiment(x) )\n",
    "df.head()"
   ]
  },
  {
   "cell_type": "code",
   "execution_count": 57,
   "metadata": {},
   "outputs": [
    {
     "name": "stdout",
     "output_type": "stream",
     "text": [
      "Original tweet:\n",
      " We are eagerly waiting for justice for Sushanth Singh Rajput p. CBI please give us justice we are begging you 🙏 🙏🙏🙏… https://t.co/Q48HxfGYfn\n",
      "\n",
      "Clean tweet:\n",
      " We are eagerly waiting for justice for Sushanth Singh Rajput p CBI please give us justice we are begging you\n",
      "\n",
      "Sentiment of the tweet:\n",
      " Neutral\n"
     ]
    }
   ],
   "source": [
    "n = 1\n",
    "print(\"Original tweet:\\n\",df['Tweets'][n])\n",
    "print()\n",
    "print(\"Clean tweet:\\n\",df['clean_tweet'][n])\n",
    "print()\n",
    "print(\"Sentiment of the tweet:\\n\",df['Sentiment'][n])"
   ]
  },
  {
   "cell_type": "code",
   "execution_count": 44,
   "metadata": {},
   "outputs": [
    {
     "name": "stdout",
     "output_type": "stream",
     "text": [
      "Original tweet:\n",
      " RT @IreshaMadhusha9: We talked for SSR, not because we're stuck or we haven't moved on.\n",
      "\n",
      "We talk for SSR because we love SSR and he was, is…\n",
      "\n",
      "Clean tweet:\n",
      " RT We talked for SSR not because we re stuck or we haven t moved on We talk for SSR because we love SSR and he was is\n",
      "\n",
      "Sentiment of the tweet:\n",
      " Positive\n"
     ]
    }
   ],
   "source": [
    "n = 20\n",
    "print(\"Original tweet:\\n\",df['Tweets'][n])\n",
    "print()\n",
    "print(\"Clean tweet:\\n\",df['clean_tweet'][n])\n",
    "print()\n",
    "print(\"Sentiment of the tweet:\\n\",df['Sentiment'][n])"
   ]
  },
  {
   "cell_type": "code",
   "execution_count": 49,
   "metadata": {},
   "outputs": [
    {
     "name": "stdout",
     "output_type": "stream",
     "text": [
      "Original tweet:\n",
      " RT @SSRFAN21905120: #PMSpeakUpOnSSRCase \n",
      "Sir India wants to know Who Killed Sushanth ?\n",
      "What happened with Disha and Minor Girl?\n",
      "why are you…\n",
      "\n",
      "Clean tweet:\n",
      " RT PMSpeakUpOnSSRCase Sir India wants to know Who Killed Sushanth What happened with Disha and Minor Girl why are you\n",
      "\n",
      "Sentiment of the tweet:\n",
      " Negative\n"
     ]
    }
   ],
   "source": [
    "n = 130\n",
    "print(\"Original tweet:\\n\",df['Tweets'][n])\n",
    "print()\n",
    "print(\"Clean tweet:\\n\",df['clean_tweet'][n])\n",
    "print()\n",
    "print(\"Sentiment of the tweet:\\n\",df['Sentiment'][n])"
   ]
  },
  {
   "cell_type": "code",
   "execution_count": 53,
   "metadata": {},
   "outputs": [
    {
     "data": {
      "text/plain": [
       "85"
      ]
     },
     "execution_count": 53,
     "metadata": {},
     "output_type": "execute_result"
    }
   ],
   "source": [
    "df[df.Sentiment == 'Positive'].shape[0]"
   ]
  },
  {
   "cell_type": "code",
   "execution_count": 51,
   "metadata": {},
   "outputs": [
    {
     "data": {
      "text/plain": [
       "82"
      ]
     },
     "execution_count": 51,
     "metadata": {},
     "output_type": "execute_result"
    }
   ],
   "source": [
    "df[df.Sentiment == 'Neutral'].shape[0]"
   ]
  },
  {
   "cell_type": "code",
   "execution_count": 52,
   "metadata": {},
   "outputs": [
    {
     "data": {
      "text/plain": [
       "30"
      ]
     },
     "execution_count": 52,
     "metadata": {},
     "output_type": "execute_result"
    }
   ],
   "source": [
    "df[df.Sentiment == 'Negative'].shape[0]"
   ]
  }
 ],
 "metadata": {
  "kernelspec": {
   "display_name": "Python 3",
   "language": "python",
   "name": "python3"
  },
  "language_info": {
   "codemirror_mode": {
    "name": "ipython",
    "version": 3
   },
   "file_extension": ".py",
   "mimetype": "text/x-python",
   "name": "python",
   "nbconvert_exporter": "python",
   "pygments_lexer": "ipython3",
   "version": "3.7.6"
  }
 },
 "nbformat": 4,
 "nbformat_minor": 4
}
