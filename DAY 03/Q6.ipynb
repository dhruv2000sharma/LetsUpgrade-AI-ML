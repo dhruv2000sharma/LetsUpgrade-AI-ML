{
 "cells": [
  {
   "cell_type": "markdown",
   "metadata": {},
   "source": [
    "# Q6. Write a program to demonstrate all the available data types in Python. Hint: Use type() function."
   ]
  },
  {
   "cell_type": "code",
   "execution_count": 2,
   "metadata": {},
   "outputs": [
    {
     "name": "stdout",
     "output_type": "stream",
     "text": [
      "Type of a <class 'int'> \n",
      "Type of b= <class 'int'> \n",
      "Type of c= <class 'complex'> \n",
      "Type of d= <class 'float'> \n",
      "Type of e= <class 'str'>\n"
     ]
    }
   ],
   "source": [
    "a = 100\n",
    "b = 1000000\n",
    "c = 20 + 80j \n",
    "d = 100.7513\n",
    "e = \" I am a LetsUpgrader\"\n",
    "\n",
    "print(\"Type of a\",type(a),\"\\nType of b=\",type(b),\"\\nType of c=\",type(c),\"\\nType of d=\",type(d),\"\\nType of e=\",type(e))\n"
   ]
  }
 ],
 "metadata": {
  "kernelspec": {
   "display_name": "Python 3",
   "language": "python",
   "name": "python3"
  },
  "language_info": {
   "codemirror_mode": {
    "name": "ipython",
    "version": 3
   },
   "file_extension": ".py",
   "mimetype": "text/x-python",
   "name": "python",
   "nbconvert_exporter": "python",
   "pygments_lexer": "ipython3",
   "version": "3.7.6"
  }
 },
 "nbformat": 4,
 "nbformat_minor": 4
}
