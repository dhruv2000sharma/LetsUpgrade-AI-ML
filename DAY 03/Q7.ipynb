{
 "cells": [
  {
   "cell_type": "markdown",
   "metadata": {},
   "source": [
    "# Q7. Create a Markdown cell in jupyter and list the steps discussed in the session by Dr. Darshan Ingle sir to create Github profile and upload Githubs Assignment link.\n",
    "\n",
    "A. Click on sign up.\n",
    "\n",
    "B. Create an account.\n",
    "\n",
    "C. Click on New (determines new repository).\n",
    "\n",
    "D. Fill the repository by the name as \" LetsUpgrade AI/ML \".\n",
    "\n",
    "E. Upload the files/solution in the repo in day wise manner.\n",
    "\n",
    "F. Copy the URL of the folder of that day and paste in the Assignment Submission Form.\n",
    "\n",
    "G. Make Sure you are filling correct details in the assignment submission form.\n"
   ]
  }
 ],
 "metadata": {
  "kernelspec": {
   "display_name": "Python 3",
   "language": "python",
   "name": "python3"
  },
  "language_info": {
   "codemirror_mode": {
    "name": "ipython",
    "version": 3
   },
   "file_extension": ".py",
   "mimetype": "text/x-python",
   "name": "python",
   "nbconvert_exporter": "python",
   "pygments_lexer": "ipython3",
   "version": "3.7.6"
  }
 },
 "nbformat": 4,
 "nbformat_minor": 4
}
