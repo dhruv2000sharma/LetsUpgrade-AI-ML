{
 "cells": [
  {
   "cell_type": "markdown",
   "metadata": {},
   "source": [
    "# Q3. Write a Python program to check if the given string is a Palindrome or Anagram or None of them.Display the message accordingly to the user.\n",
    "\n"
   ]
  },
  {
   "cell_type": "code",
   "execution_count": 7,
   "metadata": {},
   "outputs": [
    {
     "name": "stdout",
     "output_type": "stream",
     "text": [
      "Enter a string to check for Palindrome or Anagram\n",
      "dog\n",
      "\n",
      "Enter the second string for Anagram.\n",
      "**Enter 0 if you only want to check Palindrome**\n",
      "god\n",
      "\n",
      "The two strings are anagram of each other.\n"
     ]
    }
   ],
   "source": [
    "def check(str1, str2):\n",
    "    \n",
    "    if str2 == \"0\":\n",
    "        if str1 == str1[::-1]:\n",
    "            print(\"\\nThe given string is a palindrome.\")\n",
    "        else:\n",
    "            print(\"\\nThe given string is not a palindrome.\")\n",
    "            \n",
    "    elif str2 != \"0\":\n",
    "        if sorted(str1) == sorted(str2):\n",
    "            print(\"\\nThe two strings are anagram of each other.\")\n",
    "        else:\n",
    "            print(\"\\nThe two strings are not an anagram of each other.\")\n",
    "            \n",
    "    else:\n",
    "        print(\"\\nThe given string(s) is neither a Palindrome nor make an Anagram.\")\n",
    "\n",
    "\n",
    "given_str1 = input(\"Enter a string to check for Palindrome or Anagram\\n\")\n",
    "given_str2 = input(\"\\nEnter the second string for Anagram.\\n**Enter 0 if you only want to check Palindrome**\\n\")\n",
    "\n",
    "check(given_str1, given_str2)"
   ]
  }
 ],
 "metadata": {
  "kernelspec": {
   "display_name": "Python 3",
   "language": "python",
   "name": "python3"
  },
  "language_info": {
   "codemirror_mode": {
    "name": "ipython",
    "version": 3
   },
   "file_extension": ".py",
   "mimetype": "text/x-python",
   "name": "python",
   "nbconvert_exporter": "python",
   "pygments_lexer": "ipython3",
   "version": "3.7.6"
  }
 },
 "nbformat": 4,
 "nbformat_minor": 4
}
