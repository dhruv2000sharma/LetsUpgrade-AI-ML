{
 "cells": [
  {
   "cell_type": "markdown",
   "metadata": {},
   "source": [
    "# Q2. Write a Python program to implement 15 functions of string.\n"
   ]
  },
  {
   "cell_type": "code",
   "execution_count": 9,
   "metadata": {},
   "outputs": [
    {
     "name": "stdout",
     "output_type": "stream",
     "text": [
      "I am a letsupgrader.\n",
      "3\n",
      "b'i am a LetsUpgrader.'\n",
      "i am a LetsUpgrader of India.\n",
      "['i', 'am', 'a', 'LetsUpgrader.']\n",
      "I AM A lETSuPGRADER.\n",
      "I AM A LETSUPGRADER.\n",
      "i am a letsupgrader.\n",
      "True\n",
      "7\n",
      "False\n",
      "False\n",
      "False\n",
      "False\n",
      "False\n"
     ]
    }
   ],
   "source": [
    "a = \"i am a LetsUpgrader.\"\n",
    "\n",
    "print(a.capitalize()) # it capitalize the first letter of a string.\n",
    "print(a.count('a')) # To count the no. of occurence\n",
    "print(a.encode()) # Returns the encoded version of the string\n",
    "print(a.replace(\"LetsUpgrader\",\"LetsUpgrader of India\")) # Replcement\n",
    "print(a.split()) # Split method\n",
    "print(a.swapcase()) # SwapCase\n",
    "print(a.upper()) #Uppercase\n",
    "print(a.lower()) #Lowecase\n",
    "print(a.endswith('.')) # Endswith\n",
    "print(a.find('LetsUpgrader')) # ind\n",
    "print(a.isalnum()) # isalnum\n",
    "print(a.isalpha()) # isalpha\n",
    "print(a.isdigit()) #isdigit\n",
    "print(a.islower()) #islower\n",
    "print(a.istitle()) # isTitle"
   ]
  }
 ],
 "metadata": {
  "kernelspec": {
   "display_name": "Python 3",
   "language": "python",
   "name": "python3"
  },
  "language_info": {
   "codemirror_mode": {
    "name": "ipython",
    "version": 3
   },
   "file_extension": ".py",
   "mimetype": "text/x-python",
   "name": "python",
   "nbconvert_exporter": "python",
   "pygments_lexer": "ipython3",
   "version": "3.7.6"
  }
 },
 "nbformat": 4,
 "nbformat_minor": 4
}
