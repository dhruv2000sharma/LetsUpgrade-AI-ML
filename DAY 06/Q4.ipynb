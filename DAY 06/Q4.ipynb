{
 "cells": [
  {
   "cell_type": "markdown",
   "metadata": {},
   "source": [
    "# Q4. Given a list of n-1 numbers ranging from 1 to n, your task is to find the missing number. There are no duplicates."
   ]
  },
  {
   "cell_type": "markdown",
   "metadata": {},
   "source": [
    "Input Format:\n",
    "\n",
    "The first line contains n-1 numbers with each number separated by a space.\n",
    "\n",
    "Output Format:\n",
    "\n",
    "Print the missing number\n",
    "\n",
    "Example:\n",
    "\n",
    "Input:1 2 4 6 3 7 8\n",
    "\n",
    "Output:5\n",
    "\n",
    "Explanation: In the above list of numbers 5 is missing and hence 5 is the input"
   ]
  },
  {
   "cell_type": "code",
   "execution_count": 3,
   "metadata": {
    "scrolled": true
   },
   "outputs": [
    {
     "name": "stdout",
     "output_type": "stream",
     "text": [
      "Enter the number of Elemnet is the list 7\n",
      "Enter the element 1\n",
      "Enter the element 3\n",
      "Enter the element 4\n",
      "Enter the element 5\n",
      "Enter the element 6\n",
      "Enter the element 7\n",
      "Enter the element 8\n",
      "[1, 3, 4, 5, 6, 7, 8]\n",
      "Missing element is \t 2\n"
     ]
    }
   ],
   "source": [
    "def check():\n",
    "    lst=[]\n",
    "    n=int(input(\"Enter the number of Elemnet is the list \"))\n",
    "    for i in range(n):\n",
    "        a=int(input(\"Enter the element \"))\n",
    "        lst.append(a)\n",
    "    lst.sort()\n",
    "    print(lst)\n",
    "    a=len(lst)\n",
    "    for j in range(n-1):\n",
    "        if lst[j]+1==lst[j+1]:\n",
    "            continue\n",
    "        else:\n",
    "            print(\"Missing element is \\t\",lst[j]+1)\n",
    "   \n",
    "check()"
   ]
  }
 ],
 "metadata": {
  "kernelspec": {
   "display_name": "Python 3",
   "language": "python",
   "name": "python3"
  },
  "language_info": {
   "codemirror_mode": {
    "name": "ipython",
    "version": 3
   },
   "file_extension": ".py",
   "mimetype": "text/x-python",
   "name": "python",
   "nbconvert_exporter": "python",
   "pygments_lexer": "ipython3",
   "version": "3.7.6"
  }
 },
 "nbformat": 4,
 "nbformat_minor": 4
}
