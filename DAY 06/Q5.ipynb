{
 "cells": [
  {
   "cell_type": "markdown",
   "metadata": {},
   "source": [
    "# Q5. With a given list L, write a program to print this list L after removing all duplicate values with original order reserved."
   ]
  },
  {
   "cell_type": "code",
   "execution_count": 3,
   "metadata": {},
   "outputs": [
    {
     "name": "stdout",
     "output_type": "stream",
     "text": [
      "Enter the number of Elemnet is the list 10\n",
      "Enter the element 144\n",
      "Enter the element 88\n",
      "Enter the element 24\n",
      "Enter the element 36\n",
      "Enter the element 24\n",
      "Enter the element 141\n",
      "Enter the element 144\n",
      "Enter the element 88\n",
      "Enter the element 98\n",
      "Enter the element 76\n",
      "[144, 88, 24, 36, 24, 141, 144, 88, 98, 76]\n",
      "[144, 88, 24, 36, 141, 98, 76]\n"
     ]
    }
   ],
   "source": [
    "def check_duplicates():\n",
    "    lst=[]\n",
    "    res=[]\n",
    "    n=int(input(\"Enter the number of Elemnet is the list \"))\n",
    "    for i in range(n):\n",
    "        a=int(input(\"Enter the element \"))\n",
    "        lst.append(a)\n",
    "    print(lst)\n",
    "    for j in lst:\n",
    "        if j not in res:\n",
    "            res.append(j)\n",
    "    print(res)\n",
    "            \n",
    "    \n",
    "check_duplicates()"
   ]
  }
 ],
 "metadata": {
  "kernelspec": {
   "display_name": "Python 3",
   "language": "python",
   "name": "python3"
  },
  "language_info": {
   "codemirror_mode": {
    "name": "ipython",
    "version": 3
   },
   "file_extension": ".py",
   "mimetype": "text/x-python",
   "name": "python",
   "nbconvert_exporter": "python",
   "pygments_lexer": "ipython3",
   "version": "3.7.6"
  }
 },
 "nbformat": 4,
 "nbformat_minor": 4
}
