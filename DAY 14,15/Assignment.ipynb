{
 "cells": [
  {
   "cell_type": "markdown",
   "metadata": {},
   "source": [
    "# 1. Create a 3x3x3 array with random values."
   ]
  },
  {
   "cell_type": "code",
   "execution_count": 4,
   "metadata": {},
   "outputs": [
    {
     "data": {
      "text/plain": [
       "array([[[64, 22, 96],\n",
       "        [63, 91, 84],\n",
       "        [34,  3,  8]],\n",
       "\n",
       "       [[94,  9,  7],\n",
       "        [56, 88, 55],\n",
       "        [36, 21, 85]],\n",
       "\n",
       "       [[37, 52, 12],\n",
       "        [86, 52, 44],\n",
       "        [ 7, 16, 66]]])"
      ]
     },
     "execution_count": 4,
     "metadata": {},
     "output_type": "execute_result"
    }
   ],
   "source": [
    "import numpy as np\n",
    "\n",
    "random_arr= np.random.randint(3,100,size=(3,3,3))\n",
    "\n",
    "random_arr"
   ]
  },
  {
   "cell_type": "markdown",
   "metadata": {},
   "source": [
    "# 2.Create a 5x5 matrix with values 1,2,3,4 just below the diagonal."
   ]
  },
  {
   "cell_type": "code",
   "execution_count": 5,
   "metadata": {},
   "outputs": [
    {
     "data": {
      "text/plain": [
       "array([[0, 0, 0, 0, 0],\n",
       "       [1, 0, 0, 0, 0],\n",
       "       [0, 2, 0, 0, 0],\n",
       "       [0, 0, 3, 0, 0],\n",
       "       [0, 0, 0, 4, 0]])"
      ]
     },
     "execution_count": 5,
     "metadata": {},
     "output_type": "execute_result"
    }
   ],
   "source": [
    "np.diag([1,2,3,4] , -1)"
   ]
  },
  {
   "cell_type": "markdown",
   "metadata": {},
   "source": [
    "# 3.Create a 8x8 matrix and fill it with a checkerboard pattern."
   ]
  },
  {
   "cell_type": "code",
   "execution_count": 7,
   "metadata": {},
   "outputs": [
    {
     "name": "stdout",
     "output_type": "stream",
     "text": [
      "Checkerboard pattern:\n",
      "[[0 1 0 1 0 1 0 1]\n",
      " [1 0 1 0 1 0 1 0]\n",
      " [0 1 0 1 0 1 0 1]\n",
      " [1 0 1 0 1 0 1 0]\n",
      " [0 1 0 1 0 1 0 1]\n",
      " [1 0 1 0 1 0 1 0]\n",
      " [0 1 0 1 0 1 0 1]\n",
      " [1 0 1 0 1 0 1 0]]\n"
     ]
    }
   ],
   "source": [
    "import numpy as np\n",
    "\n",
    "print(\"Checkerboard pattern:\")\n",
    "x = np.zeros((8,8),dtype=int)\n",
    "x[1::2,::2] = 1\n",
    "x[::2,1::2] = 1\n",
    "print(x)"
   ]
  },
  {
   "cell_type": "markdown",
   "metadata": {},
   "source": [
    "# 4. Normalize a 5x5 random matrix."
   ]
  },
  {
   "cell_type": "code",
   "execution_count": 8,
   "metadata": {},
   "outputs": [
    {
     "name": "stdout",
     "output_type": "stream",
     "text": [
      "Original Array:\n",
      "[[0.51296302 0.41310567 0.75785291 0.92408261 0.48359105]\n",
      " [0.49612023 0.43377159 0.31901874 0.14404682 0.37813841]\n",
      " [0.40739813 0.62140737 0.31926635 0.99544289 0.77509293]\n",
      " [0.38379751 0.34171857 0.09650684 0.81619681 0.80583964]\n",
      " [0.02978755 0.2157967  0.77964973 0.60642562 0.00913451]]\n",
      "After normalization:\n",
      "[[0.5108225  0.40957896 0.75911187 0.92764912 0.48104279]\n",
      " [0.4937459  0.43053176 0.31418594 0.13678511 0.37412629]\n",
      " [0.40379219 0.62077224 0.31443699 1.         0.77659121]\n",
      " [0.37986395 0.33720089 0.0885852  0.81826568 0.80776474]\n",
      " [0.02093974 0.20953101 0.78121127 0.60558252 0.        ]]\n"
     ]
    }
   ],
   "source": [
    "import numpy as np\n",
    "\n",
    "x = np.random.random((5,5))\n",
    "print(\"Original Array:\")\n",
    "print(x)\n",
    "xmax, xmin = x.max(), x.min()\n",
    "x = (x - xmin)/(xmax - xmin)\n",
    "print(\"After normalization:\")\n",
    "print(x)"
   ]
  },
  {
   "cell_type": "markdown",
   "metadata": {},
   "source": [
    "# 5. How to find common values between two arrays?"
   ]
  },
  {
   "cell_type": "code",
   "execution_count": 9,
   "metadata": {},
   "outputs": [
    {
     "name": "stdout",
     "output_type": "stream",
     "text": [
      "Array 1:  [0 1 2 4 6]\n",
      "Array 2:  [1 3 4]\n",
      "Common values between the arrays:\n",
      "[1 4]\n"
     ]
    }
   ],
   "source": [
    "import numpy as np\n",
    "\n",
    "array1 = np.array([0, 1, 2, 4, 6])\n",
    "print(\"Array 1: \",array1)\n",
    "array2 = np.array([1, 3, 4])\n",
    "print(\"Array 2: \",array2)\n",
    "print(\"Common values between the arrays:\")\n",
    "print(np.intersect1d(array1, array2))\n",
    "np.set_printoptions(threshold=np.inf)"
   ]
  },
  {
   "cell_type": "markdown",
   "metadata": {},
   "source": [
    "# 6.How to get the dates of yesterday, today and tomorrow?"
   ]
  },
  {
   "cell_type": "code",
   "execution_count": 10,
   "metadata": {},
   "outputs": [
    {
     "name": "stdout",
     "output_type": "stream",
     "text": [
      "Yestraday:  2020-08-01\n",
      "Today:  2020-08-02\n",
      "Tomorrow:  2020-08-03\n"
     ]
    }
   ],
   "source": [
    "import numpy as np\n",
    "\n",
    "yesterday = np.datetime64('today', 'D') - np.timedelta64(1, 'D')\n",
    "print(\"Yestraday: \",yesterday)\n",
    "today     = np.datetime64('today', 'D')\n",
    "print(\"Today: \",today)\n",
    "tomorrow  = np.datetime64('today', 'D') + np.timedelta64(1, 'D')\n",
    "print(\"Tomorrow: \",tomorrow)"
   ]
  },
  {
   "cell_type": "markdown",
   "metadata": {},
   "source": [
    "# 7. Consider two random array A and B, check if they are equal."
   ]
  },
  {
   "cell_type": "code",
   "execution_count": 12,
   "metadata": {},
   "outputs": [
    {
     "name": "stdout",
     "output_type": "stream",
     "text": [
      "True\n"
     ]
    }
   ],
   "source": [
    "A = np.array([[1,2],[3,6]])\n",
    "B = np.array([[1,2],[3,6]])\n",
    "comparison = A == B\n",
    "equal_arrays = comparison.all()\n",
    "print(equal_arrays)"
   ]
  },
  {
   "cell_type": "markdown",
   "metadata": {},
   "source": [
    "# 8.Create random vector of size 10 and replace the maximum value by 0."
   ]
  },
  {
   "cell_type": "code",
   "execution_count": 13,
   "metadata": {},
   "outputs": [
    {
     "name": "stdout",
     "output_type": "stream",
     "text": [
      "Random vector of size 10:\n",
      "[ 2  8 10  5  6 13  7  6  9 13]\n",
      "\n",
      "Replacing the maximum value by 0:\n",
      "[ 2  8 10  5  6  0  7  6  9 13]\n"
     ]
    }
   ],
   "source": [
    "from numpy import array\n",
    "\n",
    "print(\"Random vector of size 10:\")\n",
    "v = np.random.randint(1,20, size = 10)\n",
    "print(v)\n",
    "v[v.argmax()] = 0\n",
    "print(\"\\nReplacing the maximum value by 0:\")\n",
    "print(v)"
   ]
  },
  {
   "cell_type": "markdown",
   "metadata": {},
   "source": [
    "# 9. How to print all the values of an array?"
   ]
  },
  {
   "cell_type": "code",
   "execution_count": 14,
   "metadata": {},
   "outputs": [
    {
     "name": "stdout",
     "output_type": "stream",
     "text": [
      "[  0   1   2   3   4   5   6   7   8   9  10  11  12  13  14  15  16  17\n",
      "  18  19  20  21  22  23  24  25  26  27  28  29  30  31  32  33  34  35\n",
      "  36  37  38  39  40  41  42  43  44  45  46  47  48  49  50  51  52  53\n",
      "  54  55  56  57  58  59  60  61  62  63  64  65  66  67  68  69  70  71\n",
      "  72  73  74  75  76  77  78  79  80  81  82  83  84  85  86  87  88  89\n",
      "  90  91  92  93  94  95  96  97  98  99 100]\n"
     ]
    }
   ],
   "source": [
    "x = np.arange(101)\n",
    "np.set_printoptions(threshold=np.inf)\n",
    "print(x)"
   ]
  },
  {
   "cell_type": "markdown",
   "metadata": {},
   "source": [
    "# 10.Subtract the mean of each row of a matrix."
   ]
  },
  {
   "cell_type": "code",
   "execution_count": 15,
   "metadata": {},
   "outputs": [
    {
     "name": "stdout",
     "output_type": "stream",
     "text": [
      "Original matrix:\n",
      "\n",
      "[[ 0  1  2  3]\n",
      " [ 4  5  6  7]\n",
      " [ 8  9 10 11]]\n",
      "\n",
      "Subtract the mean of each row of the matrix:\n",
      "\n",
      "[[-1.5 -0.5  0.5  1.5]\n",
      " [-1.5 -0.5  0.5  1.5]\n",
      " [-1.5 -0.5  0.5  1.5]]\n"
     ]
    }
   ],
   "source": [
    "import numpy as np\n",
    "\n",
    "print(\"Original matrix:\\n\")\n",
    "a = np.arange(12).reshape(3,4)\n",
    "print(a)\n",
    "print(\"\\nSubtract the mean of each row of the matrix:\\n\")\n",
    "b = a - a.mean(axis=1, keepdims = True)\n",
    "print(b)"
   ]
  },
  {
   "cell_type": "markdown",
   "metadata": {},
   "source": [
    "# 11.Consider a given vector, how to add 1 to each element indexed by a second vector (be careful with repeated indices)?"
   ]
  },
  {
   "cell_type": "code",
   "execution_count": 16,
   "metadata": {},
   "outputs": [
    {
     "name": "stdout",
     "output_type": "stream",
     "text": [
      "Given vector: [2 2 1 2 1 2 7 7]\n",
      "Indexing vector: [0 0 0 0 1 1 2 3]\n",
      "Result: [3 3 2 3 1 2 7 7]\n"
     ]
    }
   ],
   "source": [
    "#Given Vector\n",
    "\n",
    "a = np.random.randint(1,8,8)\n",
    "print(\"Given vector:\", a)\n",
    "b = np.random.randint(a)\n",
    "c = []\n",
    "b.sort()\n",
    "for i in b:\n",
    "    if i not in c:\n",
    "        c.append(i)\n",
    "\n",
    "for j in c:\n",
    "    a[j] += 1\n",
    "\n",
    "print(\"Indexing vector:\", b)\n",
    "print(\"Result:\",a)"
   ]
  },
  {
   "cell_type": "markdown",
   "metadata": {},
   "source": [
    "# 12.How to get the diagonal of a dot product?"
   ]
  },
  {
   "cell_type": "code",
   "execution_count": 17,
   "metadata": {},
   "outputs": [
    {
     "data": {
      "text/plain": [
       "array([ 7, 22])"
      ]
     },
     "execution_count": 17,
     "metadata": {},
     "output_type": "execute_result"
    }
   ],
   "source": [
    "X = [[1,2],[3,4]]\n",
    "Y = [[1,2],[3,4]]\n",
    "Z = np.diag(np.dot(X,Y))\n",
    "Z"
   ]
  },
  {
   "cell_type": "markdown",
   "metadata": {},
   "source": [
    "# 13.How to find the most frequent value in an array?"
   ]
  },
  {
   "cell_type": "code",
   "execution_count": 18,
   "metadata": {},
   "outputs": [
    {
     "name": "stdout",
     "output_type": "stream",
     "text": [
      "Original array:\n",
      "[0 7 0 1 7 2 5 3 5 7 9 4 3 6 1 3 8 4 0 4]\n",
      "Most frequent value in the above array:\n",
      "0\n"
     ]
    }
   ],
   "source": [
    "import numpy as np\n",
    "\n",
    "x = np.random.randint(0, 10, 20)\n",
    "print(\"Original array:\")\n",
    "print(x)\n",
    "print(\"Most frequent value in the above array:\")\n",
    "print(np.bincount(x).argmax())"
   ]
  },
  {
   "cell_type": "markdown",
   "metadata": {},
   "source": [
    "# 14.How to get the n largest values of an array?"
   ]
  },
  {
   "cell_type": "code",
   "execution_count": 19,
   "metadata": {},
   "outputs": [
    {
     "name": "stdout",
     "output_type": "stream",
     "text": [
      "Original array:\n",
      "[0 1 2 3 4 5 6 7 8 9]\n",
      "Largest value of the array is [9]\n"
     ]
    }
   ],
   "source": [
    "import numpy as np\n",
    "\n",
    "x = np.arange(10)\n",
    "print(\"Original array:\")\n",
    "print(x)\n",
    "np.random.shuffle(x)\n",
    "n = 1\n",
    "print(\"Largest value of the array is\",x[np.argsort(x)[-n:]])"
   ]
  },
  {
   "cell_type": "markdown",
   "metadata": {},
   "source": [
    "# 15.How to create a record array from a regular array?"
   ]
  },
  {
   "cell_type": "code",
   "execution_count": 20,
   "metadata": {},
   "outputs": [
    {
     "name": "stdout",
     "output_type": "stream",
     "text": [
      "('Apple', 'Red')\n",
      "('Car', 'Grey')\n",
      "('Bike', 'Orange')\n"
     ]
    }
   ],
   "source": [
    "import numpy as np\n",
    "\n",
    "a1=np.array(['Apple','Car','Bike','Sky'])\n",
    "a2=np.array(['Red','Grey','Orange','Blue'])\n",
    "result= np.core.records.fromarrays([a1, a2])\n",
    "print(result[0])\n",
    "print(result[1])\n",
    "print(result[2])"
   ]
  }
 ],
 "metadata": {
  "kernelspec": {
   "display_name": "Python 3",
   "language": "python",
   "name": "python3"
  },
  "language_info": {
   "codemirror_mode": {
    "name": "ipython",
    "version": 3
   },
   "file_extension": ".py",
   "mimetype": "text/x-python",
   "name": "python",
   "nbconvert_exporter": "python",
   "pygments_lexer": "ipython3",
   "version": "3.7.6"
  }
 },
 "nbformat": 4,
 "nbformat_minor": 4
}
